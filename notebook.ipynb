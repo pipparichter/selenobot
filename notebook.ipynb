{
 "cells": [
  {
   "cell_type": "code",
   "execution_count": 1,
   "id": "38dbe5cd",
   "metadata": {},
   "outputs": [],
   "source": [
    "%load_ext autoreload\n",
    "%autoreload 2"
   ]
  },
  {
   "cell_type": "code",
   "execution_count": 2,
   "id": "cab96b5b",
   "metadata": {},
   "outputs": [],
   "source": [
    "import sys # Not really sure why I need to do this, but oh well. \n",
    "sys.path.append('/home/prichter/Documents/selenobot/src/')"
   ]
  },
  {
   "cell_type": "markdown",
   "id": "0d991967",
   "metadata": {},
   "source": [
    "# Detection task\n",
    "\n",
    "\"Detection task\" refers to the ability of the classifier to identify a sequence as either an erroneously-truncated selenoprotein, or a full-length non-selenoprotein. For this task, we used full-length negative normal proteins as negative test cases. The negative cases did *not* include full-length selenoproteins, as full-length selenoproteins will not be present in the data we use to validate the model. The positive cases consisted of selenoproteins truncated at the *first* selenocysteine residue only.\n",
    "\n",
    "Note that the Jupyter kernel crashes whenever I try to load the `train.csv`, `test.csv`, and `val.csv` into memory (particularly the training set, which is by far the largest), I will characterize the datasets, and print summaries of the train-test-validation split in the `data/setup.py` file."
   ]
  },
  {
   "cell_type": "code",
   "execution_count": 3,
   "id": "8dbb67ce",
   "metadata": {},
   "outputs": [],
   "source": [
    "# Define the data and figure directories. \n",
    "DETECT_DATA_DIR = '/home/prichter/Documents/selenobot/data/detect' \n",
    "DATA_DIR = '/home/prichter/Documents/selenobot/data/' \n",
    "FIGURE_DIR = '/home/prichter/Documents/selenobot/figures/'"
   ]
  },
  {
   "cell_type": "code",
   "execution_count": 4,
   "id": "83f8a355",
   "metadata": {},
   "outputs": [],
   "source": [
    "from src.dataset import Dataset\n",
    "import src.plot as plot\n",
    "import src.classifiers as classifiers\n",
    "import os\n",
    "import matplotlib.pyplot as plt\n",
    "import seaborn as sns\n",
    "import pandas as pd\n",
    "import numpy as np\n",
    "import pickle\n",
    "import torch\n",
    "import pingouin as pg # Stuff for partial correlations. "
   ]
  },
  {
   "cell_type": "code",
   "execution_count": 5,
   "id": "b3f595b1",
   "metadata": {},
   "outputs": [],
   "source": [
    "# Paths where the train and test data are stored. \n",
    "train_path = os.path.join(DETECT_DATA_DIR, 'train.csv')\n",
    "test_path = os.path.join(DETECT_DATA_DIR, 'test.csv')\n",
    "val_path = os.path.join(DETECT_DATA_DIR, 'val.csv')"
   ]
  },
  {
   "cell_type": "markdown",
   "id": "18f6f749",
   "metadata": {},
   "source": [
    "## Benchmarking \n",
    "\n",
    "We are taking two different approaches to model benchmarking. Initially, we just used the amino acid content-based embedding as a benchmark, to confirm that the PLM-generated embeddings captured more than just compositional information (something about the structure and order of the input sequences). Amino acid content embeddings are generated using the `embedders.AacEmbedder` class. \n",
    "\n",
    "After comments from the CEMI presentation, we added an additional benchmark embedding space, based on sequence length alone. This is to make sure that the only reason the classifier is good isn't because the truncated sequences tend to be extra short (although I suspect the AAC embeddings already handle this to an extent). The length embeddings are generated using the `embedders.LengthEmbedder` class, \n",
    "\n"
   ]
  },
  {
   "cell_type": "code",
   "execution_count": 18,
   "id": "df307655",
   "metadata": {},
   "outputs": [],
   "source": [
    "# bce_loss_weight is 1 by default.\n",
    "# with open('length_train_reporter.pkl', 'rb') as length_reporter_file, open('aac_train_reporter.pkl', 'rb') as aac_reporter_file:\n",
    "with open('aac_train_reporter.pkl', 'rb') as aac_reporter_file:\n",
    "    aac_train_reporter = pickle.load(aac_reporter_file)\n",
    "    # length_train_reporter = pickle.load(length_reporter_file)"
   ]
  },
  {
   "cell_type": "code",
   "execution_count": 19,
   "id": "afd8f0c3",
   "metadata": {},
   "outputs": [
    {
     "data": {
      "text/html": [
       "<div>\n",
       "<style scoped>\n",
       "    .dataframe tbody tr th:only-of-type {\n",
       "        vertical-align: middle;\n",
       "    }\n",
       "\n",
       "    .dataframe tbody tr th {\n",
       "        vertical-align: top;\n",
       "    }\n",
       "\n",
       "    .dataframe thead th {\n",
       "        text-align: right;\n",
       "    }\n",
       "</style>\n",
       "<table border=\"1\" class=\"dataframe\">\n",
       "  <thead>\n",
       "    <tr style=\"text-align: right;\">\n",
       "      <th></th>\n",
       "      <th>epoch</th>\n",
       "      <th>variable</th>\n",
       "      <th>metric</th>\n",
       "    </tr>\n",
       "  </thead>\n",
       "  <tbody>\n",
       "    <tr>\n",
       "      <th>0</th>\n",
       "      <td>0</td>\n",
       "      <td>train_loss</td>\n",
       "      <td>0.400135</td>\n",
       "    </tr>\n",
       "    <tr>\n",
       "      <th>1</th>\n",
       "      <td>0</td>\n",
       "      <td>val_loss</td>\n",
       "      <td>0.313358</td>\n",
       "    </tr>\n",
       "  </tbody>\n",
       "</table>\n",
       "</div>"
      ],
      "text/plain": [
       "   epoch    variable    metric\n",
       "0      0  train_loss  0.400135\n",
       "1      0    val_loss  0.313358"
      ]
     },
     "execution_count": 19,
     "metadata": {},
     "output_type": "execute_result"
    }
   ],
   "source": [
    "aac_train_reporter.get_loss_info()"
   ]
  },
  {
   "cell_type": "markdown",
   "id": "4e9dc15b",
   "metadata": {},
   "source": [
    "The training curves for the AAC and length embeddings are given below. Interestingly, in the top panel, it seems as though training loss exceeds validation loss. This is likely due to the large imbalance in the validation set, which contains only 6 percent truncated selenoproteins (as compared to the training set, which contains 25.4 percent truncated selenoproteins). This means that the validation set is a comparatively easier problem -- a low loss socre can be obtained by simply classifying everything as full-length."
   ]
  },
  {
   "cell_type": "code",
   "execution_count": 20,
   "id": "687e6d57",
   "metadata": {},
   "outputs": [
    {
     "ename": "ValueError",
     "evalue": "Could not interpret value `value` for `y`. An entry with this name does not appear in `data`.",
     "output_type": "error",
     "traceback": [
      "\u001b[0;31m---------------------------------------------------------------------------\u001b[0m",
      "\u001b[0;31mValueError\u001b[0m                                Traceback (most recent call last)",
      "\u001b[1;32m/home/prichter/Documents/selenobot/notebook.ipynb Cell 11\u001b[0m line \u001b[0;36m1\n\u001b[0;32m----> <a href='vscode-notebook-cell:/home/prichter/Documents/selenobot/notebook.ipynb#X12sZmlsZQ%3D%3D?line=0'>1</a>\u001b[0m plot\u001b[39m.\u001b[39;49mplot_train_curve(aac_train_reporter, title\u001b[39m=\u001b[39;49m\u001b[39m'\u001b[39;49m\u001b[39mTraining curve for classifier using AAC embeddings\u001b[39;49m\u001b[39m'\u001b[39;49m, path\u001b[39m=\u001b[39;49mos\u001b[39m.\u001b[39;49mpath\u001b[39m.\u001b[39;49mjoin(FIGURE_DIR, \u001b[39m'\u001b[39;49m\u001b[39maac_train_curve.png\u001b[39;49m\u001b[39m'\u001b[39;49m))\n",
      "File \u001b[0;32m~/Documents/selenobot/src/plot.py:43\u001b[0m, in \u001b[0;36mplot_train_curve\u001b[0;34m(reporter, path, title)\u001b[0m\n\u001b[1;32m     41\u001b[0m data \u001b[39m=\u001b[39m reporter\u001b[39m.\u001b[39mget_loss_info()\n\u001b[1;32m     42\u001b[0m data[\u001b[39m'\u001b[39m\u001b[39mmetric\u001b[39m\u001b[39m'\u001b[39m] \u001b[39m=\u001b[39m data[\u001b[39m'\u001b[39m\u001b[39mmetric\u001b[39m\u001b[39m'\u001b[39m]\u001b[39m.\u001b[39mreplace({\u001b[39m'\u001b[39m\u001b[39mval_losses\u001b[39m\u001b[39m'\u001b[39m:\u001b[39m'\u001b[39m\u001b[39mvalidation loss\u001b[39m\u001b[39m'\u001b[39m, \u001b[39m'\u001b[39m\u001b[39mtrain_losses\u001b[39m\u001b[39m'\u001b[39m:\u001b[39m'\u001b[39m\u001b[39mtraining loss\u001b[39m\u001b[39m'\u001b[39m})\n\u001b[0;32m---> 43\u001b[0m ax \u001b[39m=\u001b[39m sns\u001b[39m.\u001b[39;49mlineplot(data\u001b[39m=\u001b[39;49mdata, y\u001b[39m=\u001b[39;49m\u001b[39m'\u001b[39;49m\u001b[39mvalue\u001b[39;49m\u001b[39m'\u001b[39;49m, x\u001b[39m=\u001b[39;49m\u001b[39m'\u001b[39;49m\u001b[39mepoch\u001b[39;49m\u001b[39m'\u001b[39;49m, hue\u001b[39m=\u001b[39;49m\u001b[39m'\u001b[39;49m\u001b[39mmetric\u001b[39;49m\u001b[39m'\u001b[39;49m, ax\u001b[39m=\u001b[39;49max, palette\u001b[39m=\u001b[39;49mPALETTE, style\u001b[39m=\u001b[39;49m\u001b[39m'\u001b[39;49m\u001b[39mmetric\u001b[39;49m\u001b[39m'\u001b[39;49m)\n\u001b[1;32m     44\u001b[0m ax\u001b[39m.\u001b[39mlegend()\u001b[39m.\u001b[39mset_title(\u001b[39m'\u001b[39m\u001b[39m'\u001b[39m) \u001b[39m# Turn off legend title because it looks crowded. \u001b[39;00m\n\u001b[1;32m     46\u001b[0m \u001b[39m# Add horizontal lines designating epochs.\u001b[39;00m\n",
      "File \u001b[0;32m~/miniconda3/envs/selenobot-main/lib/python3.9/site-packages/seaborn/relational.py:479\u001b[0m, in \u001b[0;36mlineplot\u001b[0;34m(data, x, y, hue, size, style, units, palette, hue_order, hue_norm, sizes, size_order, size_norm, dashes, markers, style_order, estimator, errorbar, n_boot, seed, orient, sort, err_style, err_kws, legend, ci, ax, **kwargs)\u001b[0m\n\u001b[1;32m    465\u001b[0m \u001b[39mdef\u001b[39;00m \u001b[39mlineplot\u001b[39m(\n\u001b[1;32m    466\u001b[0m     data\u001b[39m=\u001b[39m\u001b[39mNone\u001b[39;00m, \u001b[39m*\u001b[39m,\n\u001b[1;32m    467\u001b[0m     x\u001b[39m=\u001b[39m\u001b[39mNone\u001b[39;00m, y\u001b[39m=\u001b[39m\u001b[39mNone\u001b[39;00m, hue\u001b[39m=\u001b[39m\u001b[39mNone\u001b[39;00m, size\u001b[39m=\u001b[39m\u001b[39mNone\u001b[39;00m, style\u001b[39m=\u001b[39m\u001b[39mNone\u001b[39;00m, units\u001b[39m=\u001b[39m\u001b[39mNone\u001b[39;00m,\n\u001b[0;32m   (...)\u001b[0m\n\u001b[1;32m    475\u001b[0m \n\u001b[1;32m    476\u001b[0m     \u001b[39m# Handle deprecation of ci parameter\u001b[39;00m\n\u001b[1;32m    477\u001b[0m     errorbar \u001b[39m=\u001b[39m _deprecate_ci(errorbar, ci)\n\u001b[0;32m--> 479\u001b[0m     p \u001b[39m=\u001b[39m _LinePlotter(\n\u001b[1;32m    480\u001b[0m         data\u001b[39m=\u001b[39;49mdata,\n\u001b[1;32m    481\u001b[0m         variables\u001b[39m=\u001b[39;49m\u001b[39mdict\u001b[39;49m(x\u001b[39m=\u001b[39;49mx, y\u001b[39m=\u001b[39;49my, hue\u001b[39m=\u001b[39;49mhue, size\u001b[39m=\u001b[39;49msize, style\u001b[39m=\u001b[39;49mstyle, units\u001b[39m=\u001b[39;49munits),\n\u001b[1;32m    482\u001b[0m         estimator\u001b[39m=\u001b[39;49mestimator, n_boot\u001b[39m=\u001b[39;49mn_boot, seed\u001b[39m=\u001b[39;49mseed, errorbar\u001b[39m=\u001b[39;49merrorbar,\n\u001b[1;32m    483\u001b[0m         sort\u001b[39m=\u001b[39;49msort, orient\u001b[39m=\u001b[39;49morient, err_style\u001b[39m=\u001b[39;49merr_style, err_kws\u001b[39m=\u001b[39;49merr_kws,\n\u001b[1;32m    484\u001b[0m         legend\u001b[39m=\u001b[39;49mlegend,\n\u001b[1;32m    485\u001b[0m     )\n\u001b[1;32m    487\u001b[0m     p\u001b[39m.\u001b[39mmap_hue(palette\u001b[39m=\u001b[39mpalette, order\u001b[39m=\u001b[39mhue_order, norm\u001b[39m=\u001b[39mhue_norm)\n\u001b[1;32m    488\u001b[0m     p\u001b[39m.\u001b[39mmap_size(sizes\u001b[39m=\u001b[39msizes, order\u001b[39m=\u001b[39msize_order, norm\u001b[39m=\u001b[39msize_norm)\n",
      "File \u001b[0;32m~/miniconda3/envs/selenobot-main/lib/python3.9/site-packages/seaborn/relational.py:215\u001b[0m, in \u001b[0;36m_LinePlotter.__init__\u001b[0;34m(self, data, variables, estimator, n_boot, seed, errorbar, sort, orient, err_style, err_kws, legend)\u001b[0m\n\u001b[1;32m    201\u001b[0m \u001b[39mdef\u001b[39;00m \u001b[39m__init__\u001b[39m(\n\u001b[1;32m    202\u001b[0m     \u001b[39mself\u001b[39m, \u001b[39m*\u001b[39m,\n\u001b[1;32m    203\u001b[0m     data\u001b[39m=\u001b[39m\u001b[39mNone\u001b[39;00m, variables\u001b[39m=\u001b[39m{},\n\u001b[0;32m   (...)\u001b[0m\n\u001b[1;32m    209\u001b[0m     \u001b[39m# the kind of plot to draw, but for the time being we need to set\u001b[39;00m\n\u001b[1;32m    210\u001b[0m     \u001b[39m# this information so the SizeMapping can use it\u001b[39;00m\n\u001b[1;32m    211\u001b[0m     \u001b[39mself\u001b[39m\u001b[39m.\u001b[39m_default_size_range \u001b[39m=\u001b[39m (\n\u001b[1;32m    212\u001b[0m         np\u001b[39m.\u001b[39mr_[\u001b[39m.5\u001b[39m, \u001b[39m2\u001b[39m] \u001b[39m*\u001b[39m mpl\u001b[39m.\u001b[39mrcParams[\u001b[39m\"\u001b[39m\u001b[39mlines.linewidth\u001b[39m\u001b[39m\"\u001b[39m]\n\u001b[1;32m    213\u001b[0m     )\n\u001b[0;32m--> 215\u001b[0m     \u001b[39msuper\u001b[39;49m()\u001b[39m.\u001b[39;49m\u001b[39m__init__\u001b[39;49m(data\u001b[39m=\u001b[39;49mdata, variables\u001b[39m=\u001b[39;49mvariables)\n\u001b[1;32m    217\u001b[0m     \u001b[39mself\u001b[39m\u001b[39m.\u001b[39mestimator \u001b[39m=\u001b[39m estimator\n\u001b[1;32m    218\u001b[0m     \u001b[39mself\u001b[39m\u001b[39m.\u001b[39merrorbar \u001b[39m=\u001b[39m errorbar\n",
      "File \u001b[0;32m~/miniconda3/envs/selenobot-main/lib/python3.9/site-packages/seaborn/_base.py:634\u001b[0m, in \u001b[0;36mVectorPlotter.__init__\u001b[0;34m(self, data, variables)\u001b[0m\n\u001b[1;32m    629\u001b[0m \u001b[39m# var_ordered is relevant only for categorical axis variables, and may\u001b[39;00m\n\u001b[1;32m    630\u001b[0m \u001b[39m# be better handled by an internal axis information object that tracks\u001b[39;00m\n\u001b[1;32m    631\u001b[0m \u001b[39m# such information and is set up by the scale_* methods. The analogous\u001b[39;00m\n\u001b[1;32m    632\u001b[0m \u001b[39m# information for numeric axes would be information about log scales.\u001b[39;00m\n\u001b[1;32m    633\u001b[0m \u001b[39mself\u001b[39m\u001b[39m.\u001b[39m_var_ordered \u001b[39m=\u001b[39m {\u001b[39m\"\u001b[39m\u001b[39mx\u001b[39m\u001b[39m\"\u001b[39m: \u001b[39mFalse\u001b[39;00m, \u001b[39m\"\u001b[39m\u001b[39my\u001b[39m\u001b[39m\"\u001b[39m: \u001b[39mFalse\u001b[39;00m}  \u001b[39m# alt., used DefaultDict\u001b[39;00m\n\u001b[0;32m--> 634\u001b[0m \u001b[39mself\u001b[39;49m\u001b[39m.\u001b[39;49massign_variables(data, variables)\n\u001b[1;32m    636\u001b[0m \u001b[39m# TODO Lots of tests assume that these are called to initialize the\u001b[39;00m\n\u001b[1;32m    637\u001b[0m \u001b[39m# mappings to default values on class initialization. I'd prefer to\u001b[39;00m\n\u001b[1;32m    638\u001b[0m \u001b[39m# move away from that and only have a mapping when explicitly called.\u001b[39;00m\n\u001b[1;32m    639\u001b[0m \u001b[39mfor\u001b[39;00m var \u001b[39min\u001b[39;00m [\u001b[39m\"\u001b[39m\u001b[39mhue\u001b[39m\u001b[39m\"\u001b[39m, \u001b[39m\"\u001b[39m\u001b[39msize\u001b[39m\u001b[39m\"\u001b[39m, \u001b[39m\"\u001b[39m\u001b[39mstyle\u001b[39m\u001b[39m\"\u001b[39m]:\n",
      "File \u001b[0;32m~/miniconda3/envs/selenobot-main/lib/python3.9/site-packages/seaborn/_base.py:679\u001b[0m, in \u001b[0;36mVectorPlotter.assign_variables\u001b[0;34m(self, data, variables)\u001b[0m\n\u001b[1;32m    674\u001b[0m \u001b[39melse\u001b[39;00m:\n\u001b[1;32m    675\u001b[0m     \u001b[39m# When dealing with long-form input, use the newer PlotData\u001b[39;00m\n\u001b[1;32m    676\u001b[0m     \u001b[39m# object (internal but introduced for the objects interface)\u001b[39;00m\n\u001b[1;32m    677\u001b[0m     \u001b[39m# to centralize / standardize data consumption logic.\u001b[39;00m\n\u001b[1;32m    678\u001b[0m     \u001b[39mself\u001b[39m\u001b[39m.\u001b[39minput_format \u001b[39m=\u001b[39m \u001b[39m\"\u001b[39m\u001b[39mlong\u001b[39m\u001b[39m\"\u001b[39m\n\u001b[0;32m--> 679\u001b[0m     plot_data \u001b[39m=\u001b[39m PlotData(data, variables)\n\u001b[1;32m    680\u001b[0m     frame \u001b[39m=\u001b[39m plot_data\u001b[39m.\u001b[39mframe\n\u001b[1;32m    681\u001b[0m     names \u001b[39m=\u001b[39m plot_data\u001b[39m.\u001b[39mnames\n",
      "File \u001b[0;32m~/miniconda3/envs/selenobot-main/lib/python3.9/site-packages/seaborn/_core/data.py:58\u001b[0m, in \u001b[0;36mPlotData.__init__\u001b[0;34m(self, data, variables)\u001b[0m\n\u001b[1;32m     51\u001b[0m \u001b[39mdef\u001b[39;00m \u001b[39m__init__\u001b[39m(\n\u001b[1;32m     52\u001b[0m     \u001b[39mself\u001b[39m,\n\u001b[1;32m     53\u001b[0m     data: DataSource,\n\u001b[1;32m     54\u001b[0m     variables: \u001b[39mdict\u001b[39m[\u001b[39mstr\u001b[39m, VariableSpec],\n\u001b[1;32m     55\u001b[0m ):\n\u001b[1;32m     57\u001b[0m     data \u001b[39m=\u001b[39m handle_data_source(data)\n\u001b[0;32m---> 58\u001b[0m     frame, names, ids \u001b[39m=\u001b[39m \u001b[39mself\u001b[39;49m\u001b[39m.\u001b[39;49m_assign_variables(data, variables)\n\u001b[1;32m     60\u001b[0m     \u001b[39mself\u001b[39m\u001b[39m.\u001b[39mframe \u001b[39m=\u001b[39m frame\n\u001b[1;32m     61\u001b[0m     \u001b[39mself\u001b[39m\u001b[39m.\u001b[39mnames \u001b[39m=\u001b[39m names\n",
      "File \u001b[0;32m~/miniconda3/envs/selenobot-main/lib/python3.9/site-packages/seaborn/_core/data.py:232\u001b[0m, in \u001b[0;36mPlotData._assign_variables\u001b[0;34m(self, data, variables)\u001b[0m\n\u001b[1;32m    230\u001b[0m     \u001b[39melse\u001b[39;00m:\n\u001b[1;32m    231\u001b[0m         err \u001b[39m+\u001b[39m\u001b[39m=\u001b[39m \u001b[39m\"\u001b[39m\u001b[39mAn entry with this name does not appear in `data`.\u001b[39m\u001b[39m\"\u001b[39m\n\u001b[0;32m--> 232\u001b[0m     \u001b[39mraise\u001b[39;00m \u001b[39mValueError\u001b[39;00m(err)\n\u001b[1;32m    234\u001b[0m \u001b[39melse\u001b[39;00m:\n\u001b[1;32m    235\u001b[0m \n\u001b[1;32m    236\u001b[0m     \u001b[39m# Otherwise, assume the value somehow represents data\u001b[39;00m\n\u001b[1;32m    237\u001b[0m \n\u001b[1;32m    238\u001b[0m     \u001b[39m# Ignore empty data structures\u001b[39;00m\n\u001b[1;32m    239\u001b[0m     \u001b[39mif\u001b[39;00m \u001b[39misinstance\u001b[39m(val, Sized) \u001b[39mand\u001b[39;00m \u001b[39mlen\u001b[39m(val) \u001b[39m==\u001b[39m \u001b[39m0\u001b[39m:\n",
      "\u001b[0;31mValueError\u001b[0m: Could not interpret value `value` for `y`. An entry with this name does not appear in `data`."
     ]
    },
    {
     "data": {
      "image/png": "[encoded data removed]",
      "text/plain": [
       "<Figure size 400x300 with 1 Axes>"
      ]
     },
     "metadata": {},
     "output_type": "display_data"
    }
   ],
   "source": [
    "plot.plot_train_curve(aac_train_reporter, title='Training curve for classifier using AAC embeddings', path=os.path.join(FIGURE_DIR, 'aac_train_curve.png'))\n",
    "# plot.plot_train_curve(length_train_reporter, title='Training curve for classifier using length embeddings', path=os.path.join(FIGURE_DIR, 'length_train_curve.png'))"
   ]
  },
  {
   "cell_type": "code",
   "execution_count": null,
   "id": "57882eed",
   "metadata": {},
   "outputs": [
    {
     "ename": "NameError",
     "evalue": "name 'aac_model' is not defined",
     "output_type": "error",
     "traceback": [
      "\u001b[0;31m---------------------------------------------------------------------------\u001b[0m",
      "\u001b[0;31mNameError\u001b[0m                                 Traceback (most recent call last)",
      "\u001b[1;32m/home/prichter/Documents/selenobot/notebook.ipynb Cell 11\u001b[0m line \u001b[0;36m1\n\u001b[0;32m----> <a href='vscode-notebook-cell:/home/prichter/Documents/selenobot/notebook.ipynb#X13sZmlsZQ%3D%3D?line=0'>1</a>\u001b[0m \u001b[39mprint\u001b[39m(\u001b[39m'\u001b[39m\u001b[39mFinal balanced accuracy for AAC embeddings on test data:\u001b[39m\u001b[39m'\u001b[39m, aac_model\u001b[39m.\u001b[39mtest(aac_test_dataloader)\u001b[39m.\u001b[39mget_test_accs()[\u001b[39m0\u001b[39m])\n\u001b[1;32m      <a href='vscode-notebook-cell:/home/prichter/Documents/selenobot/notebook.ipynb#X13sZmlsZQ%3D%3D?line=1'>2</a>\u001b[0m \u001b[39mprint\u001b[39m(\u001b[39m'\u001b[39m\u001b[39mFinal balanced accuracy for length embeddings on test data:\u001b[39m\u001b[39m'\u001b[39m, length_model\u001b[39m.\u001b[39mtest(length_test_dataloader)\u001b[39m.\u001b[39mget_test_accs()[\u001b[39m0\u001b[39m])\n",
      "\u001b[0;31mNameError\u001b[0m: name 'aac_model' is not defined"
     ]
    }
   ],
   "source": [
    "print('Final balanced accuracy for AAC embeddings on test data:', aac_model.test(aac_test_dataloader).get_test_accs()[0])\n",
    "print('Final balanced accuracy for length embeddings on test data:', length_model.test(length_test_dataloader).get_test_accs()[0])"
   ]
  },
  {
   "cell_type": "markdown",
   "id": "9110b593",
   "metadata": {},
   "source": [
    "The accuracy of the length-based classifier seems shockingly high to me. Let's take a look at the confusion matrix. We can see that the length model is essentially just always predicting negative. But then, why is the balanced accuracy? The first value `tp / (tp + fn)`, should be zero. *Update: I had `y_true` and `y_pred` switched in the input to the `sklearn` balanced accuracy function!*"
   ]
  },
  {
   "cell_type": "code",
   "execution_count": null,
   "id": "603aa26e",
   "metadata": {},
   "outputs": [
    {
     "ename": "NameError",
     "evalue": "name 'length_model' is not defined",
     "output_type": "error",
     "traceback": [
      "\u001b[0;31m---------------------------------------------------------------------------\u001b[0m",
      "\u001b[0;31mNameError\u001b[0m                                 Traceback (most recent call last)",
      "\u001b[1;32m/home/prichter/Documents/selenobot/notebook.ipynb Cell 13\u001b[0m line \u001b[0;36m1\n\u001b[0;32m----> <a href='vscode-notebook-cell:/home/prichter/Documents/selenobot/notebook.ipynb#X26sZmlsZQ%3D%3D?line=0'>1</a>\u001b[0m (tn, fp, fn, tp) \u001b[39m=\u001b[39m length_model\u001b[39m.\u001b[39mtest(length_test_dataloader)\u001b[39m.\u001b[39mget_confusion_matrix()\n\u001b[1;32m      <a href='vscode-notebook-cell:/home/prichter/Documents/selenobot/notebook.ipynb#X26sZmlsZQ%3D%3D?line=2'>3</a>\u001b[0m \u001b[39mprint\u001b[39m(\u001b[39m'\u001b[39m\u001b[39mConfusion matrix for length-based classifier:\u001b[39m\u001b[39m'\u001b[39m)\n\u001b[1;32m      <a href='vscode-notebook-cell:/home/prichter/Documents/selenobot/notebook.ipynb#X26sZmlsZQ%3D%3D?line=3'>4</a>\u001b[0m \u001b[39mprint\u001b[39m(\u001b[39m'\u001b[39m\u001b[39mTrue negative:\u001b[39m\u001b[39m'\u001b[39m, tn)\n",
      "\u001b[0;31mNameError\u001b[0m: name 'length_model' is not defined"
     ]
    }
   ],
   "source": [
    "(tn, fp, fn, tp) = length_model.test(length_test_dataloader).get_confusion_matrix()\n",
    "\n",
    "print('Confusion matrix for length-based classifier:')\n",
    "print('True negative:', tn)\n",
    "print('False positive:', fp)\n",
    "print('False negative:', fn)\n",
    "print('True positive:', tp)"
   ]
  },
  {
   "cell_type": "code",
   "execution_count": null,
   "id": "0fe54c6c",
   "metadata": {},
   "outputs": [
    {
     "name": "stdout",
     "output_type": "stream",
     "text": [
      "Confusion matrix for AAC-based classifier:\n",
      "True negative: 63723\n",
      "False positive: 3861\n",
      "False negative: 4826\n",
      "True positive: 17702\n"
     ]
    }
   ],
   "source": [
    "(tn, fp, fn, tp) = aac_model.test(aac_test_dataloader).get_confusion_matrix()\n",
    "\n",
    "print('Confusion matrix for AAC-based classifier:')\n",
    "print('True negative:', tn)\n",
    "print('False positive:', fp)\n",
    "print('False negative:', fn)\n",
    "print('True positive:', tp)"
   ]
  },
  {
   "cell_type": "markdown",
   "id": "22c14ca0",
   "metadata": {},
   "source": [
    "## Protein language model embedding-based classification"
   ]
  },
  {
   "cell_type": "code",
   "execution_count": null,
   "id": "95ff974d",
   "metadata": {},
   "outputs": [],
   "source": [
    "# bce_loss_weight is 1 by default.\n",
    "with open('length_reporter.pkl', 'rb') as length_reporter_file, open('aac_reporter.pkl', 'rb') as aac_reporter_file:\n",
    "    plm_train_reporter = pickle.load(plm_reporter_file)\n",
    "    length_train_reporter = pickle.load(aac_reporter_file)"
   ]
  },
  {
   "cell_type": "code",
   "execution_count": null,
   "id": "9df525dc",
   "metadata": {},
   "outputs": [],
   "source": []
  },
  {
   "cell_type": "code",
   "execution_count": null,
   "id": "c6e4d5fc",
   "metadata": {},
   "outputs": [],
   "source": [
    "thresholds = list(np.arange(0, 1.1, 0.1))\n",
    "\n",
    "threshold_data = {}\n",
    "threshold_data['plm'] = classifiers.test_thresholds(plm_model, plm_test_dataloader, thresholds=thresholds)\n",
    "threshold_data['aac'] = classifiers.test_thresholds(aac_model, aac_test_dataloader, thresholds=thresholds)\n",
    "threshold_data['length'] = classifiers.test_thresholds(length_model, length_test_dataloader, thresholds=thresholds)"
   ]
  },
  {
   "cell_type": "code",
   "execution_count": null,
   "id": "7f29ddc5",
   "metadata": {},
   "outputs": [
    {
     "data": {
      "image/png": "[encoded data removed]",
      "text/plain": [
       "<Figure size 400x300 with 1 Axes>"
      ]
     },
     "metadata": {},
     "output_type": "display_data"
    },
    {
     "data": {
      "image/png": "[encoded data removed]",
      "text/plain": [
       "<Figure size 400x300 with 1 Axes>"
      ]
     },
     "metadata": {},
     "output_type": "display_data"
    }
   ],
   "source": [
    "plot.plot_receiver_operator_curves(threshold_data, title='ROC curves for PLM and benchmark classifiers', path=os.path.join(FIGURE_DIR, 'roc_curves.png')) \n",
    "plot.plot_precision_recall_curves(threshold_data, title='Precision-recall curves for PLM and benchmark classifiers', path=os.path.join(FIGURE_DIR, 'pr_curves.png')) "
   ]
  },
  {
   "cell_type": "markdown",
   "id": "49021827",
   "metadata": {},
   "source": [
    "## Model validation\n",
    "\n",
    "Josh embedded all genomes in GTDB using the Prot-T5 model, and ran it through the trained classifier to select proteins which are likely to have been erroneously truncated. The proteins were sorted by genome, so data is reported for each indidual genome in GTDB. The genome ID is given as the `DataFrame` index. Column descriptions are given below. *What file in the GTDB repository did Josh use for embeddings?*\n",
    "\n",
    "1. `total_hits` gives the total number of predicted selenoproteins in the genome. \n",
    "2. `hits_with_annotation` refers to the number of flagged potential selenoproteins which have annotations, generated using `kofamscan`. \n",
    "3. `total_genes` gives the total number of genes detected in the genome. \n",
    "4. `total_genes_with_annotation` gives the total number of genes successfully annotated with a KO group using `kofamscan`.\n",
    "5. `selD_copy_num` is the number of copies of selD in the genome. The role of selD  is to provide reduced and active selenium forthe production of selenocysteine-carrying tRNA ([Bock et. al 1991](https://onlinelibrary.wiley.com/doi/epdf/10.1111/j.1365-2958.1991.tb00722.x)).\n",
    "\n",
    "Then, I added a column to the GTDB data which gives the ration of selenoprotein \"hits\" to total identified proteins. This will hopefully account for any bias towards large genomes being marked as having high selenoprotein content, just because they are larger. Also, the taxonomy data loaded above is parsed and added to the `DataFrame` in which the GTDB selenoprotein data is stored. \n"
   ]
  },
  {
   "cell_type": "code",
   "execution_count": null,
   "id": "86eb5c84",
   "metadata": {},
   "outputs": [
    {
     "name": "stdout",
     "output_type": "stream",
     "text": [
      "Columns: total_hits, hits_with_annotation, total_genes, total_genes_with_annotation, selD_copy_num\n"
     ]
    }
   ],
   "source": [
    "gtdb_data = pd.read_pickle('/home/prichter/Documents/selenobot/data/gtdb_r207/selenoprotein_results.30Sep2023.pkl')\n",
    "print('Columns:', ', '.join(list(gtdb_data.columns)))\n",
    "\n",
    "gtdb_data['genome_id'] = gtdb_data.index\n",
    "gtdb_data['selenoprotein_ratio'] = gtdb_data['total_hits'] / gtdb_data['total_genes']"
   ]
  },
  {
   "cell_type": "markdown",
   "id": "2847f354",
   "metadata": {},
   "source": [
    "The first question I had about the data is which species contain the greatest number of flagged selenoproteins? In order to get more informative results about the types of organisms which are enriched for selenoproteins, I added taxonomical information to the data generated on GTDB. To do so, I first merged the taxonomy data for archaea and bacteria stored across two files on the GTDB repository."
   ]
  },
  {
   "cell_type": "code",
   "execution_count": null,
   "id": "4d19a109",
   "metadata": {},
   "outputs": [],
   "source": [
    "# What do the 53 and 120 after the archaea and bacteria filenames represent?\n",
    "ar53_taxonomy_path = os.path.join(DATA_DIR, 'gtdb_r207', 'ar53_taxonomy_r207.tsv')\n",
    "bac120_taxonomy_path = os.path.join(DATA_DIR, 'gtdb_r207', 'bac120_taxonomy_r207.tsv')"
   ]
  },
  {
   "cell_type": "code",
   "execution_count": null,
   "id": "b04000a1",
   "metadata": {},
   "outputs": [
    {
     "data": {
      "text/html": [
       "<div>\n",
       "<style scoped>\n",
       "    .dataframe tbody tr th:only-of-type {\n",
       "        vertical-align: middle;\n",
       "    }\n",
       "\n",
       "    .dataframe tbody tr th {\n",
       "        vertical-align: top;\n",
       "    }\n",
       "\n",
       "    .dataframe thead th {\n",
       "        text-align: right;\n",
       "    }\n",
       "</style>\n",
       "<table border=\"1\" class=\"dataframe\">\n",
       "  <thead>\n",
       "    <tr style=\"text-align: right;\">\n",
       "      <th></th>\n",
       "      <th>genome_id</th>\n",
       "      <th>domain</th>\n",
       "      <th>phylum</th>\n",
       "      <th>class</th>\n",
       "      <th>order</th>\n",
       "      <th>family</th>\n",
       "      <th>genus</th>\n",
       "      <th>species</th>\n",
       "    </tr>\n",
       "  </thead>\n",
       "  <tbody>\n",
       "    <tr>\n",
       "      <th>0</th>\n",
       "      <td>RS_GCF_000979375.1</td>\n",
       "      <td>Archaea</td>\n",
       "      <td>Halobacteriota</td>\n",
       "      <td>Methanosarcinia</td>\n",
       "      <td>Methanosarcinales</td>\n",
       "      <td>Methanosarcinaceae</td>\n",
       "      <td>Methanosarcina</td>\n",
       "      <td>Methanosarcina mazei</td>\n",
       "    </tr>\n",
       "    <tr>\n",
       "      <th>1</th>\n",
       "      <td>RS_GCF_000970165.1</td>\n",
       "      <td>Archaea</td>\n",
       "      <td>Halobacteriota</td>\n",
       "      <td>Methanosarcinia</td>\n",
       "      <td>Methanosarcinales</td>\n",
       "      <td>Methanosarcinaceae</td>\n",
       "      <td>Methanosarcina</td>\n",
       "      <td>Methanosarcina mazei</td>\n",
       "    </tr>\n",
       "    <tr>\n",
       "      <th>2</th>\n",
       "      <td>RS_GCF_000979555.1</td>\n",
       "      <td>Archaea</td>\n",
       "      <td>Halobacteriota</td>\n",
       "      <td>Methanosarcinia</td>\n",
       "      <td>Methanosarcinales</td>\n",
       "      <td>Methanosarcinaceae</td>\n",
       "      <td>Methanosarcina</td>\n",
       "      <td>Methanosarcina mazei</td>\n",
       "    </tr>\n",
       "    <tr>\n",
       "      <th>3</th>\n",
       "      <td>RS_GCF_000980105.1</td>\n",
       "      <td>Archaea</td>\n",
       "      <td>Halobacteriota</td>\n",
       "      <td>Methanosarcinia</td>\n",
       "      <td>Methanosarcinales</td>\n",
       "      <td>Methanosarcinaceae</td>\n",
       "      <td>Methanosarcina</td>\n",
       "      <td>Methanosarcina mazei</td>\n",
       "    </tr>\n",
       "    <tr>\n",
       "      <th>4</th>\n",
       "      <td>RS_GCF_000007065.1</td>\n",
       "      <td>Archaea</td>\n",
       "      <td>Halobacteriota</td>\n",
       "      <td>Methanosarcinia</td>\n",
       "      <td>Methanosarcinales</td>\n",
       "      <td>Methanosarcinaceae</td>\n",
       "      <td>Methanosarcina</td>\n",
       "      <td>Methanosarcina mazei</td>\n",
       "    </tr>\n",
       "  </tbody>\n",
       "</table>\n",
       "</div>"
      ],
      "text/plain": [
       "            genome_id   domain          phylum            class  \\\n",
       "0  RS_GCF_000979375.1  Archaea  Halobacteriota  Methanosarcinia   \n",
       "1  RS_GCF_000970165.1  Archaea  Halobacteriota  Methanosarcinia   \n",
       "2  RS_GCF_000979555.1  Archaea  Halobacteriota  Methanosarcinia   \n",
       "3  RS_GCF_000980105.1  Archaea  Halobacteriota  Methanosarcinia   \n",
       "4  RS_GCF_000007065.1  Archaea  Halobacteriota  Methanosarcinia   \n",
       "\n",
       "               order              family           genus               species  \n",
       "0  Methanosarcinales  Methanosarcinaceae  Methanosarcina  Methanosarcina mazei  \n",
       "1  Methanosarcinales  Methanosarcinaceae  Methanosarcina  Methanosarcina mazei  \n",
       "2  Methanosarcinales  Methanosarcinaceae  Methanosarcina  Methanosarcina mazei  \n",
       "3  Methanosarcinales  Methanosarcinaceae  Methanosarcina  Methanosarcina mazei  \n",
       "4  Methanosarcinales  Methanosarcinaceae  Methanosarcina  Methanosarcina mazei  "
      ]
     },
     "execution_count": 30,
     "metadata": {},
     "output_type": "execute_result"
    }
   ],
   "source": [
    "# ! cat /home/prichter/Documents/selenobot/data/gtdb_08_rs214/ar53_taxonomy.tsv /home/prichter/Documents/selenobot/data/gtdb_08_rs214/bac120_taxonomy.tsv >> /home/prichter/Documents/selenobot/data/gtdb_08_rs214/taxonomy.tsv \n",
    "taxonomy_data = pd.concat([pd.read_csv(ar53_taxonomy_path, delimiter='\\t', names=['genome_id', 'taxonomy']), pd.read_csv(bac120_taxonomy_path, delimiter='\\t',  names=['genome_id', 'taxonomy'])])\n",
    "taxonomy_data = parse_taxonomy_data(taxonomy_data)\n",
    "taxonomy_data.head()"
   ]
  },
  {
   "cell_type": "markdown",
   "id": "3c6742ad",
   "metadata": {},
   "source": [
    "Before merging the taxonomy data with the results from running the model on GTDB, I want to confirm that some assumptions I am making about the `taxonomy_data` and the `gtdb_data` aren't going to trip me up (as I suspect they currently are). The issue I was having (and am no longer having) was due to the fact that I had downloaded data from the wrong GTDB release. This is fixed now!"
   ]
  },
  {
   "cell_type": "code",
   "execution_count": null,
   "id": "691d3935",
   "metadata": {},
   "outputs": [
    {
     "name": "stdout",
     "output_type": "stream",
     "text": [
      "Number of genomes in taxonomy_data: 317542\n",
      "Number of genomes in gtdb_data: 65689\n",
      "Number of genes in both taxonomy and gtdb -_data: 65689\n"
     ]
    }
   ],
   "source": [
    "genome_ids_in_taxonomy_data = set(taxonomy_data['genome_id'])\n",
    "genome_ids_in_gtdb_data = set(gtdb_data['genome_id'])\n",
    "\n",
    "print('Number of genomes in taxonomy_data:', len(genome_ids_in_taxonomy_data))\n",
    "print('Number of genomes in gtdb_data:', len(genome_ids_in_gtdb_data))\n",
    "print('Number of genes in both taxonomy and gtdb -_data:', len(genome_ids_in_gtdb_data.intersection(genome_ids_in_taxonomy_data)))"
   ]
  },
  {
   "cell_type": "code",
   "execution_count": null,
   "id": "0853ca8f",
   "metadata": {},
   "outputs": [
    {
     "data": {
      "text/html": [
       "<div>\n",
       "<style scoped>\n",
       "    .dataframe tbody tr th:only-of-type {\n",
       "        vertical-align: middle;\n",
       "    }\n",
       "\n",
       "    .dataframe tbody tr th {\n",
       "        vertical-align: top;\n",
       "    }\n",
       "\n",
       "    .dataframe thead th {\n",
       "        text-align: right;\n",
       "    }\n",
       "</style>\n",
       "<table border=\"1\" class=\"dataframe\">\n",
       "  <thead>\n",
       "    <tr style=\"text-align: right;\">\n",
       "      <th></th>\n",
       "      <th>total_hits</th>\n",
       "      <th>hits_with_annotation</th>\n",
       "      <th>total_genes</th>\n",
       "      <th>total_genes_with_annotation</th>\n",
       "      <th>selD_copy_num</th>\n",
       "      <th>genome_id</th>\n",
       "      <th>selenoprotein_ratio</th>\n",
       "      <th>domain</th>\n",
       "      <th>phylum</th>\n",
       "      <th>class</th>\n",
       "      <th>order</th>\n",
       "      <th>family</th>\n",
       "      <th>genus</th>\n",
       "      <th>species</th>\n",
       "    </tr>\n",
       "  </thead>\n",
       "  <tbody>\n",
       "    <tr>\n",
       "      <th>0</th>\n",
       "      <td>14</td>\n",
       "      <td>{'K01915': 1}</td>\n",
       "      <td>1306</td>\n",
       "      <td>773</td>\n",
       "      <td>0</td>\n",
       "      <td>GB_GCA_014654065.1</td>\n",
       "      <td>0.01072</td>\n",
       "      <td>Bacteria</td>\n",
       "      <td>Proteobacteria</td>\n",
       "      <td>Alphaproteobacteria</td>\n",
       "      <td>Pelagibacterales</td>\n",
       "      <td>Pelagibacteraceae</td>\n",
       "      <td>Pelagibacter</td>\n",
       "      <td>Pelagibacter sp014654065</td>\n",
       "    </tr>\n",
       "    <tr>\n",
       "      <th>1</th>\n",
       "      <td>32</td>\n",
       "      <td>{'K00179': 1, 'K00826': 1}</td>\n",
       "      <td>1496</td>\n",
       "      <td>722</td>\n",
       "      <td>0</td>\n",
       "      <td>GB_GCA_002479145.1</td>\n",
       "      <td>0.02139</td>\n",
       "      <td>Bacteria</td>\n",
       "      <td>Bacteroidota</td>\n",
       "      <td>Bacteroidia</td>\n",
       "      <td>Bacteroidales</td>\n",
       "      <td>Bacteroidaceae</td>\n",
       "      <td>Prevotella</td>\n",
       "      <td>Prevotella sp002479145</td>\n",
       "    </tr>\n",
       "    <tr>\n",
       "      <th>2</th>\n",
       "      <td>178</td>\n",
       "      <td>{'K00228': 1, 'K01126': 1, 'K01995': 1, 'K0199...</td>\n",
       "      <td>4682</td>\n",
       "      <td>2489</td>\n",
       "      <td>2</td>\n",
       "      <td>GB_GCA_014377155.1</td>\n",
       "      <td>0.038018</td>\n",
       "      <td>Bacteria</td>\n",
       "      <td>Proteobacteria</td>\n",
       "      <td>Gammaproteobacteria</td>\n",
       "      <td>Burkholderiales</td>\n",
       "      <td>Burkholderiaceae</td>\n",
       "      <td>CAILRJ01</td>\n",
       "      <td>CAILRJ01 sp014377155</td>\n",
       "    </tr>\n",
       "    <tr>\n",
       "      <th>3</th>\n",
       "      <td>185</td>\n",
       "      <td>{'K00118': 1, 'K00655': 1, 'K01077': 1, 'K0174...</td>\n",
       "      <td>2170</td>\n",
       "      <td>886</td>\n",
       "      <td>0</td>\n",
       "      <td>GB_GCA_903829855.1</td>\n",
       "      <td>0.085253</td>\n",
       "      <td>Bacteria</td>\n",
       "      <td>Verrucomicrobiota</td>\n",
       "      <td>Verrucomicrobiae</td>\n",
       "      <td>Opitutales</td>\n",
       "      <td>UBA953</td>\n",
       "      <td>UBA953</td>\n",
       "      <td>UBA953 sp903829855</td>\n",
       "    </tr>\n",
       "    <tr>\n",
       "      <th>4</th>\n",
       "      <td>11</td>\n",
       "      <td>{}</td>\n",
       "      <td>600</td>\n",
       "      <td>284</td>\n",
       "      <td>0</td>\n",
       "      <td>GB_GCA_002923395.1</td>\n",
       "      <td>0.018333</td>\n",
       "      <td>Bacteria</td>\n",
       "      <td>Patescibacteria</td>\n",
       "      <td>Paceibacteria</td>\n",
       "      <td>Paceibacterales</td>\n",
       "      <td>HRBIN34</td>\n",
       "      <td>HRBIN34</td>\n",
       "      <td>HRBIN34 sp002923395</td>\n",
       "    </tr>\n",
       "  </tbody>\n",
       "</table>\n",
       "</div>"
      ],
      "text/plain": [
       "  total_hits                               hits_with_annotation total_genes  \\\n",
       "0         14                                      {'K01915': 1}        1306   \n",
       "1         32                         {'K00179': 1, 'K00826': 1}        1496   \n",
       "2        178  {'K00228': 1, 'K01126': 1, 'K01995': 1, 'K0199...        4682   \n",
       "3        185  {'K00118': 1, 'K00655': 1, 'K01077': 1, 'K0174...        2170   \n",
       "4         11                                                 {}         600   \n",
       "\n",
       "  total_genes_with_annotation selD_copy_num           genome_id  \\\n",
       "0                         773             0  GB_GCA_014654065.1   \n",
       "1                         722             0  GB_GCA_002479145.1   \n",
       "2                        2489             2  GB_GCA_014377155.1   \n",
       "3                         886             0  GB_GCA_903829855.1   \n",
       "4                         284             0  GB_GCA_002923395.1   \n",
       "\n",
       "  selenoprotein_ratio    domain             phylum                class  \\\n",
       "0             0.01072  Bacteria     Proteobacteria  Alphaproteobacteria   \n",
       "1             0.02139  Bacteria       Bacteroidota          Bacteroidia   \n",
       "2            0.038018  Bacteria     Proteobacteria  Gammaproteobacteria   \n",
       "3            0.085253  Bacteria  Verrucomicrobiota     Verrucomicrobiae   \n",
       "4            0.018333  Bacteria    Patescibacteria        Paceibacteria   \n",
       "\n",
       "              order             family         genus                   species  \n",
       "0  Pelagibacterales  Pelagibacteraceae  Pelagibacter  Pelagibacter sp014654065  \n",
       "1     Bacteroidales     Bacteroidaceae    Prevotella    Prevotella sp002479145  \n",
       "2   Burkholderiales   Burkholderiaceae      CAILRJ01      CAILRJ01 sp014377155  \n",
       "3        Opitutales             UBA953        UBA953        UBA953 sp903829855  \n",
       "4   Paceibacterales            HRBIN34       HRBIN34       HRBIN34 sp002923395  "
      ]
     },
     "execution_count": 32,
     "metadata": {},
     "output_type": "execute_result"
    }
   ],
   "source": [
    "# Add taxonomy information to the gtdb_data.\n",
    "gtdb_data = gtdb_data.merge(taxonomy_data, on='genome_id', how='inner')\n",
    "gtdb_data.head()"
   ]
  },
  {
   "cell_type": "code",
   "execution_count": null,
   "id": "3c2d4508",
   "metadata": {},
   "outputs": [
    {
     "name": "stdout",
     "output_type": "stream",
     "text": [
      "Length of merged gtdb_data: 65689\n"
     ]
    }
   ],
   "source": [
    "# This value should be the same as before the merge. \n",
    "print('Length of merged gtdb_data:', len(gtdb_data))"
   ]
  },
  {
   "cell_type": "markdown",
   "id": "d33c3046",
   "metadata": {},
   "source": [
    "### Correlation between genome quality and predicted selenoprotein ratio\n",
    "\n",
    "One point which was brought up a few times at the CEMI poster presentation boils down to: How do we know the things we are predicting as selenoproteins are actually selenoproteins, and not just truncated regular proteins? To look into this, I first wanted to see if there was any correlation between genome quality and number of predicted selenoproteins. It also would be useful to control for any confounding factors, specifically length, as we have already shown (earlier) that length can, at least somewhat, predict whether or not a sequence is a selenoprotein. "
   ]
  },
  {
   "cell_type": "code",
   "execution_count": null,
   "id": "68ac3c1f",
   "metadata": {},
   "outputs": [
    {
     "name": "stdout",
     "output_type": "stream",
     "text": [
      "Columns: accession, ambiguous_bases, checkm_completeness, checkm_contamination, checkm_marker_count, checkm_marker_lineage, checkm_marker_set_count, checkm_strain_heterogeneity, coding_bases, coding_density, contig_count, gc_count, gc_percentage, genome_size, gtdb_genome_representative, gtdb_representative, gtdb_taxonomy, gtdb_type_designation, gtdb_type_designation_sources, gtdb_type_species_of_genus, l50_contigs, l50_scaffolds, longest_contig, longest_scaffold, lsu_23s_contig_len, lsu_23s_count, lsu_23s_length, lsu_23s_query_id, lsu_5s_contig_len, lsu_5s_count, lsu_5s_length, lsu_5s_query_id, lsu_silva_23s_blast_align_len, lsu_silva_23s_blast_bitscore, lsu_silva_23s_blast_evalue, lsu_silva_23s_blast_perc_identity, lsu_silva_23s_blast_subject_id, lsu_silva_23s_taxonomy, mean_contig_length, mean_scaffold_length, mimag_high_quality, mimag_low_quality, mimag_medium_quality, n50_contigs, n50_scaffolds, ncbi_assembly_level, ncbi_assembly_name, ncbi_assembly_type, ncbi_bioproject, ncbi_biosample, ncbi_contig_count, ncbi_contig_n50, ncbi_country, ncbi_date, ncbi_genbank_assembly_accession, ncbi_genome_category, ncbi_genome_representation, ncbi_isolate, ncbi_isolation_source, ncbi_lat_lon, ncbi_molecule_count, ncbi_ncrna_count, ncbi_organism_name, ncbi_protein_count, ncbi_refseq_category, ncbi_rrna_count, ncbi_scaffold_count, ncbi_scaffold_l50, ncbi_scaffold_n50, ncbi_scaffold_n75, ncbi_scaffold_n90, ncbi_seq_rel_date, ncbi_spanned_gaps, ncbi_species_taxid, ncbi_ssu_count, ncbi_strain_identifiers, ncbi_submitter, ncbi_taxid, ncbi_taxonomy, ncbi_taxonomy_unfiltered, ncbi_total_gap_length, ncbi_total_length, ncbi_translation_table, ncbi_trna_count, ncbi_type_material_designation, ncbi_ungapped_length, ncbi_unspanned_gaps, ncbi_wgs_master, protein_count, scaffold_count, ssu_contig_len, ssu_count, ssu_gg_blast_align_len, ssu_gg_blast_bitscore, ssu_gg_blast_evalue, ssu_gg_blast_perc_identity, ssu_gg_blast_subject_id, ssu_gg_taxonomy, ssu_length, ssu_query_id, ssu_silva_blast_align_len, ssu_silva_blast_bitscore, ssu_silva_blast_evalue, ssu_silva_blast_perc_identity, ssu_silva_blast_subject_id, ssu_silva_taxonomy, total_gap_length, trna_aa_count, trna_count, trna_selenocysteine_count\n",
      "317542 metadata entries prior to merge.\n"
     ]
    }
   ],
   "source": [
    "bac120_metadata = pd.read_csv(os.path.join(DATA_DIR, 'gtdb_r207', 'bac120_metadata_r207.tsv'), delimiter='\\t')\n",
    "ar53_metadata = pd.read_csv(os.path.join(DATA_DIR, 'gtdb_r207', 'ar53_metadata_r207.tsv'), delimiter='\\t')\n",
    "\n",
    "metadata = pd.concat([bac120_metadata, ar53_metadata])\n",
    "\n",
    "print('Columns:', ', '.join(list(metadata.columns)))\n",
    "print(len(metadata), 'metadata entries prior to merge.')"
   ]
  },
  {
   "cell_type": "markdown",
   "id": "df50b08c",
   "metadata": {},
   "source": [
    "I am not totally sure what the rationale is behind the quality score, but it seems like a reasonable enough metric to use for determining how good the genomes are; it seems to somehow account for both the completeness and contamination estimates. The higher the quality score, the better the genome. "
   ]
  },
  {
   "cell_type": "code",
   "execution_count": null,
   "id": "b07eb39e",
   "metadata": {},
   "outputs": [],
   "source": [
    "metadata = metadata.rename(columns={'accession':'genome_id'})\n",
    "# CheckM contamination estimate <10%, quality score, defined as completeness - 5*contamination\n",
    "metadata['checkm_quality_score'] = metadata['checkm_completeness'] - 5 * metadata['checkm_contamination']\n",
    "\n",
    "# Add taxonomy information to the gtdb_data.\n",
    "gtdb_data_with_metadata = gtdb_data.merge(metadata, on='genome_id', how='inner')"
   ]
  },
  {
   "cell_type": "code",
   "execution_count": null,
   "id": "4264dc39",
   "metadata": {},
   "outputs": [],
   "source": []
  },
  {
   "cell_type": "markdown",
   "id": "cfb0a7c4",
   "metadata": {},
   "source": [
    "### Results on a model genome"
   ]
  },
  {
   "cell_type": "markdown",
   "id": "eec74f1d",
   "metadata": {},
   "source": []
  }
 ],
 "metadata": {
  "kernelspec": {
   "display_name": "selenobot",
   "language": "python",
   "name": "python3"
  },
  "language_info": {
   "codemirror_mode": {
    "name": "ipython",
    "version": 3
   },
   "file_extension": ".py",
   "mimetype": "text/x-python",
   "name": "python",
   "nbconvert_exporter": "python",
   "pygments_lexer": "ipython3",
   "version": "3.9.18"
  }
 },
 "nbformat": 4,
 "nbformat_minor": 5
}
