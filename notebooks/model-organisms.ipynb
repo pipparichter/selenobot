{
 "cells": [
  {
   "cell_type": "code",
   "execution_count": 1,
   "metadata": {},
   "outputs": [],
   "source": [
    "import os\n",
    "import pandas as pd \n",
    "import numpy as np \n",
    "import subprocess\n",
    "import math\n",
    "import matplotlib.pyplot as plt \n",
    "from matplotlib.patches import Patch \n",
    "plt.rcParams['font.family'] = 'Arial'\n",
    "\n",
    "from selenobot.files import FASTAFile, fasta_file_parser_gtdb, GBFFFile, BLASTFile\n",
    "from selenobot.tools import BLAST\n",
    "from selenobot.genes import Gene, Genome\n",
    "\n",
    "model_organisms = dict()\n",
    "model_organisms['Pseudomonas aeruginosa'] = 'paer'\n",
    "model_organisms['Escherichia coli'] = 'ecol'\n",
    "model_organisms['Mycobacterium tuberculosis'] = 'mtub' \n",
    "model_organisms['Bacillus subtilis'] = 'bsub'\n",
    "model_organisms['Aliivibrio fischeri'] = 'afis'\n",
    "\n",
    "%load_ext autoreload \n",
    "%autoreload 2"
   ]
  },
  {
   "cell_type": "code",
   "execution_count": 2,
   "metadata": {},
   "outputs": [],
   "source": [
    "genome_metadata_df = pd.read_csv('../data/gtdb_genome_metadata_bacteria.csv', index_col=0)\n",
    "genome_metadata_df = genome_metadata_df[genome_metadata_df.species.isin(model_organisms.keys())]\n",
    "genome_metadata_df['code_name'] = genome_metadata_df.species.replace(model_organisms)"
   ]
  },
  {
   "cell_type": "code",
   "execution_count": 3,
   "metadata": {},
   "outputs": [],
   "source": [
    "for species, code_name in model_organisms.items():\n",
    "    metadata_df = FASTAFile(f'../data/model_organisms/gtdb_{code_name}_protein.faa').to_df(parser=fasta_file_parser_gtdb)\n",
    "    metadata_df = pd.concat([metadata_df, genome_metadata_df[genome_metadata_df.code_name == code_name]], axis=1)\n",
    "    metadata_df = metadata_df.bfill()\n",
    "    metadata_df.index.name = 'id'\n",
    "    metadata_df.to_csv(f'../data/model_organisms/gtdb_{code_name}_metadata.csv')"
   ]
  },
  {
   "cell_type": "code",
   "execution_count": 4,
   "metadata": {},
   "outputs": [],
   "source": [
    "def download_ncbi_data():\n",
    "    \n",
    "    genome_ids, code_names = list(genome_metadata_df.index), list(genome_metadata_df.code_name)\n",
    "\n",
    "    cmd = 'datasets download genome accession {genome_ids} --filename ../data/model_organisms/ncbi.zip --include protein,gbff,genome'.format(genome_ids=' '.join(genome_ids))\n",
    "    # subprocess.run(cmd, shell=True, check=True)\n",
    "    # subprocess.run('unzip ../data/model_organisms/ncbi.zip', shell=True, check=True)\n",
    "        \n",
    "    for code_name, genome_id in zip(code_names, genome_ids):\n",
    "        subprocess.run(f'cp ../data/model_organisms/ncbi/ncbi_dataset/data/{genome_id}/protein.faa ../data/model_organisms/ncbi_{code_name}_protein.faa', shell=True, check=True)\n",
    "        subprocess.run(f'cp ../data/model_organisms/ncbi/ncbi_dataset/data/{genome_id}/genomic.gbff ../data/model_organisms/ncbi_{code_name}_genomic.gbff', shell=True, check=True)\n",
    "        subprocess.run(f'cp ../data/model_organisms/ncbi/ncbi_dataset/data/{genome_id}/*_genomic.fna ../data/model_organisms/ncbi_{code_name}_genomic.fna', shell=True, check=True)\n",
    "\n",
    "\n",
    "def run_blast():\n",
    "\n",
    "    blast = BLAST()\n",
    "\n",
    "    for species, code_name in model_organisms.items():\n",
    "        query_path = f'../data/model_organisms/gtdb_{code_name}_protein.faa'\n",
    "        subject_path = f'../data/model_organisms/ncbi_{code_name}_protein.faa'\n",
    "        output_path = f'../data/model_organisms/gtdb_{code_name}_protein.blast.tsv'\n",
    "        if not os.path.exists(output_path):\n",
    "            print(f'Running BLAST for {species}')\n",
    "            blast.run(query_path, subject_path, output_path=output_path, max_high_scoring_pairs=1, max_subject_sequences=1, make_database=False)\n",
    "\n",
    "download_ncbi_data()"
   ]
  },
  {
   "cell_type": "code",
   "execution_count": 5,
   "metadata": {},
   "outputs": [
    {
     "name": "stdout",
     "output_type": "stream",
     "text": [
      "BLASTFile.load: Loaded 5787 out of 5787 entries which met the E-value threshold <= 10.000.\n",
      "GBFFFile.__init__: Found 5785 coding sequences in the GBFF file.\n"
     ]
    },
    {
     "name": "stderr",
     "output_type": "stream",
     "text": [
      "GBFFFile.__init__: Parsing GBFF file entries.: 100%|██████████| 5785/5785 [00:00<00:00, 10054.19it/s]"
     ]
    },
    {
     "name": "stdout",
     "output_type": "stream",
     "text": [
      "GBFFFile.__init__: Removing 119 entries with no protein ID.\n",
      "GBFFFile.remove_duplicates: Removing 9 duplicate entries from the GBFF file.\n"
     ]
    },
    {
     "name": "stderr",
     "output_type": "stream",
     "text": [
      "\n"
     ]
    }
   ],
   "source": [
    "species, code_name = 'Escherichia coli', 'ecol'\n",
    "species, code_name = 'Mycobacterium tuberculosis', 'mtub'\n",
    "species, code_name = 'Pseudomonas aeruginosa', 'paer'\n",
    "\n",
    "blast_df = BLASTFile(f'../data/model_organisms/gtdb_{code_name}_protein.blast.tsv', max_e_value=10).to_df()\n",
    "    \n",
    "gbff_cols = ['start', 'stop', 'protein_id', 'strand', 'note', 'product', 'gene'] # , 'go_function', 'go_process', 'go_component', 'ec_number']\n",
    "gbff_df = GBFFFile(f'../data/model_organisms/ncbi_{code_name}_genomic.gbff').to_df()[gbff_cols].rename(columns={col:f'subject_{col}' for col in gbff_cols})\n",
    "\n",
    "predictions_df = pd.read_csv(f'../data/results/gtdb_{code_name}.predict.csv', index_col=0)\n",
    "\n",
    "results_df = blast_df.merge(gbff_df, left_on='subject_id', right_on='subject_protein_id', how='left')\n",
    "results_df.index = blast_df.index\n",
    "results_df = predictions_df.merge(results_df, left_index=True, right_index=True, how='outer')"
   ]
  },
  {
   "cell_type": "markdown",
   "metadata": {},
   "source": [
    "## Binary model results"
   ]
  },
  {
   "cell_type": "code",
   "execution_count": 6,
   "metadata": {},
   "outputs": [],
   "source": [
    "# NOTE: Should I incorporate E-value thresholds? If so, what should I use?\n",
    "# NOTE: Why are there some sequences which are nearly exact matches, but are on opposite strands?\n",
    "\n",
    "def blast_possible_match(row) -> bool:\n",
    "    '''Determine a BLAST hit with a high E-value (i.e. not a very good one) might be a match using the following criteria:\n",
    "    (1)\n",
    "    (2)\n",
    "    (3)\n",
    "    The reason I did not make sure that non-adjusted sequence identity was close to 100 is I thought there might be weird \n",
    "    frame-shift stuff happening if gene boundaries are mis-indentified.\n",
    "    '''\n",
    "    query_start, query_stop, query_strand = row.start, row.stop, row.strand\n",
    "    subject_start, subject_stop, subject_strand = row.subject_start, row.subject_stop, row.subject_strand\n",
    "    \n",
    "    # There are NaNs if there was no BLAST hit at all.\n",
    "    if np.any(np.isnan([query_start, query_stop, subject_start, subject_stop])):\n",
    "        return False\n",
    "\n",
    "    if query_strand != subject_strand:\n",
    "        return False\n",
    "    \n",
    "    margin = 50 # Is this a reasonable margin? \n",
    "    subject_range = range(int(subject_start - margin), int(subject_stop + margin))\n",
    "    query_range = range(int(query_start - margin), int(query_stop + margin))\n",
    "\n",
    "    checks = [query_start in subject_range, query_stop in subject_range]\n",
    "    checks += [subject_start in query_range, subject_stop in query_range]\n",
    "    return np.any(checks)\n",
    "\n",
    "\n",
    "def blast_exact_match(row) -> bool:\n",
    "    '''Determine a BLAST hit between the query and subject is the same protein:\n",
    "    (1)\n",
    "    (2)\n",
    "    (3)\n",
    "    '''\n",
    "    query_length, subject_length = row.query_sequence_length, row.subject_sequence_length\n",
    "\n",
    "    length_margin = 2\n",
    "    identity_threshold = 1 - (length_margin / max(query_length, subject_length))\n",
    "\n",
    "    checks = [math.isclose(row.subject_sequence_length, row.query_sequence_length, abs_tol=length_margin)]\n",
    "    checks += [row.adjusted_sequence_identity >= identity_threshold]\n",
    "    checks += [row.strand == row.subject_strand]\n",
    "    return np.all(checks)\n",
    "    \n",
    "results_df['blast_possible_match'] = results_df.apply(blast_possible_match, axis=1)\n",
    "results_df['blast_exact_match'] = results_df.apply(blast_exact_match, axis=1)"
   ]
  },
  {
   "cell_type": "code",
   "execution_count": 7,
   "metadata": {},
   "outputs": [
    {
     "name": "stdout",
     "output_type": "stream",
     "text": [
      "Pseudomonas aeruginosa\n",
      "\n",
      "Number of proteins: 5788 versus NCBI: 5657\n",
      "Number of predicted selenoproteins: 37\n",
      "\n",
      "Percentage of proteins with BLAST hits: 99.98%\n",
      "Percentage of predicted selenoproteins with BLAST hits: 100.00%\n",
      "\n",
      "Percentage of proteins with exact BLAST hits: 90.74%\n",
      "Percentage of predicted full-length with exact BLAST hits: 91.08%\n",
      "Percentage of predicted selenoproteins with exact BLAST hits: 37.84%\n",
      "\n"
     ]
    }
   ],
   "source": [
    "print(species, end='\\n\\n')\n",
    "\n",
    "ncbi_fasta_file = FASTAFile(f'../data/model_organisms/ncbi_{code_name}_protein.faa')\n",
    "results_1_df = results_df[results_df.binary_model_plm_prediction == 1]\n",
    "results_0_df = results_df[results_df.binary_model_plm_prediction == 0]\n",
    "\n",
    "print('Number of proteins:', len(results_df), 'versus NCBI:', len(ncbi_fasta_file))\n",
    "print('Number of predicted selenoproteins:', len(results_1_df), end='\\n\\n')\n",
    "\n",
    "print(f'Percentage of proteins with BLAST hits: {100 * (~results_df.subject_id.isnull()).sum() / len(results_df):.2f}%')\n",
    "print(f'Percentage of predicted selenoproteins with BLAST hits: {100 * (~results_1_df.subject_id.isnull()).sum() / len(results_1_df):.2f}%', end='\\n\\n')\n",
    "\n",
    "print(f'Percentage of proteins with exact BLAST hits: {100 * results_df.blast_exact_match.sum() / len(results_df):.2f}%')\n",
    "print(f'Percentage of predicted full-length with exact BLAST hits: {100 * results_0_df.blast_exact_match.sum() / len(results_0_df):.2f}%')\n",
    "print(f'Percentage of predicted selenoproteins with exact BLAST hits: {100 * results_1_df.blast_exact_match.sum() / len(results_1_df):.2f}%', end='\\n\\n')\n",
    "\n",
    "# The predicted selenoproteins with exact BLAST hits and are annotated with a function seem likely to be false positives. \n",
    "# The predicted selenoproteins with no possible BLAST hits seem likely to be Prodigal errors (but maybe not?). \n",
    "# The predicted selenoproteins with possible BLAST hits are promising (in E. coli, the formate dehydrogenase subunits are included in this)\n",
    "# It also seems potentially worth looking into the predicted selenoproteins with no annotation. For E. coli, none of these showed up with PaperBLAST. \n",
    "\n",
    "# Honestly, I might just try extending all of them to see what happens. "
   ]
  },
  {
   "cell_type": "code",
   "execution_count": 8,
   "metadata": {},
   "outputs": [
    {
     "data": {
      "image/png": "[encoded data removed]",
      "text/plain": [
       "<Figure size 500x300 with 1 Axes>"
      ]
     },
     "metadata": {},
     "output_type": "display_data"
    }
   ],
   "source": [
    "# The predicted selenoproteins with exact BLAST hits are likely the false-positives. Let's take a closer look at those... \n",
    "\n",
    "fig, ax = plt.subplots(figsize=(5, 3))\n",
    "\n",
    "max_length = 400 \n",
    "\n",
    "all_lengths = results_df.seq.apply(len)\n",
    "fp_lengths = results_1_df[results_1_df.blast_exact_match].seq.apply(len)\n",
    "\n",
    "colors = ['tab:blue', 'tab:red']\n",
    "ax.hist((all_lengths[all_lengths < max_length], fp_lengths[all_lengths < max_length]), color=colors, density=True, bins=25)\n",
    "ax.legend(['background length distribution', 'hits with exact match'])\n",
    "ax.set_title(species)\n",
    "ax.set_ylabel('density')\n",
    "ax.set_xlabel('sequence length')\n",
    "\n",
    "# NOTE: An ECDF might be a better way of showing this. \n",
    "plt.show()"
   ]
  },
  {
   "cell_type": "code",
   "execution_count": 9,
   "metadata": {},
   "outputs": [
    {
     "name": "stderr",
     "output_type": "stream",
     "text": [
      "Warning: [blastp] Examining 5 or more matches is recommended\n"
     ]
    },
    {
     "data": {
      "text/plain": [
       "'../data/model_organisms/gtdb_paer_protein.extend.blast.tsv'"
      ]
     },
     "execution_count": 9,
     "metadata": {},
     "output_type": "execute_result"
    }
   ],
   "source": [
    "genome = Genome(f'../data/model_organisms/ncbi_{code_name}_genomic.fna')\n",
    "\n",
    "extended_df = []\n",
    "for row in results_1_df.itertuples():\n",
    "    gene = Gene(row.Index, genome, start=int(row.start) - 1, stop=int(row.stop), strand=row.strand)\n",
    "    gene = gene.extend()\n",
    "    extended_df.append(gene.info())\n",
    "extended_df = pd.DataFrame(extended_df).set_index('gene_id')\n",
    "\n",
    "FASTAFile.from_df(extended_df).write(f'../data/model_organisms/gtdb_{code_name}_protein.extend.faa')\n",
    "\n",
    "blast = BLAST()\n",
    "query_path = f'../data/model_organisms/gtdb_{code_name}_protein.extend.faa'\n",
    "subject_path = f'../data/model_organisms/ncbi_{code_name}_protein.faa'\n",
    "output_path = f'../data/model_organisms/gtdb_{code_name}_protein.extend.blast.tsv'\n",
    "blast.run(query_path, subject_path, output_path=output_path, max_high_scoring_pairs=1, max_subject_sequences=1, make_database=False)"
   ]
  },
  {
   "cell_type": "code",
   "execution_count": 10,
   "metadata": {},
   "outputs": [
    {
     "name": "stdout",
     "output_type": "stream",
     "text": [
      "BLASTFile.load: Loaded 37 out of 37 entries which met the E-value threshold <= 10.000.\n",
      "Percentage of extended proteins with exact BLAST hits: 2.70%\n"
     ]
    }
   ],
   "source": [
    "metadata_df = pd.read_csv(f'../data/model_organisms/gtdb_{code_name}_metadata.csv', dtype={'partial':str}, index_col=0)\n",
    "\n",
    "extended_blast_df = BLASTFile(f'../data/model_organisms/gtdb_{code_name}_protein.extend.blast.tsv', max_e_value=10).to_df()\n",
    "extended_results_df = extended_blast_df.merge(gbff_df, left_on='subject_id', right_on='subject_protein_id', how='left')\n",
    "extended_results_df.index = extended_blast_df.index\n",
    "extended_results_df = extended_results_df.merge(metadata_df, left_index=True, right_index=True, how='left')\n",
    "extended_results_df = extended_results_df.merge(extended_df[['extension_size', 'original_stop_codon', 'stop_codon', 'start_codon']], left_index=True, right_index=True, how='left')\n",
    "\n",
    "extended_results_df['blast_possible_match'] = extended_results_df.apply(blast_possible_match, axis=1)\n",
    "extended_results_df['blast_exact_match'] = extended_results_df.apply(blast_exact_match, axis=1)\n",
    "\n",
    "print(f'Percentage of extended proteins with exact BLAST hits: {100 * extended_results_df.blast_exact_match.sum() / len(extended_results_df):.2f}%')\n"
   ]
  },
  {
   "cell_type": "code",
   "execution_count": 12,
   "metadata": {},
   "outputs": [
    {
     "data": {
      "text/html": [
       "<div>\n",
       "<style scoped>\n",
       "    .dataframe tbody tr th:only-of-type {\n",
       "        vertical-align: middle;\n",
       "    }\n",
       "\n",
       "    .dataframe tbody tr th {\n",
       "        vertical-align: top;\n",
       "    }\n",
       "\n",
       "    .dataframe thead th {\n",
       "        text-align: right;\n",
       "    }\n",
       "</style>\n",
       "<table border=\"1\" class=\"dataframe\">\n",
       "  <thead>\n",
       "    <tr style=\"text-align: right;\">\n",
       "      <th></th>\n",
       "      <th>subject_product</th>\n",
       "      <th>extension_size</th>\n",
       "    </tr>\n",
       "    <tr>\n",
       "      <th>id</th>\n",
       "      <th></th>\n",
       "      <th></th>\n",
       "    </tr>\n",
       "  </thead>\n",
       "  <tbody>\n",
       "    <tr>\n",
       "      <th>NZ_LN831024.1_5007</th>\n",
       "      <td>formate dehydrogenase-N subunit alpha</td>\n",
       "      <td>2490</td>\n",
       "    </tr>\n",
       "  </tbody>\n",
       "</table>\n",
       "</div>"
      ],
      "text/plain": [
       "                                          subject_product  extension_size\n",
       "id                                                                       \n",
       "NZ_LN831024.1_5007  formate dehydrogenase-N subunit alpha            2490"
      ]
     },
     "execution_count": 12,
     "metadata": {},
     "output_type": "execute_result"
    }
   ],
   "source": [
    "extended_results_df[extended_results_df.blast_exact_match][['subject_product', 'extension_size']]"
   ]
  },
  {
   "cell_type": "code",
   "execution_count": null,
   "metadata": {},
   "outputs": [],
   "source": []
  },
  {
   "cell_type": "code",
   "execution_count": null,
   "metadata": {},
   "outputs": [],
   "source": []
  }
 ],
 "metadata": {
  "kernelspec": {
   "display_name": "selenobot",
   "language": "python",
   "name": "python3"
  },
  "language_info": {
   "codemirror_mode": {
    "name": "ipython",
    "version": 3
   },
   "file_extension": ".py",
   "mimetype": "text/x-python",
   "name": "python",
   "nbconvert_exporter": "python",
   "pygments_lexer": "ipython3",
   "version": "3.12.3"
  }
 },
 "nbformat": 4,
 "nbformat_minor": 2
}
