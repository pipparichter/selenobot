{
 "cells": [
  {
   "cell_type": "markdown",
   "metadata": {},
   "source": [
    "# Validation\n",
    "\n",
    "In order to further validate the promising results of the PLM classifier on the testing data, we sought to interrogate a well-characterized microbial genome using the model. To this end, we chose to analyze the complete genome of Escherichia coli (strain K-12, substrain. MG1655, assembly ASM584v2). The RefSeq accession for this genome is GCF_000005845.2. \n",
    "\n",
    "For organizational purposes, all data used for model validation is placed into a subdirectory within the data directory. If you want to run this code, be sure to modify the `DATA_DIR` variable below to specify where the data will be stored on your machine.\n"
   ]
  },
  {
   "cell_type": "code",
   "execution_count": 4,
   "metadata": {},
   "outputs": [],
   "source": [
    "%load_ext autoreload\n",
    "%autoreload 2"
   ]
  },
  {
   "cell_type": "code",
   "execution_count": 4,
   "metadata": {},
   "outputs": [],
   "source": [
    "import sys\n",
    "# Add the selenobot/ subirectory to the module search path, so that the modules in this directory are visible from the notebook.\n",
    "sys.path.append('../selenobot/')\n",
    "\n",
    "from dataset import Dataset\n",
    "from classifiers import Classifier\n",
    "from utils import csv_size, dataframe_from_gff, dataframe_to_fasta, dataframe_from_m8, dataframe_from_fasta\n",
    "from extend import extend\n",
    "import pandas as pd\n",
    "import re\n",
    "from typing import NoReturn, List\n",
    "import numpy as np\n",
    "import pickle\n",
    "import matplotlib.pyplot as plt\n",
    "import torch"
   ]
  },
  {
   "cell_type": "code",
   "execution_count": 5,
   "metadata": {},
   "outputs": [],
   "source": [
    "DATA_DIR = '/home/prichter/Documents/data/selenobot/validation/'\n",
    "\n",
    "# E. coli strain K-12 substrain MG1655\n",
    "genome_id = 'GCF_000005845.2' # The accession of the genome to download. \n",
    "assembly = 'ASM584v2' # The specific genome assembly.\n",
    "\n",
    "# https://www.nature.com/articles/s41396-022-01222-x#Sec2\n",
    "\n",
    "# Synergistota\n",
    "# genome_id = 'GCA_018398915.1' \n",
    "# assembly = 'ASM1839891v1'\n",
    "\n",
    "# Methanosarcinales archaeon \n",
    "# genome_id = 'GCA_026016205.1'\n",
    "# assembly = 'ASM2601620v1'"
   ]
  },
  {
   "cell_type": "markdown",
   "metadata": {},
   "source": [
    "## Downloading genome data"
   ]
  },
  {
   "cell_type": "code",
   "execution_count": 11,
   "metadata": {},
   "outputs": [
    {
     "name": "stdout",
     "output_type": "stream",
     "text": [
      "  % Total    % Received % Xferd  Average Speed   Time    Time     Time  Current\n",
      "                                 Dload  Upload   Total   Spent    Left  Speed\n",
      "100  561k    0  561k    0     0   157k      0 --:--:--  0:00:03 --:--:--  157k\n",
      "Archive:  /home/prichter/Documents/data/selenobot/validation/ncbi_dataset.zip\n",
      "  inflating: /home/prichter/Documents/data/selenobot/validation/README.md  \n",
      "  inflating: /home/prichter/Documents/data/selenobot/validation/ncbi_dataset/data/assembly_data_report.jsonl  \n",
      "  inflating: /home/prichter/Documents/data/selenobot/validation/ncbi_dataset/data/GCA_026016205.1/GCA_026016205.1_ASM2601620v1_genomic.fna  \n",
      "  inflating: /home/prichter/Documents/data/selenobot/validation/ncbi_dataset/data/GCA_026016205.1/protein.faa  \n",
      "  inflating: /home/prichter/Documents/data/selenobot/validation/ncbi_dataset/data/GCA_026016205.1/genomic.gff  \n",
      "  inflating: /home/prichter/Documents/data/selenobot/validation/ncbi_dataset/data/dataset_catalog.json  \n"
     ]
    }
   ],
   "source": [
    "# Download and unzip the genome data from NCBI. \n",
    "! curl 'https://api.ncbi.nlm.nih.gov/datasets/v2alpha/genome/accession/{genome_id}/download?include_annotation_type=GENOME_FASTA,PROT_FASTA,GENOME_GFF' -o '{DATA_DIR}ncbi_dataset.zip'\n",
    "! unzip '{DATA_DIR}ncbi_dataset.zip' -d '{DATA_DIR}'\n",
    "\n",
    "# Create a directory to store the genome files. \n",
    "! mkdir '{DATA_DIR}{genome_id}/' \n",
    "# Move the relevant files into the new directory for organizational purposes. \n",
    "! mv '{DATA_DIR}ncbi_dataset/data/{genome_id}/genomic.gff' -t '{DATA_DIR}{genome_id}/'\n",
    "! mv '{DATA_DIR}ncbi_dataset/data/{genome_id}/protein.faa' -t '{DATA_DIR}{genome_id}/'\n",
    "! mv '{DATA_DIR}ncbi_dataset/data/{genome_id}/{genome_id}_{assembly}_genomic.fna' '{DATA_DIR}{genome_id}/genome.fna'\n",
    "\n",
    "# Remove some extraneous files which were also downloaded. \n",
    "! rm '{DATA_DIR}README.md'\n",
    "! rm -R '{DATA_DIR}ncbi_dataset'"
   ]
  },
  {
   "cell_type": "code",
   "execution_count": 12,
   "metadata": {},
   "outputs": [],
   "source": [
    "def clean(path:str) -> NoReturn:\n",
    "    '''Modify the format of downloaded FASTA files to standardize reading and writing FASTA files.'''\n",
    "    fasta = ''\n",
    "    with open(path, 'r') as f:\n",
    "        lines = f.readlines()\n",
    "    # In the FASTA files downloaded from NCBI, the only relevant information is right after the > character.\n",
    "    # This is the GenBank protein accession, which will be called the 'id'.\n",
    "    for line in lines:\n",
    "        if '>' in line: # This symbol marks the beginning of a header file.\n",
    "            id_ = re.search('>([^\\s]+)', line).group(1)\n",
    "            fasta += f'>id={id_}\\n'\n",
    "        else:\n",
    "            fasta += line\n",
    "    # This will overwrite the original file. \n",
    "    with open(path, 'w') as f:\n",
    "        f.write(fasta)"
   ]
  },
  {
   "cell_type": "code",
   "execution_count": 13,
   "metadata": {},
   "outputs": [],
   "source": [
    "clean(f'{DATA_DIR}{genome_id}/protein.faa')"
   ]
  },
  {
   "cell_type": "markdown",
   "metadata": {},
   "source": [
    "### Truncating known selenoproteins\n",
    "\n",
    "The E. coli genome assembly used contains three known selenoproteins: fdoG (RefSeq accession NP_418330.1), fdnG (RefSeq accession NP_415991.1) and fdhF (RefSeq accession NP_418503.1). The RefSeq accessions are found using the NCBI annotation browser for the particular E. coli genome assembly. Prior to generating the PLM embeddings, each of these sequences in the protein.faa file is truncated at the first selenocysteine residue. These sequences will act as sanity checks, ensuring that the PLM classifier is able to identify sequences known to be truncated selenoproteins. "
   ]
  },
  {
   "cell_type": "code",
   "execution_count": 29,
   "metadata": {},
   "outputs": [],
   "source": [
    "known_selenoproteins = ['NP_418330.1', 'NP_415991.1', 'NP_418503.1']"
   ]
  },
  {
   "cell_type": "code",
   "execution_count": 30,
   "metadata": {},
   "outputs": [],
   "source": [
    "def truncate_selenoproteins(path:str, gene_ids:List[str]=None) -> NoReturn:\n",
    "    '''Truncate the known selenoproteins stored in the input file, which are specified using the gene_ids\n",
    "    parameter.'''\n",
    "    # Load the selenoproteins into a pandas DataFrame. \n",
    "    df = dataframe_from_fasta(path)\n",
    "    for row in df.itertuples(index=True):\n",
    "        if getattr(row, 'id') in gene_ids:\n",
    "            u_loc = row.seq.index('U')\n",
    "            # setattr(row, 'seq', row.seq[:u_loc])\n",
    "            row = row._replace(seq=row.seq[:u_loc])\n",
    "            print(f\"truncate_selenoproteins: Truncated {getattr(row, 'id')}.\")\n",
    "            df.loc[row.Index] = row[1:] # Save the edited row in the DataFrame.\n",
    "    dataframe_to_fasta(df, path=path)"
   ]
  },
  {
   "cell_type": "code",
   "execution_count": 31,
   "metadata": {},
   "outputs": [
    {
     "name": "stdout",
     "output_type": "stream",
     "text": [
      "truncate_selenoproteins: Truncated NP_415991.1.\n",
      "truncate_selenoproteins: Truncated NP_418330.1.\n",
      "truncate_selenoproteins: Truncated NP_418503.1.\n"
     ]
    }
   ],
   "source": [
    "truncate_selenoproteins(f'{DATA_DIR}{genome_id}/protein.faa', gene_ids=known_selenoproteins)"
   ]
  },
  {
   "cell_type": "markdown",
   "metadata": {},
   "source": [
    "## Predicting selenoproteins"
   ]
  },
  {
   "cell_type": "markdown",
   "metadata": {},
   "source": [
    "### Generating PLM embeddings\n",
    "\n",
    "Using the same procedure as was used to create embeddings for the UniProt sequences for training the classifier, embeddings are generated for all predicted genes in the model genome. The code for embedding sequence data is provided in the `embed.py` file in the `scripts` directory. The process for generating embeddings was computationally-intensive, and had to be run on an external computer cluster. The steps of the embedding algorithm, which is implemented by the `PlmEmbedder` class, are given below.\n",
    "\n",
    "1. **Amino acid sequences are read from a FASTA file.**\n",
    "2. **All non-standard amino acids were replaced with an “X”.**\n",
    "3. **Sequences were sorted in ascending order according to length.** This avoids the addition of unnecessary padding. \n",
    "4. **The sequences are processed and tokenized in batches.** Processing sequences in batches enables one to generate the embeddings as quickly as possible, while also preventing the GPUs from crashing. The maximum number of sequences in any given batch is 100, the maximum number of amino acids in a batch is 4000, and any sequence longer than 1000 amino acids is processed individually. \n",
    "5. **The PLM is used to generate embeddings.** These embeddings have shape shape `(length, latent dimension)`.\n",
    "6. **Each embedding is sliced according to the length of the original sequence.** This is due to the fact that part of the model output corresponds to the padding tokens, which should be excluded from the final embedding. \n",
    "7. **The embeddings are mean-pooled over sequence length.** This step standardizes the length of the embedding vectors to be of fixed dimension (the latent dimension of the PLM), which is necessary for passing them to the Selenobot linear classifier. \n",
    "The output of the steps above is data containing gene IDs, the original amino acid sequences (which may contain non-standard residues), and columns with the mean-pooled embeddings. \n",
    "\n",
    "There are several pre-embedded genomes available in the Google Cloud repository, which can be downloaded using the code below. "
   ]
  },
  {
   "cell_type": "code",
   "execution_count": null,
   "metadata": {},
   "outputs": [],
   "source": [
    "curl 'https://storage.googleapis.com/selenobot-data/{genome_id}.csv' -o '{DATA_DIR}{genome_id}.csv'"
   ]
  },
  {
   "cell_type": "markdown",
   "metadata": {},
   "source": [
    "### Running the PLM classifier\n",
    "\n",
    "The same workflow as described in the `training.ipynb` and `testing.ipynb` notebooks is used to predict selenoproteins in the model genome. First, the `proteins.faa` file, which contains the predicted amino acid sequences in the genome, is loaded into a pandas `DataFrame` and used to initialize a `Dataset` object. Then, the model’s predict method is called on the `Dataset`, generating a `TestReporter` object which stores model output. A threshold of `0.5` is applied to the model output, selecting positive classifications in which the model is over 50 percent confident. The IDs of the candidate selenoprotein sequences and the model confidence values are written to a `predictions.csv` file. "
   ]
  },
  {
   "cell_type": "code",
   "execution_count": 26,
   "metadata": {},
   "outputs": [],
   "source": [
    "df = pd.read_csv(f'{DATA_DIR}{genome_id}.csv', index_col=0)\n",
    "# df = pd.read_csv(f'{DATA_DIR}../test.csv', index_col=0)\n",
    "dataset = Dataset(df, embedder=None)"
   ]
  },
  {
   "cell_type": "code",
   "execution_count": 27,
   "metadata": {},
   "outputs": [
    {
     "data": {
      "text/plain": [
       "<All keys matched successfully>"
      ]
     },
     "execution_count": 27,
     "metadata": {},
     "output_type": "execute_result"
    }
   ],
   "source": [
    "model = Classifier(latent_dim=1024, hidden_dim=512)\n",
    "model.load_state_dict(torch.load(f'{DATA_DIR}../plm_model_weights.pth'))"
   ]
  },
  {
   "cell_type": "code",
   "execution_count": 29,
   "metadata": {},
   "outputs": [
    {
     "name": "stdout",
     "output_type": "stream",
     "text": [
      "Number of predicted selenoproteins: 3\n",
      "Model confidence for each predicted selenoprotein: [0.9749483  0.8699334  0.57687116]\n"
     ]
    }
   ],
   "source": [
    "reporter = model.predict(dataset)\n",
    "\n",
    "# Apply the threshold to model outputs, and find the sequence IDs in the proteome for which the prediciton is 1.\n",
    "predictions = df[reporter.apply_threshold(threshold=0.5) == 1]\n",
    "# Add the model confidences to the DataFrame. \n",
    "predictions['confidence'] = reporter.outputs[reporter.apply_threshold(threshold=0.5) == 1]\n",
    "\n",
    "# Print some information about the hits: how many hits, and how confident is the model that they are truncated selenoproteins?\n",
    "print('Number of predicted selenoproteins:', len(predictions))\n",
    "print('Model confidence for each predicted selenoprotein:', predictions.confidence.values)\n",
    "\n",
    "# Write the predicted selenoproteins to a file, along with the model confidence. \n",
    "predictions[['id', 'confidence']].set_index('id').to_csv(f'{DATA_DIR}{genome_id}/predictions.csv')"
   ]
  },
  {
   "cell_type": "markdown",
   "metadata": {},
   "source": [
    "## Extending flagged sequences\n",
    "\n",
    "First, the data in the genomic.gff file (e.g.  the start and stop position of each sequence in the genome, as well as whether the gene is read from the forward or reverse strand) is merged with the DataFrame containing the predicted selenoproteins. This information is used to extend each amino acid sequence to the next stop codon using the following procedure.\n",
    "\n",
    "1. **Read in the complete genome sequence from the genome.fna file.**\n",
    "2. **The terminal location of the sequence is located in the genome, and incremented from right to left (reverse) or left to right (forward) until the next stop codon is encountered.** Valid stop codons are TAA, TAG and TGA, and their reversed equivalents.\n",
    "3. **The new gene coordinates, the original stop codon, etc. are stored in the input DataFrame.** \n",
    "5. **Each extended nucleotide sequence is translated to a sequence of amino acids.** This is done using the `BioPython` `Seq` module. The translation utilities provided by `BioPython` do not support non-standard amino acids, so the selenocysteine residue (U) is added manually after the translation step. \n",
    "\n",
    "The extended sequences are written to a FASTA file called `query.faa`, which is used during homology search with MMSeqs2. In addition to the extended sequences, this file contains the following information in the header fields of each entry. \n",
    "1. **gene_id** The RefSeq gene ID of the query sequence (e.g. fdoG)\n",
    "2. **id** The GenBank unique identifier of the coding sequence. \n",
    "3. **nt_ext** How much the sequence was extended, in terms of the number of nucleotides. \n",
    "4. **aa_ext** How much the sequence was extended, in terms of the number of amino acids. \n",
    "5. **nt_start** The start location of the gene encoding the protein. \n",
    "6. **nt_stop** The stop location of the gene encoding the protein. \n",
    "7. **reverse** Whether or not the gene is read from the forward or reverse strand. Either True or False. \n",
    "8. **u_codon** The codon encoding the putative selenocysteine residue (i.e. the original stop codon). \n"
   ]
  },
  {
   "cell_type": "code",
   "execution_count": 30,
   "metadata": {},
   "outputs": [
    {
     "name": "stdout",
     "output_type": "stream",
     "text": [
      "Predicted selenoprotein IDs:\n",
      "UZE92041.1 (None)\n",
      "UZE92443.1 (None)\n",
      "UZE92782.1 (None)\n"
     ]
    }
   ],
   "source": [
    "predictions = pd.read_csv(f'{DATA_DIR}{genome_id}/predictions.csv') # Read in the model predictions. \n",
    "# Add the information from the GFF file to the DataFrame of predicted selenoproteins. \n",
    "gff_df = dataframe_from_gff(f'{DATA_DIR}{genome_id}/genomic.gff') \n",
    "predictions = predictions.merge(gff_df, on='id')\n",
    "\n",
    "print('Predicted selenoprotein IDs:\\n' + '\\n'.join([f\"{getattr(row, 'id')} ({row.gene_id})\" for row in predictions.itertuples()]))"
   ]
  },
  {
   "cell_type": "code",
   "execution_count": 8,
   "metadata": {},
   "outputs": [],
   "source": [
    "def load_genome(path:str) -> str:\n",
    "    '''Load in the complete nucleotide sequence of the genome.\n",
    "    \n",
    "    :param path: A FASTA file from NCBI which contains a complete genome. \n",
    "    :return: A string of nucleotides. \n",
    "    '''\n",
    "    with open(path, 'r') as f:\n",
    "        lines = f.read().splitlines()[1:] # Skip the header line. \n",
    "        seq = ''.join(lines)\n",
    "    return seq"
   ]
  },
  {
   "cell_type": "code",
   "execution_count": 24,
   "metadata": {},
   "outputs": [],
   "source": [
    "# Read in the complete genome of the model organism. \n",
    "genome = load_genome(f'{DATA_DIR}{genome_id}/genome.fna')\n",
    "\n",
    "# QVL37563.1, QVL37671.1 do not have a valid start codon, so removing. \n",
    "predictions = predictions[~predictions['id'].str.match('QVL37563.1')]\n",
    "predictions = predictions[~predictions['id'].str.match('QVL37671.1')]\n",
    "\n",
    "# Extend the predictions, and write them to a query.faa file for use with MMSeqs.\n",
    "predictions = extend(predictions, genome)\n",
    "dataframe_to_fasta(predictions, f'{DATA_DIR}{genome_id}/query.faa')"
   ]
  },
  {
   "cell_type": "markdown",
   "metadata": {},
   "source": [
    "## Homology search against GTDB\n",
    "\n",
    "The MMSeqs2 tool is used to search for sequences homologous to the extended candidate selenoproteins in the `query.faa` file. This search was performed on a remote computing cluster, and a full description of the procedure is provided in the Methodology document. The output of the homology search is a file where each row represents a single query-target match. The table has twelve columns:\n",
    "\n",
    "1. **The header from the `query.fasta` file.** This contains information like the query gene ID, sequence length, etc.\n",
    "2. **GTDB identifiers for the target sequence.**\n",
    "3. **Sequence identity.**\n",
    "4. **Alignment length.**\n",
    "5. **Number of mismatches.**\n",
    "6. **Number of gap openings.**\n",
    "7. **The start position of the matching domain in the query sequence.** This is given in terms of the number of amino acids from the start of the query sequence.\n",
    "8. **The stop position of the matching domain in the query sequence.** This is given in terms of the number of amino acids from the start of the query sequence.\n",
    "9. **The start position of the matching domain in the target sequence.** This is given in terms of the number of amino acids from the start of the query sequence.\n",
    "10. **The stop position of the matching domain in the target sequence.** This is given in terms of the number of amino acids from the start of the query sequence.\n",
    "11. **E-value.** This is the “expect value,” and reflects the likelihood of the sequence match occurring by chance.\n",
    "12. **Bit score.** This score is calculated from a formula that takes into account the alignment of similar or identical residues, as well as any gaps introduced to align the sequences. \n",
    "\n",
    "### Downloading sequences for MMSeqs2 hits\n",
    "\n",
    "The output file produced by MMSeqs2 does not contain the amino acid sequences for the matching targets. These sequences are stored in a remote SQL database hosted by Caltech, and were downloaded using the [Find-A-Bug Python API](https://github.com/pipparichter/find-a-bug-api). "
   ]
  },
  {
   "cell_type": "code",
   "execution_count": 1,
   "metadata": {},
   "outputs": [],
   "source": [
    "# Install the Find-A-Bug API.\n",
    "# ! pip install -e /home/prichter/Documents/find-a-bug-api"
   ]
  },
  {
   "cell_type": "code",
   "execution_count": 2,
   "metadata": {},
   "outputs": [],
   "source": [
    "import fabapi # Import the Find-A-Bug Python API"
   ]
  },
  {
   "cell_type": "code",
   "execution_count": 16,
   "metadata": {},
   "outputs": [
    {
     "name": "stdout",
     "output_type": "stream",
     "text": [
      "Number of MMSeqs hits for GCA_026016205.1 in the GTDB database: 15357\n"
     ]
    }
   ],
   "source": [
    "# Load in the MMSeqs results, dropping the two columns which are not populated by the program.\n",
    "mmseqs_df = dataframe_from_m8(f'{DATA_DIR}{genome_id}/results.m8').drop(columns=['query_align_seq', 'target_align_seq'])\n",
    "print(f'Number of MMSeqs hits for {genome_id} in the GTDB database:', len(mmseqs_df))"
   ]
  },
  {
   "cell_type": "code",
   "execution_count": 8,
   "metadata": {},
   "outputs": [],
   "source": [
    "# Download the target sequences using the Find-A-Bug API.\n",
    "target_seqs = []\n",
    "for target_id in mmseqs_df.target_id:\n",
    "    # get_sequence_with_gene_id returns a DataFrame, so we need to extract the sequence.\n",
    "    seq = fabapi.get_sequence_with_gene_id(target_id).seq.item()\n",
    "    target_seqs.append(seq)\n",
    "mmseqs_df['target_seq'] = target_seqs"
   ]
  },
  {
   "cell_type": "code",
   "execution_count": 18,
   "metadata": {},
   "outputs": [],
   "source": [
    "# Write the new DataFrame (with sequences added) to a file to avoid re-generating in case the kernel crashes.\n",
    "mmseqs_df.set_index('query_id').to_csv(f'{DATA_DIR}{genome_id}/results.csv')"
   ]
  },
  {
   "cell_type": "markdown",
   "metadata": {},
   "source": [
    "### Filtering MMSeqs2 hits\n",
    "\n"
   ]
  },
  {
   "cell_type": "code",
   "execution_count": 81,
   "metadata": {},
   "outputs": [],
   "source": [
    "mmseqs_df = pd.read_csv(f'{DATA_DIR}{genome_id}/results.csv')"
   ]
  },
  {
   "cell_type": "code",
   "execution_count": 82,
   "metadata": {},
   "outputs": [],
   "source": [
    "def check_hit_overlap(row):\n",
    "    '''Check if a particular MMSeqs hit spans the stop codon in the query sequence.'''\n",
    "    # We want the start of the hit to precede the U codon, and the end of the hit\n",
    "    # to lie in the extended region. \n",
    "    u_pos = int(row.query_aa_length) - (int(row.query_nt_ext) // 3)\n",
    "    return (u_pos > row.target_align_start) and (u_pos < row.target_align_stop)"
   ]
  },
  {
   "cell_type": "code",
   "execution_count": 83,
   "metadata": {},
   "outputs": [
    {
     "name": "stdout",
     "output_type": "stream",
     "text": [
      "Number of hits before filtering by overlap: 15357\n",
      "Number of hits after filtering by overlap: 80\n"
     ]
    }
   ],
   "source": [
    "# We only care about the hits which overlap on the extended region.\n",
    "print('Number of hits before filtering by overlap:', len(mmseqs_df))\n",
    "mmseqs_df = mmseqs_df[mmseqs_df.apply(check_hit_overlap, axis=1)]\n",
    "print('Number of hits after filtering by overlap:', len(mmseqs_df))"
   ]
  },
  {
   "cell_type": "code",
   "execution_count": 84,
   "metadata": {},
   "outputs": [
    {
     "name": "stdout",
     "output_type": "stream",
     "text": [
      "Mean length of hits for UZE92782.1: 385.18666666666667\n"
     ]
    },
    {
     "data": {
      "image/png": "[encoded data removed]",
      "text/plain": [
       "<Figure size 640x480 with 1 Axes>"
      ]
     },
     "metadata": {},
     "output_type": "display_data"
    }
   ],
   "source": [
    "# Now, we want to visualize the length distribution of the MMSeqs2 hits to filter by length. \n",
    "query_id = 'UZE92782.1'\n",
    "# query_id = 'UZE92041.1'\n",
    "\n",
    "fig, ax = plt.subplots()\n",
    "hit_lengths = mmseqs_df[mmseqs_df.query_id.str.match(query_id)].target_seq.apply(lambda s : len(s.replace('*', '')))\n",
    "_, bins, _ = ax.hist(hit_lengths, bins=100)\n",
    "print(f'Mean length of hits for {query_id}:', np.mean(hit_lengths))\n",
    "\n",
    "ymin, ymax = ax.get_ylim()\n",
    "query_length = mmseqs_df[mmseqs_df.query_id.str.match(query_id)].query_aa_length.iloc[0] \n",
    "ax.axvline(int(query_length), ymin=ymin, ymax=ymax, c='red', ls='--')\n",
    "\n",
    "ax.set_title(f'Length distribution for {query_id} hits')\n",
    "ax.set_ylabel('count')\n",
    "ax.set_xlabel('sequence length')\n",
    "\n",
    "plt.show()"
   ]
  },
  {
   "cell_type": "code",
   "execution_count": 85,
   "metadata": {},
   "outputs": [],
   "source": [
    "# Based on the sequence length plot, we can select reasonable boundaries for the subsequent BLAST search. \n",
    "# There seems to be more hits for the sample UZE92041.1, so we will focus on that. \n",
    "mmseqs_df = mmseqs_df[mmseqs_df.query_id.str.match('UZE92782.1')]\n",
    "mmseqs_df = mmseqs_df[mmseqs_df.target_seq.apply(len) < 400]"
   ]
  },
  {
   "cell_type": "code",
   "execution_count": 100,
   "metadata": {},
   "outputs": [
    {
     "name": "stdout",
     "output_type": "stream",
     "text": [
      "Sequences remaining after filter: 49\n"
     ]
    }
   ],
   "source": [
    "print('Sequences remaining after filter:', len(mmseqs_df))\n",
    "dataframe_to_fasta(mmseqs_df.rename(columns={'target_seq':'seq'}), f'{DATA_DIR}{genome_id}/blast_target.faa')\n",
    "\n",
    "blast_query_df = dataframe_from_fasta(f'{DATA_DIR}{genome_id}/query.faa')\n",
    "blast_query_df = blast_query_df[blast_query_df['id'].str.match(query_id)]\n",
    "dataframe_to_fasta(blast_query_df, f'{DATA_DIR}{genome_id}/blast_query.faa')"
   ]
  },
  {
   "cell_type": "markdown",
   "metadata": {},
   "source": [
    "## Aligning homologs against extended sequences"
   ]
  },
  {
   "cell_type": "code",
   "execution_count": null,
   "metadata": {},
   "outputs": [],
   "source": [
    "# Install the BLAST command-line tool for Linux, and unzip the file in your home directory. \n",
    "curl https://ftp.ncbi.nlm.nih.gov/blast/executables/blast+/LATEST/ncbi-blast-2.15.0+-x64-linux.tar.gz  -o /home/prichter/\n",
    "tar /home/prichter/zxvpf ncbi-blast-2.15.0+-x64-linux.tar.gz "
   ]
  },
  {
   "cell_type": "code",
   "execution_count": 106,
   "metadata": {},
   "outputs": [],
   "source": [
    "# Set the path to the blast alignment command. \n",
    "blastp_cmd = '/home/prichter/ncbi-blast-2.15.0+/bin/blastp'\n",
    "# Define a custom TSV output format for the BLAST alignment. \n",
    "outfmt = '6 qseqid sseqid pident length mismatch gapopen qstart qend sstart send evalue bitscore qseq sseq'"
   ]
  },
  {
   "cell_type": "code",
   "execution_count": 108,
   "metadata": {},
   "outputs": [],
   "source": [
    "! '{blastp_cmd}' -subject '{DATA_DIR}{genome_id}/blast_target.faa' -query '{DATA_DIR}{genome_id}/blast_query.faa' -outfmt '{outfmt}' -out '{DATA_DIR}{genome_id}/blast_results.m8'"
   ]
  },
  {
   "cell_type": "code",
   "execution_count": 120,
   "metadata": {},
   "outputs": [
    {
     "data": {
      "text/html": [
       "<div>\n",
       "<style scoped>\n",
       "    .dataframe tbody tr th:only-of-type {\n",
       "        vertical-align: middle;\n",
       "    }\n",
       "\n",
       "    .dataframe tbody tr th {\n",
       "        vertical-align: top;\n",
       "    }\n",
       "\n",
       "    .dataframe thead th {\n",
       "        text-align: right;\n",
       "    }\n",
       "</style>\n",
       "<table border=\"1\" class=\"dataframe\">\n",
       "  <thead>\n",
       "    <tr style=\"text-align: right;\">\n",
       "      <th></th>\n",
       "      <th>percentage_identical</th>\n",
       "      <th>align_length</th>\n",
       "      <th>num_mismatches</th>\n",
       "      <th>num_gap_openings</th>\n",
       "      <th>query_align_start</th>\n",
       "      <th>query_align_stop</th>\n",
       "      <th>target_align_start</th>\n",
       "      <th>target_align_stop</th>\n",
       "      <th>e_value</th>\n",
       "      <th>bit_score</th>\n",
       "      <th>...</th>\n",
       "      <th>query_scaffold_id</th>\n",
       "      <th>query_feature</th>\n",
       "      <th>query_nt_start</th>\n",
       "      <th>query_nt_stop</th>\n",
       "      <th>query_reverse</th>\n",
       "      <th>query_frame</th>\n",
       "      <th>query_gene_id</th>\n",
       "      <th>query_nt_ext</th>\n",
       "      <th>query_aa_length</th>\n",
       "      <th>query_u_codon</th>\n",
       "    </tr>\n",
       "  </thead>\n",
       "  <tbody>\n",
       "    <tr>\n",
       "      <th>0</th>\n",
       "      <td>33.526</td>\n",
       "      <td>173</td>\n",
       "      <td>113</td>\n",
       "      <td>1</td>\n",
       "      <td>36</td>\n",
       "      <td>208</td>\n",
       "      <td>116</td>\n",
       "      <td>286</td>\n",
       "      <td>1.900000e-34</td>\n",
       "      <td>118.0</td>\n",
       "      <td>...</td>\n",
       "      <td>CP061209.1</td>\n",
       "      <td>CDS</td>\n",
       "      <td>182508</td>\n",
       "      <td>183327</td>\n",
       "      <td>True</td>\n",
       "      <td>0</td>\n",
       "      <td>None</td>\n",
       "      <td>24</td>\n",
       "      <td>273</td>\n",
       "      <td>TAA</td>\n",
       "    </tr>\n",
       "    <tr>\n",
       "      <th>1</th>\n",
       "      <td>23.626</td>\n",
       "      <td>182</td>\n",
       "      <td>131</td>\n",
       "      <td>3</td>\n",
       "      <td>62</td>\n",
       "      <td>241</td>\n",
       "      <td>102</td>\n",
       "      <td>277</td>\n",
       "      <td>4.110000e-18</td>\n",
       "      <td>73.6</td>\n",
       "      <td>...</td>\n",
       "      <td>CP061209.1</td>\n",
       "      <td>CDS</td>\n",
       "      <td>182508</td>\n",
       "      <td>183327</td>\n",
       "      <td>True</td>\n",
       "      <td>0</td>\n",
       "      <td>None</td>\n",
       "      <td>24</td>\n",
       "      <td>273</td>\n",
       "      <td>TAA</td>\n",
       "    </tr>\n",
       "    <tr>\n",
       "      <th>2</th>\n",
       "      <td>24.503</td>\n",
       "      <td>151</td>\n",
       "      <td>110</td>\n",
       "      <td>2</td>\n",
       "      <td>62</td>\n",
       "      <td>210</td>\n",
       "      <td>123</td>\n",
       "      <td>271</td>\n",
       "      <td>5.230000e-17</td>\n",
       "      <td>70.1</td>\n",
       "      <td>...</td>\n",
       "      <td>CP061209.1</td>\n",
       "      <td>CDS</td>\n",
       "      <td>182508</td>\n",
       "      <td>183327</td>\n",
       "      <td>True</td>\n",
       "      <td>0</td>\n",
       "      <td>None</td>\n",
       "      <td>24</td>\n",
       "      <td>273</td>\n",
       "      <td>TAA</td>\n",
       "    </tr>\n",
       "    <tr>\n",
       "      <th>3</th>\n",
       "      <td>26.347</td>\n",
       "      <td>167</td>\n",
       "      <td>108</td>\n",
       "      <td>4</td>\n",
       "      <td>62</td>\n",
       "      <td>217</td>\n",
       "      <td>114</td>\n",
       "      <td>276</td>\n",
       "      <td>9.940000e-17</td>\n",
       "      <td>69.3</td>\n",
       "      <td>...</td>\n",
       "      <td>CP061209.1</td>\n",
       "      <td>CDS</td>\n",
       "      <td>182508</td>\n",
       "      <td>183327</td>\n",
       "      <td>True</td>\n",
       "      <td>0</td>\n",
       "      <td>None</td>\n",
       "      <td>24</td>\n",
       "      <td>273</td>\n",
       "      <td>TAA</td>\n",
       "    </tr>\n",
       "    <tr>\n",
       "      <th>4</th>\n",
       "      <td>22.013</td>\n",
       "      <td>159</td>\n",
       "      <td>115</td>\n",
       "      <td>2</td>\n",
       "      <td>31</td>\n",
       "      <td>189</td>\n",
       "      <td>106</td>\n",
       "      <td>255</td>\n",
       "      <td>1.270000e-16</td>\n",
       "      <td>69.3</td>\n",
       "      <td>...</td>\n",
       "      <td>CP061209.1</td>\n",
       "      <td>CDS</td>\n",
       "      <td>182508</td>\n",
       "      <td>183327</td>\n",
       "      <td>True</td>\n",
       "      <td>0</td>\n",
       "      <td>None</td>\n",
       "      <td>24</td>\n",
       "      <td>273</td>\n",
       "      <td>TAA</td>\n",
       "    </tr>\n",
       "  </tbody>\n",
       "</table>\n",
       "<p>5 rows × 44 columns</p>\n",
       "</div>"
      ],
      "text/plain": [
       "   percentage_identical  align_length  num_mismatches  num_gap_openings  \\\n",
       "0                33.526           173             113                 1   \n",
       "1                23.626           182             131                 3   \n",
       "2                24.503           151             110                 2   \n",
       "3                26.347           167             108                 4   \n",
       "4                22.013           159             115                 2   \n",
       "\n",
       "   query_align_start  query_align_stop  target_align_start  target_align_stop  \\\n",
       "0                 36               208                 116                286   \n",
       "1                 62               241                 102                277   \n",
       "2                 62               210                 123                271   \n",
       "3                 62               217                 114                276   \n",
       "4                 31               189                 106                255   \n",
       "\n",
       "        e_value  bit_score  ... query_scaffold_id query_feature  \\\n",
       "0  1.900000e-34      118.0  ...        CP061209.1           CDS   \n",
       "1  4.110000e-18       73.6  ...        CP061209.1           CDS   \n",
       "2  5.230000e-17       70.1  ...        CP061209.1           CDS   \n",
       "3  9.940000e-17       69.3  ...        CP061209.1           CDS   \n",
       "4  1.270000e-16       69.3  ...        CP061209.1           CDS   \n",
       "\n",
       "   query_nt_start  query_nt_stop  query_reverse  query_frame  query_gene_id  \\\n",
       "0          182508         183327           True            0           None   \n",
       "1          182508         183327           True            0           None   \n",
       "2          182508         183327           True            0           None   \n",
       "3          182508         183327           True            0           None   \n",
       "4          182508         183327           True            0           None   \n",
       "\n",
       "   query_nt_ext  query_aa_length  query_u_codon  \n",
       "0            24              273            TAA  \n",
       "1            24              273            TAA  \n",
       "2            24              273            TAA  \n",
       "3            24              273            TAA  \n",
       "4            24              273            TAA  \n",
       "\n",
       "[5 rows x 44 columns]"
      ]
     },
     "execution_count": 120,
     "metadata": {},
     "output_type": "execute_result"
    }
   ],
   "source": [
    "blastp_df = dataframe_from_m8(f'{DATA_DIR}{genome_id}/blast_results.m8')\n",
    "blastp_df.head()"
   ]
  },
  {
   "cell_type": "code",
   "execution_count": 112,
   "metadata": {},
   "outputs": [
    {
     "name": "stdout",
     "output_type": "stream",
     "text": [
      "Maximum sequence identity: 33.526\n",
      "Minimum sequence identity: 19.512\n",
      "Mean sequence identity: 23.971540000000005\n"
     ]
    }
   ],
   "source": [
    "print('Maximum sequence identity:', max(blastp_df.percentage_identical))\n",
    "print('Minimum sequence identity:', min(blastp_df.percentage_identical))\n",
    "print('Mean sequence identity:', blastp_df.percentage_identical.mean())"
   ]
  },
  {
   "cell_type": "code",
   "execution_count": 122,
   "metadata": {},
   "outputs": [
    {
     "name": "stdout",
     "output_type": "stream",
     "text": [
      "JAFRMD010000040.1_2\n",
      "CACXCN010000042.1_15\n",
      "CAISVC010000334.1_1\n",
      "SLMV01000216.1_7\n",
      "CAJORE010000133.1_2\n",
      "JAFQMU010000191.1_11\n",
      "JAFTCE010000087.1_14\n",
      "CACWQW010000002.1_20\n",
      "SKJJ01000116.1_9\n",
      "JADFVM010000040.1_20\n",
      "NZ_AUBP01000002.1_72\n",
      "SLGS01000155.1_2\n",
      "WQRV01000016.1_6\n",
      "JAAYOY010000184.1_5\n",
      "JAABTT010000029.1_23\n",
      "JACRNJ010000069.1_9\n",
      "JACRCM010000168.1_26\n",
      "MHDO01000099.1_5\n",
      "JACQXH010000220.1_6\n",
      "VGSO01000021.1_8\n",
      "JACNJG010000027.1_7\n",
      "NZ_ARQF01000020.1_864\n",
      "JACQQJ010000126.1_9\n",
      "JACRPW010000006.1_35\n",
      "QKEJ01000196.1_5\n",
      "QKEJ01000196.1_5\n",
      "MGRL01000091.1_9\n",
      "JAAYGN010000044.1_4\n",
      "DTGR01000225.1_7\n",
      "DNJG01000034.1_8\n",
      "MNZR01000272.1_3\n",
      "CABKMN010000070.1_11\n",
      "NZ_AUCY01000041.1_19\n",
      "LR026961.1_3008\n",
      "NZ_AULM01000012.1_90\n",
      "NZ_JYNO01000004.1_377\n",
      "DXFI01000243.1_4\n",
      "JAHJUF010000009.1_1\n",
      "DBMO01000023.1_15\n",
      "JACNJD010000247.1_3\n",
      "NZ_JACHGO010000006.1_23\n",
      "LUZZ01000011.1_8\n",
      "PQXE01000019.1_20\n",
      "DSCZ01000118.1_2\n",
      "WGDC01000016.1_26\n",
      "DREN01000450.1_5\n",
      "CAJUHZ010000014.1_8\n",
      "PQXD01000004.1_69\n",
      "JAGYNZ010000008.1_28\n",
      "DTYO01000048.1_3\n"
     ]
    }
   ],
   "source": [
    "for target_id in blastp_df.target_id:\n",
    "    print(target_id)"
   ]
  },
  {
   "cell_type": "code",
   "execution_count": null,
   "metadata": {},
   "outputs": [],
   "source": []
  }
 ],
 "metadata": {
  "kernelspec": {
   "display_name": "selenobot",
   "language": "python",
   "name": "python3"
  },
  "language_info": {
   "codemirror_mode": {
    "name": "ipython",
    "version": 3
   },
   "file_extension": ".py",
   "mimetype": "text/x-python",
   "name": "python",
   "nbconvert_exporter": "python",
   "pygments_lexer": "ipython3",
   "version": "3.9.18"
  }
 },
 "nbformat": 4,
 "nbformat_minor": 2
}
