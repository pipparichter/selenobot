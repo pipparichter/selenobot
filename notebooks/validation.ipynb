{
 "cells": [
  {
   "cell_type": "markdown",
   "metadata": {},
   "source": [
    "# Validation\n",
    "\n",
    "In order to further validate the promising results of the PLM classifier on the testing data, we sought to interrogate a well-characterized microbial genome using the model. To this end, we chose to analyze the complete genome of Escherichia coli (strain K-12, substrain. MG1655, assembly ASM584v2). The RefSeq accession for this genome is GCF_000005845.2. \n",
    "\n",
    "For organizational purposes, all data used for model validation is placed into a subdirectory within the data directory. If you want to run this code, be sure to modify the `DATA_DIR` variable below to specify where the data will be stored on your machine.\n"
   ]
  },
  {
   "cell_type": "code",
   "execution_count": null,
   "metadata": {},
   "outputs": [],
   "source": [
    "%load_ext autoreload\n",
    "%autoreload 2"
   ]
  },
  {
   "cell_type": "code",
   "execution_count": 3,
   "metadata": {},
   "outputs": [],
   "source": [
    "import sys\n",
    "# Add the selenobot/ subirectory to the module search path, so that the modules in this directory are visible from the notebook.\n",
    "sys.path.append('../selenobot/')\n",
    "\n",
    "from dataset import Dataset\n",
    "from classifiers import Classifier\n",
    "from utils import csv_size, dataframe_from_gff\n",
    "from extend import extend\n",
    "from plot import plot_training_curve\n",
    "import pandas as pd\n",
    "from typing import NoReturn\n",
    "import numpy as np\n",
    "import pickle"
   ]
  },
  {
   "cell_type": "code",
   "execution_count": 4,
   "metadata": {},
   "outputs": [],
   "source": [
    "DATA_DIR = '/home/prichter/Documents/data/selenobot-test/validation/'\n",
    "\n",
    "genome_id = 'GCF_000005845.2' # The accession of the genome to download. \n",
    "assembly = 'ASM584v2' # The specific genome assembly. "
   ]
  },
  {
   "cell_type": "markdown",
   "metadata": {},
   "source": [
    "## Downloading genome data"
   ]
  },
  {
   "cell_type": "code",
   "execution_count": null,
   "metadata": {},
   "outputs": [
    {
     "name": "stdout",
     "output_type": "stream",
     "text": [
      "  % Total    % Received % Xferd  Average Speed   Time    Time     Time  Current\n",
      "                                 Dload  Upload   Total   Spent    Left  Speed\n",
      "100 2655k    0 2655k    0     0   313k      0 --:--:--  0:00:08 --:--:--  340k\n",
      "Archive:  /home/prichter/Documents/data/selenobot-test/validation/ncbi_dataset.zip\n",
      "  inflating: /home/prichter/Documents/data/selenobot-test/validation/README.md  \n",
      "  inflating: /home/prichter/Documents/data/selenobot-test/validation/ncbi_dataset/data/assembly_data_report.jsonl  \n",
      "  inflating: /home/prichter/Documents/data/selenobot-test/validation/ncbi_dataset/data/GCF_000005845.2/GCF_000005845.2_ASM584v2_genomic.fna  \n",
      "  inflating: /home/prichter/Documents/data/selenobot-test/validation/ncbi_dataset/data/GCF_000005845.2/protein.faa  \n",
      "  inflating: /home/prichter/Documents/data/selenobot-test/validation/ncbi_dataset/data/GCF_000005845.2/genomic.gff  \n",
      "  inflating: /home/prichter/Documents/data/selenobot-test/validation/ncbi_dataset/data/dataset_catalog.json  \n"
     ]
    }
   ],
   "source": [
    "# Download and unzip the genome data from NCBI. \n",
    "! curl 'https://api.ncbi.nlm.nih.gov/datasets/v2alpha/genome/accession/{genome_id}/download?include_annotation_type=GENOME_FASTA,PROT_FASTA,GENOME_GFF' -o '{DATA_DIR}ncbi_dataset.zip'\n",
    "! unzip '{DATA_DIR}ncbi_dataset.zip' -d '{DATA_DIR}'\n",
    "\n",
    "# Create a directory to store the genome files. \n",
    "! mkdir '{DATA_DIR}{genome_id}/' \n",
    "# Move the relevant files into the new directory for organizational purposes. \n",
    "! mv '{DATA_DIR}ncbi_dataset/data/{genome_id}/genomic.gff' -t '{DATA_DIR}{genome_id}/'\n",
    "! mv '{DATA_DIR}ncbi_dataset/data/{genome_id}/protein.faa' -t '{DATA_DIR}{genome_id}/'\n",
    "! mv '{DATA_DIR}ncbi_dataset/data/{genome_id}/{genome_id}_{assembly}_genomic.fna' '{DATA_DIR}{genome_id}/genome.fna'\n",
    "\n",
    "# Remove some extraneous files which were also downloaded. \n",
    "! rm '{DATA_DIR}README.md'\n",
    "! rm -R '{DATA_DIR}ncbi_dataset'"
   ]
  },
  {
   "cell_type": "markdown",
   "metadata": {},
   "source": [
    "## Predicting selenoproteins"
   ]
  },
  {
   "cell_type": "markdown",
   "metadata": {},
   "source": [
    "### Embedding the genes"
   ]
  },
  {
   "cell_type": "markdown",
   "metadata": {},
   "source": [
    "### Running the PLM classifier"
   ]
  },
  {
   "cell_type": "code",
   "execution_count": null,
   "metadata": {},
   "outputs": [],
   "source": [
    "df = dataframe_from_fasta(f'{DATA_DIR}protein.faa')\n",
    "dataset = Dataset(df, embedder=None)"
   ]
  },
  {
   "cell_type": "code",
   "execution_count": null,
   "metadata": {},
   "outputs": [],
   "source": [
    "model = Classifier(latent_dim=1024, hidden_dim=512)\n",
    "model.load_state_dict(torch.load(f'{DATA_DIR}plm_model_weights.pth'))"
   ]
  },
  {
   "cell_type": "code",
   "execution_count": null,
   "metadata": {},
   "outputs": [],
   "source": [
    "def load_genome(path:str) -> str:\n",
    "    '''Load in the complete nucleotide sequence of the genome.\n",
    "    \n",
    "    :param path: A FASTA file from NCBI which contains a complete genome. \n",
    "    :return: A string of nucleotides. \n",
    "    '''\n",
    "    with open(path, 'r') as f:\n",
    "        lines = f.read().splitlines()[1:] # Skip the header line. \n",
    "        seq = ''.join(lines)\n",
    "    return seq"
   ]
  },
  {
   "cell_type": "code",
   "execution_count": null,
   "metadata": {},
   "outputs": [],
   "source": [
    "# Eventually, will need to be able to support this for a whole list of genomes.\n",
    "def database_build_query() -> NoReturn:\n",
    "    '''Build a query data database, which contains the sequences to search for homology matches for.'''\n",
    "    # Grab the coordinate information about the predicted selenoproteins only. Exclude known selenoproteins.\n",
    "    database = load_coordinates(gene_ids=[g for g in load_predictions() if g not in known_selenoproteins])\n",
    "    # Mark the sequences which will be extended past the first STOP codon. \n",
    "    # database['extend'] = [(gene_id not in known_selenoproteins) for gene_id in database.gene_id]\n",
    "    database['extend'] = True \n",
    "    database = get_sequences(database, load_genome('', path=os.path.join(DATA_DIR, 'genome.fasta')))\n",
    "    database_write(database, filename='query.fasta')\n",
    "\n",
    "\n",
    "def database_build_control() -> NoReturn:\n",
    "    '''Build a control query data database, which contains the non-extended selenoprotein sequences.'''\n",
    "    # Grab the coordinate information about the predicted selenoproteins only. Exclude known selenoproteins.\n",
    "    database = load_coordinates(gene_ids=[id_ for id_ in load_predictions() if id_ not in known_selenoproteins])\n",
    "    database['extend'] = False # Don't extend anything here. \n",
    "    database = get_sequences(database, load_genome('', path=os.path.join(DATA_DIR, 'genome.fasta')))\n",
    "    database_write(database, filename='control.fasta')"
   ]
  },
  {
   "cell_type": "code",
   "execution_count": null,
   "metadata": {},
   "outputs": [],
   "source": []
  },
  {
   "cell_type": "code",
   "execution_count": null,
   "metadata": {},
   "outputs": [],
   "source": []
  },
  {
   "cell_type": "code",
   "execution_count": null,
   "metadata": {},
   "outputs": [
    {
     "name": "stdout",
     "output_type": "stream",
     "text": [
      "Obtaining file:///home/prichter/Documents/find-a-bug-api\n",
      "  Preparing metadata (setup.py) ... \u001b[?25ldone\n",
      "\u001b[?25hRequirement already satisfied: requests in /home/prichter/miniconda3/envs/selenobot/lib/python3.9/site-packages (from Find-A-Bug-API==0.0.0) (2.31.0)\n",
      "Requirement already satisfied: pandas in /home/prichter/miniconda3/envs/selenobot/lib/python3.9/site-packages (from Find-A-Bug-API==0.0.0) (2.1.1)\n",
      "Requirement already satisfied: numpy>=1.22.4 in /home/prichter/miniconda3/envs/selenobot/lib/python3.9/site-packages (from pandas->Find-A-Bug-API==0.0.0) (1.26.0)\n",
      "Requirement already satisfied: python-dateutil>=2.8.2 in /home/prichter/miniconda3/envs/selenobot/lib/python3.9/site-packages (from pandas->Find-A-Bug-API==0.0.0) (2.8.2)\n",
      "Requirement already satisfied: pytz>=2020.1 in /home/prichter/miniconda3/envs/selenobot/lib/python3.9/site-packages (from pandas->Find-A-Bug-API==0.0.0) (2023.3.post1)\n",
      "Requirement already satisfied: tzdata>=2022.1 in /home/prichter/miniconda3/envs/selenobot/lib/python3.9/site-packages (from pandas->Find-A-Bug-API==0.0.0) (2023.3)\n",
      "Requirement already satisfied: charset-normalizer<4,>=2 in /home/prichter/miniconda3/envs/selenobot/lib/python3.9/site-packages (from requests->Find-A-Bug-API==0.0.0) (2.0.4)\n",
      "Requirement already satisfied: idna<4,>=2.5 in /home/prichter/miniconda3/envs/selenobot/lib/python3.9/site-packages (from requests->Find-A-Bug-API==0.0.0) (3.4)\n",
      "Requirement already satisfied: urllib3<3,>=1.21.1 in /home/prichter/miniconda3/envs/selenobot/lib/python3.9/site-packages (from requests->Find-A-Bug-API==0.0.0) (1.26.16)\n",
      "Requirement already satisfied: certifi>=2017.4.17 in /home/prichter/miniconda3/envs/selenobot/lib/python3.9/site-packages (from requests->Find-A-Bug-API==0.0.0) (2023.11.17)\n",
      "Requirement already satisfied: six>=1.5 in /home/prichter/miniconda3/envs/selenobot/lib/python3.9/site-packages (from python-dateutil>=2.8.2->pandas->Find-A-Bug-API==0.0.0) (1.16.0)\n",
      "Installing collected packages: Find-A-Bug-API\n",
      "  Attempting uninstall: Find-A-Bug-API\n",
      "    Found existing installation: Find-A-Bug-API 0.0.0\n",
      "    Uninstalling Find-A-Bug-API-0.0.0:\n",
      "      Successfully uninstalled Find-A-Bug-API-0.0.0\n",
      "  Running setup.py develop for Find-A-Bug-API\n",
      "Successfully installed Find-A-Bug-API-0.0.0\n"
     ]
    }
   ],
   "source": [
    "! pip install -e /home/prichter/Documents/find-a-bug-api"
   ]
  },
  {
   "cell_type": "code",
   "execution_count": null,
   "metadata": {},
   "outputs": [],
   "source": [
    "from align import *\n",
    "import pandas as pd\n",
    "import numpy as np\n",
    "import matplotlib.pyplot as plt\n",
    "import os\n",
    "import fabapi\n",
    "import fabapi.genomes"
   ]
  },
  {
   "cell_type": "code",
   "execution_count": null,
   "metadata": {},
   "outputs": [],
   "source": [
    "# Load in the query sequences from the query.fasta file. These sequences have been extended past the STOP codon. \n",
    "ydhv_seq = mmseqs_load_sequence_from_database('ydhV')\n",
    "ydhv_seq_non_extended = ydhv_seq.split('U')[0]\n",
    "ydhv_u_pos = ydhv_seq.index('U') # Get the position of the putative selenocysteine."
   ]
  },
  {
   "cell_type": "code",
   "execution_count": null,
   "metadata": {},
   "outputs": [
    {
     "name": "stdout",
     "output_type": "stream",
     "text": [
      "Columns in MMSeqs2 data:\n",
      "\n",
      "target_gene_id\n",
      "seq_identity\n",
      "alignment_length\n",
      "num_mismatches\n",
      "num_gap_openings\n",
      "query_domain_start\n",
      "query_domain_stop\n",
      "target_domain_start\n",
      "target_domain_stop\n",
      "e_value\n",
      "bit_score\n",
      "query_gene_id\n",
      "query_nt_ext\n",
      "query_aa_length\n",
      "query_aa_ext\n",
      "split\n",
      "query_u_position\n",
      "past_stop_codon\n",
      "target_seq\n"
     ]
    }
   ],
   "source": [
    "# This function loads in the data from mmseqs.csv, which contains the start and stop regions of the hits relative to both\n",
    "# the query and target sequences, the target gene IDs, and the full-length target sequences (downloaded using Find-A-Bug).\n",
    "mmseqs_data = pd.read_csv(os.path.join(DATA_DIR, 'mmseqs', 'mmseqs.csv'), index_col=0)\n",
    "mmseqs_data = mmseqs_data[mmseqs_data.query_gene_id == 'ydhV']\n",
    "print('Columns in MMSeqs2 data:\\n\\n' + '\\n'.join(mmseqs_data.columns))"
   ]
  },
  {
   "cell_type": "code",
   "execution_count": null,
   "metadata": {},
   "outputs": [
    {
     "name": "stdout",
     "output_type": "stream",
     "text": [
      "Number of MMSeqs2 hits: 9600\n",
      "Number of unique hits: 9600\n",
      "Number of hits past the stop codon: 163\n"
     ]
    }
   ],
   "source": [
    "print('Number of MMSeqs2 hits:', len(mmseqs_data))\n",
    "print('Number of unique hits:', len(set(mmseqs_data.target_gene_id)))\n",
    "print('Number of hits past the stop codon:', sum(mmseqs_data.past_stop_codon))"
   ]
  },
  {
   "cell_type": "code",
   "execution_count": null,
   "metadata": {},
   "outputs": [
    {
     "data": {
      "image/png": "[encoded data removed]",
      "text/plain": [
       "<Figure size 640x480 with 1 Axes>"
      ]
     },
     "metadata": {},
     "output_type": "display_data"
    }
   ],
   "source": [
    "mmseqs_hit_lengths = mmseqs_data.target_seq.apply(len).values\n",
    "mmseqs_hit_lengths_past_stop_codon = mmseqs_data[mmseqs_data.past_stop_codon].target_seq.apply(len).values \n",
    "\n",
    "fig, ax = plt.subplots(1)\n",
    "ax.hist(mmseqs_hit_lengths, bins=len(set(mmseqs_hit_lengths)))\n",
    "ax.hist(mmseqs_hit_lengths_past_stop_codon, bins=len(set(mmseqs_hit_lengths_past_stop_codon)))\n",
    "ax.set_title(f'ydhV hit length distribution')\n",
    "ax.axvline(len(ydhv_seq), c='red')\n",
    "ax.axvline(len(ydhv_seq_non_extended), c='green')\n",
    "ax.legend([ 'ydhV extended length', 'ydhV non-extended length', 'length distribution', 'length distribution (hits past stop codon)'])\n",
    "ax.set_yscale('log')\n",
    "plt.show()"
   ]
  },
  {
   "cell_type": "code",
   "execution_count": null,
   "metadata": {},
   "outputs": [
    {
     "name": "stdout",
     "output_type": "stream",
     "text": [
      "homology.get_pairwise_alignments: Unable to generate alignments for 163 target genes.\n"
     ]
    }
   ],
   "source": [
    "# Generate pairwise alignments for each of the candidates.\n",
    "get_pairwise_alignments(ydhv_seq, mmseqs_data[mmseqs_data.past_stop_codon], filename='mmseqs_alignments_ydhv.csv')"
   ]
  },
  {
   "cell_type": "code",
   "execution_count": null,
   "metadata": {},
   "outputs": [
    {
     "name": "stdout",
     "output_type": "stream",
     "text": [
      "Number of target sequences which meet the length and hit location requirements: 9\n",
      "\n",
      "JACTUC010000002.1_23\n",
      "PRDJ01000036.1_86\n",
      "DRYY01000068.1_6\n",
      "JAEORN010000318.1_13\n",
      "JACIVQ010000013.1_25\n",
      "QNVH01000006.1_12\n",
      "QNVI01000016.1_50\n",
      "VGLU01000004.1_4\n",
      "PRDI01000058.1_30\n"
     ]
    }
   ],
   "source": [
    "# Filter the data according to both the length of the target sequence and whether or not the hit spans the selenocysteine. \n",
    "mmseqs_data = mmseqs_data[mmseqs_data.past_stop_codon]\n",
    "mmseqs_data = mmseqs_data[mmseqs_data.target_seq.apply(len) > 800] # Length cutoff from eyeballing the distribution. \n",
    "\n",
    "print('Number of target sequences which meet the length and hit location requirements:', len(mmseqs_data))\n",
    "print('\\n' + '\\n'.join(list(mmseqs_data.target_gene_id)))\n",
    "# I should look into the KO groups and other data for these particular genes. "
   ]
  },
  {
   "cell_type": "code",
   "execution_count": null,
   "metadata": {},
   "outputs": [],
   "source": [
    "blast_build_target(mmseqs_data, filename='target_ydhv.fasta')\n",
    "blast_build_query('ydhV', ydhv_seq, filename='query_ydhv.fasta')\n",
    "# Run blastp on the query and target, and write the output to a TSV file at the specified filename. \n",
    "blast_run('query_ydhv.fasta', 'target_ydhv.fasta', 'results_ydhv.tsv')"
   ]
  },
  {
   "cell_type": "code",
   "execution_count": null,
   "metadata": {},
   "outputs": [
    {
     "name": "stdout",
     "output_type": "stream",
     "text": [
      "align.blast_load_results: Alignments for DRYY01000068.1_6, VGLU01000004.1_4 do not cover selenocysteine, and were removed.\n"
     ]
    },
    {
     "data": {
      "text/html": [
       "<div>\n",
       "<style scoped>\n",
       "    .dataframe tbody tr th:only-of-type {\n",
       "        vertical-align: middle;\n",
       "    }\n",
       "\n",
       "    .dataframe tbody tr th {\n",
       "        vertical-align: top;\n",
       "    }\n",
       "\n",
       "    .dataframe thead th {\n",
       "        text-align: right;\n",
       "    }\n",
       "</style>\n",
       "<table border=\"1\" class=\"dataframe\">\n",
       "  <thead>\n",
       "    <tr style=\"text-align: right;\">\n",
       "      <th></th>\n",
       "      <th>percentage_identical</th>\n",
       "      <th>align_length</th>\n",
       "      <th>num_mismatches</th>\n",
       "      <th>num_gap_openings</th>\n",
       "      <th>query_align_start</th>\n",
       "      <th>query_align_stop</th>\n",
       "      <th>target_align_start</th>\n",
       "      <th>target_align_stop</th>\n",
       "      <th>e_value</th>\n",
       "      <th>bit_score</th>\n",
       "      <th>query_align_seq</th>\n",
       "      <th>target_align_seq</th>\n",
       "      <th>target_gene_id</th>\n",
       "      <th>query_gene_id</th>\n",
       "      <th>u_pos</th>\n",
       "      <th>u_overlap</th>\n",
       "    </tr>\n",
       "  </thead>\n",
       "  <tbody>\n",
       "    <tr>\n",
       "      <th>0</th>\n",
       "      <td>26.852</td>\n",
       "      <td>756</td>\n",
       "      <td>436</td>\n",
       "      <td>26</td>\n",
       "      <td>4</td>\n",
       "      <td>732</td>\n",
       "      <td>3</td>\n",
       "      <td>668</td>\n",
       "      <td>2.290000e-50</td>\n",
       "      <td>183.0</td>\n",
       "      <td>GWTGNILRVNLTTGNITLE--DSSKFKSFVGGMGFGYKIMYDEVPP...</td>\n",
       "      <td>GYMGRILRINLATSTITEEFPDEETLRKYLGGAGLATKILIEETEK...</td>\n",
       "      <td>PRDJ01000036.1_86</td>\n",
       "      <td>ydhV</td>\n",
       "      <td>715</td>\n",
       "      <td>G</td>\n",
       "    </tr>\n",
       "    <tr>\n",
       "      <th>2</th>\n",
       "      <td>26.635</td>\n",
       "      <td>841</td>\n",
       "      <td>500</td>\n",
       "      <td>35</td>\n",
       "      <td>7</td>\n",
       "      <td>838</td>\n",
       "      <td>2</td>\n",
       "      <td>734</td>\n",
       "      <td>4.310000e-49</td>\n",
       "      <td>177.0</td>\n",
       "      <td>GNILRVNLTTGNITLED--SSKFKSFVGGMGFGYKIMYDEVPPGTK...</td>\n",
       "      <td>GKILRVDLSSREISVEDLDMDVAASFVGGRGYGAKILFEELPVGID...</td>\n",
       "      <td>QNVH01000006.1_12</td>\n",
       "      <td>ydhV</td>\n",
       "      <td>703</td>\n",
       "      <td>V</td>\n",
       "    </tr>\n",
       "    <tr>\n",
       "      <th>3</th>\n",
       "      <td>26.240</td>\n",
       "      <td>766</td>\n",
       "      <td>417</td>\n",
       "      <td>24</td>\n",
       "      <td>4</td>\n",
       "      <td>728</td>\n",
       "      <td>3</td>\n",
       "      <td>661</td>\n",
       "      <td>6.830000e-49</td>\n",
       "      <td>178.0</td>\n",
       "      <td>GWTGNILRVNLTTGNITLE--DSSKFKSFVGGMGFGYKIMYDEVPP...</td>\n",
       "      <td>GYMGKILRVNLTTGSITEEFPDEETLRKYLGGSGLATKYLFEETEP...</td>\n",
       "      <td>JAEORN010000318.1_13</td>\n",
       "      <td>ydhV</td>\n",
       "      <td>733</td>\n",
       "      <td>Q</td>\n",
       "    </tr>\n",
       "    <tr>\n",
       "      <th>4</th>\n",
       "      <td>26.876</td>\n",
       "      <td>733</td>\n",
       "      <td>412</td>\n",
       "      <td>20</td>\n",
       "      <td>4</td>\n",
       "      <td>709</td>\n",
       "      <td>3</td>\n",
       "      <td>638</td>\n",
       "      <td>8.150000e-49</td>\n",
       "      <td>178.0</td>\n",
       "      <td>GWTGNILRVNLTTGNITLE--DSSKFKSFVGGMGFGYKIMYDEVPP...</td>\n",
       "      <td>GYMGKILRINLTTSTITEEFPDEETLRKYLGGAGLATKILLEETEK...</td>\n",
       "      <td>PRDI01000058.1_30</td>\n",
       "      <td>ydhV</td>\n",
       "      <td>724</td>\n",
       "      <td>G</td>\n",
       "    </tr>\n",
       "    <tr>\n",
       "      <th>5</th>\n",
       "      <td>25.235</td>\n",
       "      <td>852</td>\n",
       "      <td>506</td>\n",
       "      <td>34</td>\n",
       "      <td>3</td>\n",
       "      <td>838</td>\n",
       "      <td>2</td>\n",
       "      <td>738</td>\n",
       "      <td>1.130000e-47</td>\n",
       "      <td>173.0</td>\n",
       "      <td>NGWTGNILRVNLTTGNITLEDSSK--FKSFVGGMGFGYKIMYDEVP...</td>\n",
       "      <td>NGYMGKILRVDLSSKEISIEELNMDIAYQFIGGRGYGAKVLFDELP...</td>\n",
       "      <td>QNVI01000016.1_50</td>\n",
       "      <td>ydhV</td>\n",
       "      <td>714</td>\n",
       "      <td>V</td>\n",
       "    </tr>\n",
       "  </tbody>\n",
       "</table>\n",
       "</div>"
      ],
      "text/plain": [
       "   percentage_identical  align_length  num_mismatches  num_gap_openings  \\\n",
       "0                26.852           756             436                26   \n",
       "2                26.635           841             500                35   \n",
       "3                26.240           766             417                24   \n",
       "4                26.876           733             412                20   \n",
       "5                25.235           852             506                34   \n",
       "\n",
       "   query_align_start  query_align_stop  target_align_start  target_align_stop  \\\n",
       "0                  4               732                   3                668   \n",
       "2                  7               838                   2                734   \n",
       "3                  4               728                   3                661   \n",
       "4                  4               709                   3                638   \n",
       "5                  3               838                   2                738   \n",
       "\n",
       "        e_value  bit_score                                    query_align_seq  \\\n",
       "0  2.290000e-50      183.0  GWTGNILRVNLTTGNITLE--DSSKFKSFVGGMGFGYKIMYDEVPP...   \n",
       "2  4.310000e-49      177.0  GNILRVNLTTGNITLED--SSKFKSFVGGMGFGYKIMYDEVPPGTK...   \n",
       "3  6.830000e-49      178.0  GWTGNILRVNLTTGNITLE--DSSKFKSFVGGMGFGYKIMYDEVPP...   \n",
       "4  8.150000e-49      178.0  GWTGNILRVNLTTGNITLE--DSSKFKSFVGGMGFGYKIMYDEVPP...   \n",
       "5  1.130000e-47      173.0  NGWTGNILRVNLTTGNITLEDSSK--FKSFVGGMGFGYKIMYDEVP...   \n",
       "\n",
       "                                    target_align_seq        target_gene_id  \\\n",
       "0  GYMGRILRINLATSTITEEFPDEETLRKYLGGAGLATKILIEETEK...     PRDJ01000036.1_86   \n",
       "2  GKILRVDLSSREISVEDLDMDVAASFVGGRGYGAKILFEELPVGID...     QNVH01000006.1_12   \n",
       "3  GYMGKILRVNLTTGSITEEFPDEETLRKYLGGSGLATKYLFEETEP...  JAEORN010000318.1_13   \n",
       "4  GYMGKILRINLTTSTITEEFPDEETLRKYLGGAGLATKILLEETEK...     PRDI01000058.1_30   \n",
       "5  NGYMGKILRVDLSSKEISIEELNMDIAYQFIGGRGYGAKVLFDELP...     QNVI01000016.1_50   \n",
       "\n",
       "  query_gene_id  u_pos u_overlap  \n",
       "0          ydhV    715         G  \n",
       "2          ydhV    703         V  \n",
       "3          ydhV    733         Q  \n",
       "4          ydhV    724         G  \n",
       "5          ydhV    714         V  "
      ]
     },
     "execution_count": 11,
     "metadata": {},
     "output_type": "execute_result"
    }
   ],
   "source": [
    "# Load in the data from running pairwise alignments of ydhV against the nine sequences from above.\n",
    "blast_data = blast_load_results('results_ydhv.tsv')\n",
    "blast_data.head()"
   ]
  },
  {
   "cell_type": "code",
   "execution_count": null,
   "metadata": {},
   "outputs": [
    {
     "name": "stdout",
     "output_type": "stream",
     "text": [
      "PRDJ01000036.1_86 \t G\n",
      "QNVH01000006.1_12 \t V\n",
      "JAEORN010000318.1_13 \t Q\n",
      "PRDI01000058.1_30 \t G\n",
      "QNVI01000016.1_50 \t V\n",
      "JACIVQ010000013.1_25 \t V\n",
      "JACTUC010000002.1_23 \t V\n"
     ]
    }
   ],
   "source": [
    "for row in blast_data.itertuples():\n",
    "    print(row.target_gene_id, '\\t', row.u_overlap)"
   ]
  },
  {
   "cell_type": "code",
   "execution_count": null,
   "metadata": {},
   "outputs": [],
   "source": [
    "# def download_ko(gene_id:str) -> List[str]:\n",
    "#     '''Obtains the KO group(s) for the gene ID from the Find-A-Bug database.'''\n",
    "#     url = f'http://microbes.gps.caltech.edu:8000/api/annotations?gene_id={gene_id}'\n",
    "#     response = requests.get(url).text\n",
    "#     kos = pd.read_csv(StringIO(response), index_col=0).ko\n",
    "#     return list(kos)\n",
    "\n",
    "# for row in blast_data.itertuples():\n",
    "#     print(row.target_gene_id, download_ko(row.target_gene_id))"
   ]
  },
  {
   "cell_type": "code",
   "execution_count": null,
   "metadata": {},
   "outputs": [
    {
     "name": "stdout",
     "output_type": "stream",
     "text": [
      "ydhv 675 TRETLQRLGLEDIAADLAAHNLLPA[U]GMGKMNHQDELPLAKVSEVDEAKRQ 726\n",
      "PRDJ01000036.1_86 693 TVEKLKELGLEWVAGSIPEYGGFGR[G]TTGAQMKQVATSDNETAGAVPAASV 744\n",
      "QNVH01000006.1_12 680 TDKKVSQLGLKPLYEGPKXQ-----[V]AIDERYLKDALPIA------EASYR 731\n",
      "JAEORN010000318.1_13 711 TVEKLKELDLEWL-VDVVHGDIAPI[Q]EIVRQKAKDLPAIERKSTSAGMEVK 762\n",
      "PRDI01000058.1_30 702 SREKLKELDLAWVADSIPEYGDLGR[G]TTGAQTKQ 736\n",
      "QNVI01000016.1_50 691 TDKKVLELGLTPLYDGPKIQ-----[V]AIDERYMKDALPIA------EAAYR 742\n",
      "JACIVQ010000013.1_25 691 TDKKVSQLGLKPLYEGPKLQ-----[V]AIDERYLKDALPIA------EASYR 742\n",
      "JACTUC010000002.1_23 608 TDRRVTKLGLKPLYEGPKLQ-----[V]AIDERYLKDALPIAEGAYRGGAEII 659\n"
     ]
    }
   ],
   "source": [
    "# For generating the figure for the homology-based validation. Print the window around the selenocysteine residue. \n",
    "d = 25 # Number many residues on either side of the selenocysteine. \n",
    "\n",
    "ydhv_window = ydhv_seq[ydhv_u_pos - d:ydhv_u_pos + d + 1]\n",
    "ydhv_window = ydhv_window[:d] + f'[{ydhv_window[d]}]' + ydhv_window[d + 1:]\n",
    "print('ydhv', ydhv_u_pos - d, ydhv_window, ydhv_u_pos + d + 1)\n",
    "\n",
    "for row in blast_data.itertuples():\n",
    "    \n",
    "    window = row.target_align_seq[row.u_pos - d:min(row.u_pos + d + 1, len(row.target_align_seq))]\n",
    "    window = window[:d] + f'[{window[d]}]' + window[d + 1:]\n",
    "    # U position in the rows is relative to the start of the ALIGNMENT, not the sequence itself.\n",
    "    start = row.target_align_start + row.u_pos - d\n",
    "    stop = row.target_align_start + min(row.u_pos + d + 1, len(row.target_align_seq))\n",
    "    print(row.target_gene_id, start, window , stop)"
   ]
  },
  {
   "cell_type": "code",
   "execution_count": null,
   "metadata": {},
   "outputs": [
    {
     "name": "stdout",
     "output_type": "stream",
     "text": [
      "Gene ID: PRDJ01000036.1_86\n",
      "Genome ID: GCA_003345555.1\n",
      "gtdb_family: Thorarchaeaceae\n",
      "gtdb_domain: Archaea\n",
      "gtdb_class: Thorarchaeia\n",
      "gtdb_order: Thorarchaeales\n",
      "gtdb_phylum: Asgardarchaeota\n",
      "\n",
      "Gene ID: QNVH01000006.1_12\n",
      "Genome ID: GCA_004347955.1\n",
      "gtdb_family: Methanomethylicaceae\n",
      "gtdb_domain: Archaea\n",
      "gtdb_class: Methanomethylicia\n",
      "gtdb_order: Methanomethylicales\n",
      "gtdb_phylum: Thermoproteota\n",
      "\n",
      "Gene ID: JAEORN010000318.1_13\n",
      "Genome ID: GCA_016840825.1\n",
      "gtdb_family: Thorarchaeaceae\n",
      "gtdb_domain: Archaea\n",
      "gtdb_class: Thorarchaeia\n",
      "gtdb_order: Thorarchaeales\n",
      "gtdb_phylum: Asgardarchaeota\n",
      "\n",
      "Gene ID: PRDI01000058.1_30\n",
      "Genome ID: GCA_003345595.1\n",
      "gtdb_family: Thorarchaeaceae\n",
      "gtdb_domain: Archaea\n",
      "gtdb_class: Thorarchaeia\n",
      "gtdb_order: Thorarchaeales\n",
      "gtdb_phylum: Asgardarchaeota\n",
      "\n",
      "Gene ID: QNVI01000016.1_50\n",
      "Genome ID: GCA_004348015.1\n",
      "gtdb_family: Methanomethylicaceae\n",
      "gtdb_domain: Archaea\n",
      "gtdb_class: Methanomethylicia\n",
      "gtdb_order: Methanomethylicales\n",
      "gtdb_phylum: Thermoproteota\n",
      "\n",
      "Gene ID: JACIVQ010000013.1_25\n",
      "Genome ID: GCA_014361445.1\n",
      "gtdb_family: Methanomethylicaceae\n",
      "gtdb_domain: Archaea\n",
      "gtdb_class: Methanomethylicia\n",
      "gtdb_order: Methanomethylicales\n",
      "gtdb_phylum: Thermoproteota\n",
      "\n",
      "Gene ID: JACTUC010000002.1_23\n",
      "Genome ID: GCA_015660995.1\n",
      "gtdb_family: Methanomethylicaceae\n",
      "gtdb_domain: Archaea\n",
      "gtdb_class: Methanomethylicia\n",
      "gtdb_order: Methanomethylicales\n",
      "gtdb_phylum: Thermoproteota\n",
      "\n"
     ]
    }
   ],
   "source": [
    "# Getting the taxonomy of each gene. \n",
    "genome_ids = []\n",
    "for row in blast_data.itertuples():\n",
    "    # Get the genome where the gene is found. \n",
    "    genome_id = fabapi.get_genome_id_with_gene_id(row.target_gene_id)\n",
    "    genome_ids.append(genome_id) # Store the genome ID. \n",
    "\n",
    "    taxonomy = fabapi.get_gtdb_taxonomy_with_genome_id(genome_id)\n",
    "    print('Gene ID:', row.target_gene_id)\n",
    "    print('Genome ID:', genome_id)\n",
    "    for col in [col for col in taxonomy.columns if col not in ['gtdb_species', 'gtdb_genus', 'genome_id']]:\n",
    "        print(f'{col}:', taxonomy[col].item())\n",
    "    print()\n",
    "\n",
    "# Add the genome IDs to the DataFrame for use later. \n",
    "blast_data['genome_id'] = genome_ids"
   ]
  },
  {
   "cell_type": "code",
   "execution_count": null,
   "metadata": {},
   "outputs": [],
   "source": [
    "# What are the stop codons for each genome?\n",
    "genome_dir = '/home/prichter/Documents/data/selenobot/validation/homology/genomes/'\n",
    "\n",
    "# for row in blast_data.itertuples():\n",
    "#     # Download the genome assembly from NCBI database.\n",
    "#     fabapi.genomes.download_genome(row.genome_id, output_dir=genome_dir)"
   ]
  },
  {
   "cell_type": "code",
   "execution_count": null,
   "metadata": {},
   "outputs": [
    {
     "name": "stdout",
     "output_type": "stream",
     "text": [
      "GGT (reverse)\n",
      "ACA (forward)\n",
      "ATG (forward)\n",
      "TCC (reverse)\n",
      "AAT (forward)\n",
      "TGA (forward)\n",
      "CGC (forward)\n"
     ]
    }
   ],
   "source": [
    "# Stop codons are UAA, UAG and UGA\n",
    "for row in blast_data.itertuples():\n",
    "    genome = fabapi.genomes.load_genome(os.path.join(genome_dir, row.genome_id))\n",
    "    seq_data = fabapi.get_sequence_with_gene_id(row.target_gene_id)\n",
    "    # Get the start and stop codon, accounting for whether or not the sequence is read in reverse.\n",
    "    nt_start, nt_stop = seq_data.nt_start.item(), seq_data.nt_stop.item()\n",
    "    if seq_data.reverse.item() == 0:\n",
    "        print(genome[nt_stop - 3:nt_stop], '(forward)')\n",
    "    else:\n",
    "        print(genome[nt_start - 1:nt_start + 2], '(reverse)')\n",
    "    \n",
    "    "
   ]
  },
  {
   "cell_type": "code",
   "execution_count": null,
   "metadata": {},
   "outputs": [],
   "source": [
    "def download_genome(genome_id:str, output_dir:str='.') -> NoReturn:\n",
    "    '''Download a genome assembly from the NCBI database to the output directory. \n",
    "    \n",
    "    :param genome_id: The accession of the genome to download.\n",
    "    :param output_dir: The directory to which the genome data will be downloaded. Uses the \n",
    "        current directory by default.\n",
    "    '''\n",
    "    url = f'https://api.ncbi.nlm.nih.gov/datasets/v2alpha/genome/accession/{genome_id}/download?include_annotation_type=GENOME_FASTA'\n",
    "\n",
    "    if os.path.exists(os.path.join(output_dir, genome_id) ):\n",
    "        raise Exception(f'genomes.download_genome: Genome directory for {genome_id} already exists.')\n",
    "    \n",
    "    zip_file = f'{genome_id}.zip' # Output zip file for download from NCBI.\n",
    "\n",
    "    # Run curl to download the zip file to the output directory. \n",
    "    subprocess.run(f'curl {url} --output {os.path.join(output_dir, zip_file)}', shell=True, check=True)\n",
    "    # Extract the zip file to a new directory, titled using the genome ID. \n",
    "    subprocess.run(f'mkdir {os.path.join(output_dir, genome_id)}', shell=True, check=True)\n",
    "    subprocess.run(f'unzip {os.path.join(output_dir, zip_file)} -d {os.path.join(output_dir, genome_id)}', shell=True, check=True)\n",
    "\n",
    "\n",
    "def load_genome(path:str) -> str:\n",
    "    '''Load a downloaded genome from the directory at the specified path. The directory should be one which\n",
    "    was created using the download_genome function, or of the same structure (i.e. that of the default NCBI genome download).\n",
    "\n",
    "    :param path: The path to the directory in which the NCBI genome information is stored. Assumes the name of the directory\n",
    "        is the genome ID. \n",
    "    :return: A string of A, C, T, and G, representing the entire genome assembly. \n",
    "    '''\n",
    "    genome_id = os.path.basename(path)\n",
    "\n",
    "    # Get the complete path to the genome FASTA file stored in directory. \n",
    "    path_to_genome_file = os.path.join(path, f'ncbi_dataset/data/{genome_id}') # Should only be one file in this directory. \n",
    "    genome_filename = os.listdir(path_to_genome_file)[0]\n",
    "\n",
    "    pass\n"
   ]
  },
  {
   "cell_type": "code",
   "execution_count": null,
   "metadata": {},
   "outputs": [],
   "source": []
  }
 ],
 "metadata": {
  "kernelspec": {
   "display_name": "selenobot",
   "language": "python",
   "name": "python3"
  },
  "language_info": {
   "codemirror_mode": {
    "name": "ipython",
    "version": 3
   },
   "file_extension": ".py",
   "mimetype": "text/x-python",
   "name": "python",
   "nbconvert_exporter": "python",
   "pygments_lexer": "ipython3",
   "version": "3.9.18"
  }
 },
 "nbformat": 4,
 "nbformat_minor": 2
}
