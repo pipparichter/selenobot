{
 "cells": [
  {
   "cell_type": "code",
   "execution_count": 1,
   "metadata": {},
   "outputs": [],
   "source": [
    "import numpy as np \n",
    "import pandas as pd \n",
    "from Bio import Align \n",
    "import os \n",
    "from selenobot.tools import CDHIT\n",
    "from selenobot.datasets import *\n",
    "\n",
    "%load_ext autoreload \n",
    "%autoreload 2"
   ]
  },
  {
   "cell_type": "markdown",
   "metadata": {},
   "source": [
    "# Hidden Markov Model baseline\n",
    "\n",
    "I think it is important to have an HMM baseline against which to compare selenobot performance. To use an HMM as a classifier, I will need at least one HMM per category (i.e. full-length, truncated selenoproteins, and truncated non-selenoproteins); I suspect I will need more granularity than this, as HMMs are built using multi-sequence alignments, which require some degree of sequence similarity. \n",
    "\n",
    "## Training\n",
    "\n",
    " For building HMMs, I am thinking of doing the following:\n",
    "\n",
    "1. Cluster sequences in each category from the training set at 50 percent similarity using CD-HIT. \n",
    "2. Generate a multi-sequence alignment (MSA) for each category (possibly just using BioPython?)\n",
    "3. Use PyHMMER (a Python wrapper for HMMER3) to build an HMM for each cluster. \n",
    "\n",
    "The result of training will be a map from each overarching category (full-length, truncated selenoproteins, and truncated non-selenoproteins) to a set of HMMs\n",
    "\n",
    "## Prediction\n",
    "\n",
    "Generate a score for each sequence, for each generated HMM. "
   ]
  },
  {
   "cell_type": "code",
   "execution_count": null,
   "metadata": {},
   "outputs": [],
   "source": [
    "train_dataset = TernaryDataset.from_hdf('../data/train.h5')"
   ]
  },
  {
   "cell_type": "code",
   "execution_count": 9,
   "metadata": {},
   "outputs": [
    {
     "name": "stdout",
     "output_type": "stream",
     "text": [
      "CDHIT._run: Using pre-saved clustering results at /home/prichter/Documents/selenobot/notebooks/cluster_hmm_0\n"
     ]
    }
   ],
   "source": [
    "for label, df in train_dataset.metadata.groupby('label'):\n",
    "    cdhit = CDHIT(df, c_cluster=0.5, cwd=os.getcwd(), name=f'hmm_{label}')\n",
    "    df = cdhit.run(dereplicate=False, overwrite=False)\n",
    "    break"
   ]
  },
  {
   "cell_type": "code",
   "execution_count": 17,
   "metadata": {},
   "outputs": [
    {
     "data": {
      "text/plain": [
       "cluster\n",
       "22490    4\n",
       "6301     4\n",
       "25953    4\n",
       "25937    4\n",
       "20062    4\n",
       "        ..\n",
       "16       1\n",
       "15       1\n",
       "14       1\n",
       "11       1\n",
       "8        1\n",
       "Length: 31112, dtype: int64"
      ]
     },
     "execution_count": 17,
     "metadata": {},
     "output_type": "execute_result"
    }
   ],
   "source": [
    "cluster_sizes = df.groupby('cluster').apply(len, include_groups=False).sort_values(ascending=False)\n",
    "cluster_sizes[cluster_sizes < 5]"
   ]
  },
  {
   "cell_type": "markdown",
   "metadata": {},
   "source": [
    "## Questions\n",
    "\n",
    "1. What is a good rule-of-thumb number for sequence similarity when generating multi-sequence alignments?\n",
    "2. Why use alignments instead of raw sequences when training HMMs?\n",
    "3. Should I de-replicate the sequences before building HMMs?"
   ]
  },
  {
   "cell_type": "markdown",
   "metadata": {},
   "source": []
  }
 ],
 "metadata": {
  "kernelspec": {
   "display_name": "selenobot",
   "language": "python",
   "name": "python3"
  },
  "language_info": {
   "codemirror_mode": {
    "name": "ipython",
    "version": 3
   },
   "file_extension": ".py",
   "mimetype": "text/x-python",
   "name": "python",
   "nbconvert_exporter": "python",
   "pygments_lexer": "ipython3",
   "version": "3.12.3"
  }
 },
 "nbformat": 4,
 "nbformat_minor": 2
}
