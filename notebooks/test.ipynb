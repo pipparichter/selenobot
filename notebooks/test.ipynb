{
 "cells": [
  {
   "cell_type": "code",
   "execution_count": 1,
   "metadata": {},
   "outputs": [],
   "source": [
    "import pandas as pd\n",
    "import numpy as np \n",
    "import os\n",
    "\n",
    "import matplotlib.pyplot as plt\n",
    "import matplotlib.cm \n",
    "import matplotlib.colors\n",
    "from matplotlib.patches import Patch\n",
    "plt.rcParams['font.family'] = 'Arial'\n",
    "\n",
    "from selenobot.files import FASTAFile\n",
    "from sklearn.metrics import balanced_accuracy_score, confusion_matrix\n",
    "import re\n",
    "from fabapi import Query\n",
    "from tqdm import tqdm \n",
    "\n",
    "%load_ext autoreload\n",
    "%autoreload 2"
   ]
  },
  {
   "cell_type": "code",
   "execution_count": 5,
   "metadata": {},
   "outputs": [],
   "source": [
    "def load_results(type_:str, file_names:list=['test.h5', 'val.h5'], n_classes:int=2, results_dir:str='../data/results') -> pd.DataFrame:\n",
    "    \n",
    "    results = []\n",
    "    model_name = f'binary_model_{type_}' if (n_classes == 2) else f'ternary_model_{type_}' \n",
    "    print(f'load_results: Loading results for {type_} encodings.')\n",
    "\n",
    "    for file_name in file_names:\n",
    "        results_file_name = f'predict_{os.path.splitext(file_name)[0]}_{model_name}.csv'\n",
    "        results_path = os.path.join(results_dir, results_file_name)\n",
    "        results_df = pd.read_csv(results_path, index_col=0)\n",
    "        results_df['file_name'] = file_name\n",
    "\n",
    "        if 'label' in results_df.columns:\n",
    "            acc = np.round(balanced_accuracy_score(results_df.label.values, results_df.prediction.values), 3)\n",
    "            print(f'load_results: Accuracy of model {model_name} on {file_name}:', acc)\n",
    "        else:\n",
    "            print(f'load_results: No label for {type_}.')\n",
    "            \n",
    "        results.append(results_df)\n",
    "\n",
    "    return pd.concat(results, axis=0)"
   ]
  },
  {
   "cell_type": "code",
   "execution_count": 7,
   "metadata": {},
   "outputs": [
    {
     "name": "stdout",
     "output_type": "stream",
     "text": [
      "load_results: Loading results for len encodings.\n",
      "load_results: Accuracy of model binary_model_len on test.h5: 0.791\n",
      "load_results: Accuracy of model binary_model_len on val.h5: 0.829\n",
      "load_results: Loading results for aa_1mer encodings.\n",
      "load_results: Accuracy of model binary_model_aa_1mer on test.h5: 0.778\n",
      "load_results: Accuracy of model binary_model_aa_1mer on val.h5: 0.793\n",
      "load_results: Loading results for aa_2mer encodings.\n",
      "load_results: Accuracy of model binary_model_aa_2mer on test.h5: 0.849\n",
      "load_results: Accuracy of model binary_model_aa_2mer on val.h5: 0.797\n",
      "load_results: Loading results for aa_3mer encodings.\n",
      "load_results: Accuracy of model binary_model_aa_3mer on test.h5: 0.765\n",
      "load_results: Accuracy of model binary_model_aa_3mer on val.h5: 0.723\n",
      "load_results: Loading results for plm encodings.\n",
      "load_results: Accuracy of model binary_model_plm on test.h5: 0.997\n",
      "load_results: Accuracy of model binary_model_plm on val.h5: 0.996\n",
      "load_results: Loading results for len encodings.\n",
      "load_results: Accuracy of model ternary_model_len on test.h5: 0.499\n",
      "load_results: Accuracy of model ternary_model_len on val.h5: 0.663\n",
      "load_results: Loading results for aa_1mer encodings.\n",
      "load_results: Accuracy of model ternary_model_aa_1mer on test.h5: 0.614\n",
      "load_results: Accuracy of model ternary_model_aa_1mer on val.h5: 0.591\n",
      "load_results: Loading results for aa_2mer encodings.\n",
      "load_results: Accuracy of model ternary_model_aa_2mer on test.h5: 0.653\n",
      "load_results: Accuracy of model ternary_model_aa_2mer on val.h5: 0.65\n",
      "load_results: Loading results for aa_3mer encodings.\n",
      "load_results: Accuracy of model ternary_model_aa_3mer on test.h5: 0.617\n",
      "load_results: Accuracy of model ternary_model_aa_3mer on val.h5: 0.576\n",
      "load_results: Loading results for plm encodings.\n",
      "load_results: Accuracy of model ternary_model_plm on test.h5: 0.969\n",
      "load_results: Accuracy of model ternary_model_plm on val.h5: 0.966\n"
     ]
    }
   ],
   "source": [
    "types = ['len', 'aa_1mer', 'aa_2mer', 'aa_3mer', 'plm']\n",
    "\n",
    "binary_results = {type_:load_results(type_, n_classes=2) for type_ in types}\n",
    "ternary_results = {type_:load_results(type_, n_classes=3) for type_ in types}"
   ]
  },
  {
   "cell_type": "code",
   "execution_count": 13,
   "metadata": {},
   "outputs": [
    {
     "data": {
      "image/png": "[encoded data removed]",
      "text/plain": [
       "<Figure size 500x300 with 1 Axes>"
      ]
     },
     "metadata": {},
     "output_type": "display_data"
    }
   ],
   "source": [
    "model_type = 'ternary'\n",
    "\n",
    "fig, ax = plt.subplots(figsize=(5, 3))\n",
    "\n",
    "positions = np.arange(len(types)) + 1\n",
    "\n",
    "val_accs, test_accs = [], []\n",
    "\n",
    "for type_ in types:\n",
    "    results_df = ternary_results[type_]\n",
    "    test_results_df = results_df[results_df.file_name == 'test.h5']\n",
    "    val_results_df = results_df[results_df.file_name == 'val.h5']\n",
    "\n",
    "    val_acc = balanced_accuracy_score(val_results_df.label.values, val_results_df.prediction.values)\n",
    "    test_acc = balanced_accuracy_score(test_results_df.label.values, test_results_df.prediction.values)\n",
    "    val_accs.append(val_acc)\n",
    "    test_accs.append(test_acc)\n",
    "\n",
    "bar_width = 0.4\n",
    "ax.set_xticks(positions + 0.5 * bar_width, labels=types)\n",
    "ax.set_title(f'{model_type} results')\n",
    "ax.set_ylabel('balanced accuracy')\n",
    "\n",
    "ax.bar(positions, val_accs, width=bar_width, color='tab:blue', edgecolor='white')\n",
    "ax.bar(positions + bar_width, test_accs, width=bar_width, color='tab:red', edgecolor='white')\n",
    "\n",
    "ax.legend(['validation accuracy', 'testing accuracy'])\n",
    "\n",
    "plt.show()\n"
   ]
  },
  {
   "cell_type": "code",
   "execution_count": null,
   "metadata": {},
   "outputs": [],
   "source": []
  }
 ],
 "metadata": {
  "kernelspec": {
   "display_name": "selenobot",
   "language": "python",
   "name": "python3"
  },
  "language_info": {
   "codemirror_mode": {
    "name": "ipython",
    "version": 3
   },
   "file_extension": ".py",
   "mimetype": "text/x-python",
   "name": "python",
   "nbconvert_exporter": "python",
   "pygments_lexer": "ipython3",
   "version": "3.12.3"
  }
 },
 "nbformat": 4,
 "nbformat_minor": 2
}
