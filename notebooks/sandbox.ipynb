{
 "cells": [
  {
   "cell_type": "code",
   "execution_count": 7,
   "metadata": {},
   "outputs": [
    {
     "name": "stdout",
     "output_type": "stream",
     "text": [
      "The autoreload extension is already loaded. To reload it, use:\n",
      "  %reload_ext autoreload\n"
     ]
    }
   ],
   "source": [
    "import pandas as pd\n",
    "import h5py\n",
    "import re\n",
    "import os\n",
    "import numpy as np \n",
    "\n",
    "import matplotlib as mpl\n",
    "import matplotlib.pyplot as plt\n",
    "from matplotlib.patches import Patch\n",
    "\n",
    "from selenobot.files import FASTAFile\n",
    "\n",
    "from transformers import AutoTokenizer\n",
    "\n",
    "%load_ext autoreload\n",
    "%autoreload 2"
   ]
  },
  {
   "cell_type": "code",
   "execution_count": null,
   "metadata": {},
   "outputs": [
    {
     "data": {
      "text/plain": [
       "{'<cls>': 0,\n",
       " '<pad>': 1,\n",
       " '<eos>': 2,\n",
       " '<unk>': 3,\n",
       " 'L': 4,\n",
       " 'A': 5,\n",
       " 'G': 6,\n",
       " 'V': 7,\n",
       " 'S': 8,\n",
       " 'E': 9,\n",
       " 'R': 10,\n",
       " 'T': 11,\n",
       " 'I': 12,\n",
       " 'D': 13,\n",
       " 'P': 14,\n",
       " 'K': 15,\n",
       " 'Q': 16,\n",
       " 'N': 17,\n",
       " 'F': 18,\n",
       " 'Y': 19,\n",
       " 'M': 20,\n",
       " 'H': 21,\n",
       " 'W': 22,\n",
       " 'C': 23,\n",
       " 'X': 24,\n",
       " 'B': 25,\n",
       " 'U': 26,\n",
       " 'Z': 27,\n",
       " 'O': 28,\n",
       " '.': 29,\n",
       " '-': 30,\n",
       " '<null_1>': 31,\n",
       " '<mask>': 32}"
      ]
     },
     "execution_count": 9,
     "metadata": {},
     "output_type": "execute_result"
    }
   ],
   "source": [
    "# tokenizer = AutoTokenizer.from_pretrained('facebook/esm2_t36_3B_UR50D', clean_up_tokenization_spaces=True)\n",
    "# tokenizer.get_vocab()\n",
    "\n",
    "for dataset in ['train', 'test', 'val']:\n",
    "    store = pd.HDFStore()"
   ]
  },
  {
   "cell_type": "code",
   "execution_count": 6,
   "metadata": {},
   "outputs": [],
   "source": [
    "# Generate FASTA files for KEGG annotation. \n",
    "fasta_files = dict()\n",
    "fasta_files['uniprot_sec.faa'] = pd.read_csv('../data/uniprot_metadata_sec.csv', index_col=0)\n",
    "fasta_files['uniprot_sec_bacteria.faa'] = metadata_sec_df[metadata_sec_df.domain == 'Bacteria']\n",
    "seqs, index = [s[:s.index('U')] for s in metadata_sec_bac_df.seq], pd.Series(name='id', data=[id_ + '-' for id_ in metadata_sec_bac_df.index])\n",
    "fasta_files['uniprot_sec_bacteria_truncated.faa'] = metadata_sec_bac_df.copy().assign(seq=seqs).set_index(index)\n",
    "\n",
    "for file_name, df in fasta_files.items():\n",
    "    path = os.path.join('../data', file_name)\n",
    "    fasta_file = FASTAFile.from_df(df, add_description=False)\n",
    "    fasta_file.write(path)\n"
   ]
  },
  {
   "cell_type": "code",
   "execution_count": 6,
   "metadata": {},
   "outputs": [],
   "source": [
    "confusion_matrix = sklearn.metrics.confusion_matrix(test_metadata_df.label.values, test_metadata_df.prediction.values)\n",
    "\n",
    "image = ax.imshow(confusion_matrix, cmap='RdBu')\n",
    "\n",
    "ax.set_xticks([0, 1])\n",
    "ax.set_yticks([0, 1])\n",
    "ax.set_xlabel('prediction')\n",
    "ax.set_ylabel('label')\n",
    "for i in range(confusion_matrix.shape[0]):\n",
    "    for j in range(confusion_matrix.shape[-1]):\n",
    "        text = ax.text(i, j, confusion_matrix[i, j], ha='center', va='center', color='white')\n",
    "\n",
    "image = ax.figure.colorbar(image, ax=ax)\n",
    "# Most of the erroneous predictions are false positives. \n",
    "plt.show()"
   ]
  },
  {
   "cell_type": "code",
   "execution_count": null,
   "metadata": {},
   "outputs": [],
   "source": []
  }
 ],
 "metadata": {
  "kernelspec": {
   "display_name": "selenobot",
   "language": "python",
   "name": "python3"
  },
  "language_info": {
   "codemirror_mode": {
    "name": "ipython",
    "version": 3
   },
   "file_extension": ".py",
   "mimetype": "text/x-python",
   "name": "python",
   "nbconvert_exporter": "python",
   "pygments_lexer": "ipython3",
   "version": "3.12.3"
  }
 },
 "nbformat": 4,
 "nbformat_minor": 2
}
