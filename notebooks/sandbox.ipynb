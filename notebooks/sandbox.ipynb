{
 "cells": [
  {
   "cell_type": "code",
   "execution_count": 2,
   "metadata": {},
   "outputs": [],
   "source": [
    "import pandas as pd\n",
    "import h5py\n",
    "import re\n",
    "import os\n",
    "import numpy as np \n",
    "\n",
    "import matplotlib as mpl\n",
    "import matplotlib.pyplot as plt\n",
    "from matplotlib.patches import Patch\n",
    "\n",
    "from selenobot.files import FASTAFile\n",
    "from selenobot.utils import download_ncbi_data\n",
    "\n",
    "from transformers import AutoTokenizer\n",
    "\n",
    "%load_ext autoreload\n",
    "%autoreload 2"
   ]
  },
  {
   "cell_type": "code",
   "execution_count": 3,
   "metadata": {},
   "outputs": [
    {
     "name": "stdout",
     "output_type": "stream",
     "text": [
      "Fraction with assigned species: 1.0\n",
      "Fraction with assigned NCBI taxonomy IDs: 1.0\n",
      "Number of unique species: 16412\n",
      "Number of unique families: 702\n",
      "Number of unique taxonomy IDs: 2894\n",
      "Number of selenoproteins: 16450\n",
      "Number of GTDB genomes: 62291\n",
      "Number of GTDB genomes with a RefSeq ID: 10444\n",
      "Number of GTDB genomes with a RefSeq ID and a selenoprotein: 732\n"
     ]
    }
   ],
   "source": [
    "# Want to dig into how Prodigal might be truncating selenoproteins at the N-terminus (i.e. picking up the right half of the sequence)\n",
    "\n",
    "# First figure out what taxa have known selenoproteins... \n",
    "metadata_sec_df = pd.read_csv('../data/uniprot_sec.csv', index_col=0)\n",
    "metadata_sec_df = metadata_sec_df[metadata_sec_df.domain == 'Bacteria']\n",
    "print('Fraction with assigned species:', (~metadata_sec_df.species.isnull()).sum() / len(metadata_sec_df)) # Everything is assigned a species!\n",
    "print('Fraction with assigned NCBI taxonomy IDs:', (~metadata_sec_df.ncbi_taxonomy_id.isnull()).sum() / len(metadata_sec_df)) # Everything is assigned a species!\n",
    "print('Number of unique species:', metadata_sec_df.species.nunique()) # Why is there not one ID per species?\n",
    "print('Number of unique families:', metadata_sec_df.family.nunique()) # Why is there not one ID per species?\n",
    "print('Number of unique taxonomy IDs:', metadata_sec_df.ncbi_taxonomy_id.nunique())\n",
    "print('Number of selenoproteins:', len(metadata_sec_df))\n",
    "\n",
    "# Perhaps the species label is a particular strain?\n",
    "\n",
    "n_sec_per_tax_id = metadata_sec_df.groupby('ncbi_taxonomy_id').apply(len, include_groups=False)\n",
    "n_sec_per_tax_id.sort_values(ascending=False)\n",
    "\n",
    "# NCBI says that the taxonomy IDs are for species... how could there be 900 different selenoproteins associated with a single species?\n",
    "# Maybe they are different strains? The sequences seem different. I wonder how many were left after dereplication. \n",
    "\n",
    "# How do we figure out if there is an NCBI reference genome?\n",
    "\n",
    "genome_metadata_df = pd.read_csv('../data/genome_metadata_gtdb.csv', index_col=0)\n",
    "print('Number of GTDB genomes:', len(genome_metadata_df))\n",
    "print('Number of GTDB genomes with a RefSeq ID:', (genome_metadata_df.ncbi_refseq_category != 'na').sum())\n",
    "genome_metadata_df = genome_metadata_df[genome_metadata_df.ncbi_refseq_category != 'na']\n",
    "genome_metadata_df = genome_metadata_df[genome_metadata_df.ncbi_taxonomy_id.isin(metadata_sec_df.ncbi_taxonomy_id.unique())]\n",
    "print('Number of GTDB genomes with a RefSeq ID and a selenoprotein:', len(genome_metadata_df))"
   ]
  },
  {
   "cell_type": "code",
   "execution_count": 6,
   "metadata": {},
   "outputs": [],
   "source": [
    "# for file_name in os.listdir('../data/refseq/ref'):\n",
    "#     genome_id = file_name.replace('_genomic.gbff', '')\n",
    "#     if genome_id not in genome_metadata_df.index:\n",
    "#         print('Removing files for', genome_id)\n",
    "#         os.remove(os.path.join('../data/refseq/ref', file_name))\n",
    "#         os.remove(os.path.join('../data/refseq/genomes', f'{genome_id}_genomic.fna'))"
   ]
  },
  {
   "cell_type": "code",
   "execution_count": 8,
   "metadata": {},
   "outputs": [
    {
     "name": "stderr",
     "output_type": "stream",
     "text": [
      "\n",
      "download_ncbi_data: Downloading data for Alsobacter soli...:   2%|▏         | 15/732 [00:00<00:02, 288.69it/s] "
     ]
    },
    {
     "name": "stderr",
     "output_type": "stream",
     "text": [
      "\u001b[Acp: cannot stat 'ncbi_dataset/data/GCF_013409135.1/genomic.gbff': No such file or directory\n"
     ]
    },
    {
     "name": "stdout",
     "output_type": "stream",
     "text": [
      "download_ncbi_data: Failed to download data for Pseudomonas_A kunmingensis_A.\n"
     ]
    },
    {
     "name": "stderr",
     "output_type": "stream",
     "text": [
      "download_ncbi_data: Downloading data for Paracoccus thiocyanatus...: 100%|██████████| 732/732 [00:14<00:00, 49.14it/s] \n"
     ]
    }
   ],
   "source": [
    "download_ncbi_data(genome_metadata_df, dir_='../data/refseq/')"
   ]
  },
  {
   "cell_type": "code",
   "execution_count": 6,
   "metadata": {},
   "outputs": [],
   "source": [
    "# Generate FASTA files for KEGG annotation. \n",
    "fasta_files = dict()\n",
    "fasta_files['uniprot_sec.faa'] = pd.read_csv('../data/uniprot_metadata_sec.csv', index_col=0)\n",
    "fasta_files['uniprot_sec_bacteria.faa'] = metadata_sec_df[metadata_sec_df.domain == 'Bacteria']\n",
    "seqs, index = [s[:s.index('U')] for s in metadata_sec_bac_df.seq], pd.Series(name='id', data=[id_ + '-' for id_ in metadata_sec_bac_df.index])\n",
    "fasta_files['uniprot_sec_bacteria_truncated.faa'] = metadata_sec_bac_df.copy().assign(seq=seqs).set_index(index)\n",
    "\n",
    "for file_name, df in fasta_files.items():\n",
    "    path = os.path.join('../data', file_name)\n",
    "    fasta_file = FASTAFile.from_df(df, add_description=False)\n",
    "    fasta_file.write(path)\n"
   ]
  },
  {
   "cell_type": "code",
   "execution_count": 6,
   "metadata": {},
   "outputs": [],
   "source": [
    "confusion_matrix = sklearn.metrics.confusion_matrix(test_metadata_df.label.values, test_metadata_df.prediction.values)\n",
    "\n",
    "image = ax.imshow(confusion_matrix, cmap='RdBu')\n",
    "\n",
    "ax.set_xticks([0, 1])\n",
    "ax.set_yticks([0, 1])\n",
    "ax.set_xlabel('prediction')\n",
    "ax.set_ylabel('label')\n",
    "for i in range(confusion_matrix.shape[0]):\n",
    "    for j in range(confusion_matrix.shape[-1]):\n",
    "        text = ax.text(i, j, confusion_matrix[i, j], ha='center', va='center', color='white')\n",
    "\n",
    "image = ax.figure.colorbar(image, ax=ax)\n",
    "# Most of the erroneous predictions are false positives. \n",
    "plt.show()"
   ]
  },
  {
   "cell_type": "code",
   "execution_count": null,
   "metadata": {},
   "outputs": [],
   "source": []
  }
 ],
 "metadata": {
  "kernelspec": {
   "display_name": "selenobot",
   "language": "python",
   "name": "python3"
  },
  "language_info": {
   "codemirror_mode": {
    "name": "ipython",
    "version": 3
   },
   "file_extension": ".py",
   "mimetype": "text/x-python",
   "name": "python",
   "nbconvert_exporter": "python",
   "pygments_lexer": "ipython3",
   "version": "3.12.3"
  }
 },
 "nbformat": 4,
 "nbformat_minor": 2
}
