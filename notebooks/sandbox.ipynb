{
 "cells": [
  {
   "cell_type": "code",
   "execution_count": 15,
   "metadata": {},
   "outputs": [
    {
     "name": "stdout",
     "output_type": "stream",
     "text": [
      "The autoreload extension is already loaded. To reload it, use:\n",
      "  %reload_ext autoreload\n"
     ]
    }
   ],
   "source": [
    "import pandas as pd\n",
    "import h5py\n",
    "import re\n",
    "import os\n",
    "import numpy as np \n",
    "\n",
    "import matplotlib as mpl\n",
    "import matplotlib.pyplot as plt\n",
    "from matplotlib.patches import Patch\n",
    "\n",
    "from selenobot.files import FASTAFile\n",
    "\n",
    "from transformers import AutoTokenizer\n",
    "\n",
    "%load_ext autoreload\n",
    "%autoreload 2"
   ]
  },
  {
   "cell_type": "code",
   "execution_count": 22,
   "metadata": {},
   "outputs": [
    {
     "data": {
      "text/html": [
       "<div>\n",
       "<style scoped>\n",
       "    .dataframe tbody tr th:only-of-type {\n",
       "        vertical-align: middle;\n",
       "    }\n",
       "\n",
       "    .dataframe tbody tr th {\n",
       "        vertical-align: top;\n",
       "    }\n",
       "\n",
       "    .dataframe thead th {\n",
       "        text-align: right;\n",
       "    }\n",
       "</style>\n",
       "<table border=\"1\" class=\"dataframe\">\n",
       "  <thead>\n",
       "    <tr style=\"text-align: right;\">\n",
       "      <th></th>\n",
       "      <th>mmseqs_representative</th>\n",
       "      <th>mmseqs_cluster</th>\n",
       "      <th>domain</th>\n",
       "      <th>kingdom</th>\n",
       "      <th>phylum</th>\n",
       "      <th>class</th>\n",
       "      <th>order</th>\n",
       "      <th>family</th>\n",
       "      <th>genus</th>\n",
       "      <th>species</th>\n",
       "      <th>ncbi_taxonomy_id</th>\n",
       "      <th>refseq_protein_id</th>\n",
       "      <th>refseq_nucleotide_id</th>\n",
       "      <th>non_terminal_residue</th>\n",
       "      <th>function</th>\n",
       "      <th>seq</th>\n",
       "      <th>existence</th>\n",
       "      <th>name</th>\n",
       "      <th>kegg</th>\n",
       "      <th>file_name</th>\n",
       "      <th>label</th>\n",
       "      <th>sec_index_n</th>\n",
       "      <th>sec_index_c</th>\n",
       "      <th>sec_count</th>\n",
       "      <th>trunc_size</th>\n",
       "      <th>trunc_ratio</th>\n",
       "      <th>original_length</th>\n",
       "      <th>dataset</th>\n",
       "    </tr>\n",
       "    <tr>\n",
       "      <th>id</th>\n",
       "      <th></th>\n",
       "      <th></th>\n",
       "      <th></th>\n",
       "      <th></th>\n",
       "      <th></th>\n",
       "      <th></th>\n",
       "      <th></th>\n",
       "      <th></th>\n",
       "      <th></th>\n",
       "      <th></th>\n",
       "      <th></th>\n",
       "      <th></th>\n",
       "      <th></th>\n",
       "      <th></th>\n",
       "      <th></th>\n",
       "      <th></th>\n",
       "      <th></th>\n",
       "      <th></th>\n",
       "      <th></th>\n",
       "      <th></th>\n",
       "      <th></th>\n",
       "      <th></th>\n",
       "      <th></th>\n",
       "      <th></th>\n",
       "      <th></th>\n",
       "      <th></th>\n",
       "      <th></th>\n",
       "      <th></th>\n",
       "    </tr>\n",
       "  </thead>\n",
       "  <tbody>\n",
       "  </tbody>\n",
       "</table>\n",
       "</div>"
      ],
      "text/plain": [
       "Empty DataFrame\n",
       "Columns: [mmseqs_representative, mmseqs_cluster, domain, kingdom, phylum, class, order, family, genus, species, ncbi_taxonomy_id, refseq_protein_id, refseq_nucleotide_id, non_terminal_residue, function, seq, existence, name, kegg, file_name, label, sec_index_n, sec_index_c, sec_count, trunc_size, trunc_ratio, original_length, dataset]\n",
       "Index: []"
      ]
     },
     "execution_count": 22,
     "metadata": {},
     "output_type": "execute_result"
    }
   ],
   "source": [
    "# tokenizer = AutoTokenizer.from_pretrained('facebook/esm2_t36_3B_UR50D', clean_up_tokenization_spaces=True)\n",
    "# tokenizer.get_vocab()\n",
    "\n",
    "df = pd.read_csv('../data/3c_xl_metadata_train.csv', index_col=0)\n",
    "df[df.seq.str.contains('U')]"
   ]
  },
  {
   "cell_type": "code",
   "execution_count": 6,
   "metadata": {},
   "outputs": [],
   "source": [
    "# Generate FASTA files for KEGG annotation. \n",
    "fasta_files = dict()\n",
    "fasta_files['uniprot_sec.faa'] = pd.read_csv('../data/uniprot_metadata_sec.csv', index_col=0)\n",
    "fasta_files['uniprot_sec_bacteria.faa'] = metadata_sec_df[metadata_sec_df.domain == 'Bacteria']\n",
    "seqs, index = [s[:s.index('U')] for s in metadata_sec_bac_df.seq], pd.Series(name='id', data=[id_ + '-' for id_ in metadata_sec_bac_df.index])\n",
    "fasta_files['uniprot_sec_bacteria_truncated.faa'] = metadata_sec_bac_df.copy().assign(seq=seqs).set_index(index)\n",
    "\n",
    "for file_name, df in fasta_files.items():\n",
    "    path = os.path.join('../data', file_name)\n",
    "    fasta_file = FASTAFile.from_df(df, add_description=False)\n",
    "    fasta_file.write(path)\n"
   ]
  },
  {
   "cell_type": "code",
   "execution_count": 6,
   "metadata": {},
   "outputs": [],
   "source": [
    "confusion_matrix = sklearn.metrics.confusion_matrix(test_metadata_df.label.values, test_metadata_df.prediction.values)\n",
    "\n",
    "image = ax.imshow(confusion_matrix, cmap='RdBu')\n",
    "\n",
    "ax.set_xticks([0, 1])\n",
    "ax.set_yticks([0, 1])\n",
    "ax.set_xlabel('prediction')\n",
    "ax.set_ylabel('label')\n",
    "for i in range(confusion_matrix.shape[0]):\n",
    "    for j in range(confusion_matrix.shape[-1]):\n",
    "        text = ax.text(i, j, confusion_matrix[i, j], ha='center', va='center', color='white')\n",
    "\n",
    "image = ax.figure.colorbar(image, ax=ax)\n",
    "# Most of the erroneous predictions are false positives. \n",
    "plt.show()"
   ]
  },
  {
   "cell_type": "code",
   "execution_count": null,
   "metadata": {},
   "outputs": [],
   "source": []
  }
 ],
 "metadata": {
  "kernelspec": {
   "display_name": "selenobot",
   "language": "python",
   "name": "python3"
  },
  "language_info": {
   "codemirror_mode": {
    "name": "ipython",
    "version": 3
   },
   "file_extension": ".py",
   "mimetype": "text/x-python",
   "name": "python",
   "nbconvert_exporter": "python",
   "pygments_lexer": "ipython3",
   "version": "3.12.3"
  }
 },
 "nbformat": 4,
 "nbformat_minor": 2
}
