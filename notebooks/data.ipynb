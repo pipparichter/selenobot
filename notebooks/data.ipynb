{
 "cells": [
  {
   "cell_type": "code",
   "execution_count": 4,
   "metadata": {},
   "outputs": [],
   "source": [
    "import pandas as pd \n",
    "import numpy as np \n",
    "import matplotlib.pyplot as plt\n",
    "from selenobot.files import NcbiXmlFile\n",
    "import os\n",
    "\n",
    "DATA_DIR = '/home/prichter/Documents/selenobot/data/'"
   ]
  },
  {
   "cell_type": "markdown",
   "metadata": {},
   "source": [
    "# Dataset construction\n",
    "\n",
    "## Binary classification\n",
    "\n",
    "For binary classification, the goal is to train a model to distinguish between full-length non-selenoproteins and truncated selenoproteins. For this task, we have two datasets:\n",
    "1. All of the non-fragmented proteins in SwissProt, with the selenoproteins removed. \n",
    "2. All selenoproteins registered in UniProt, truncated at the first selenocysteine residue. \n",
    "\n",
    "**Problem:** The binary model, when run on GTDB, seems to be flagging too many sequences as selenoproteins. There are several possibilities for what might be happening: (1) There are actually tons of truncated selenoproteins, which seems unlikely, (2) there are full-length which kind of resemble truncated selenoproteins that are being flagged, (3) there are truncated proteins that are not selenoproteins. \n",
    "\n",
    "## Ternary classification\n",
    "\n",
    "For ternary classification, the goal is to train a model to distinguish between full-length non-selenoproteins, truncated selenoproteins, and truncated non-selenoproteins. The reasoning behind this is to determine if the \"false positives\" I think the model is classifying as truncated selenoproteins might simply be truncated regular proteins. However, I really have no sense as to whether or not these hits are being identified because they specifically look like truncated selenoproteins (i.e., similar in length, composition, or something else), or just because they are truncated. \n",
    "\n",
    "There are a couple options for generating the set of truncated non-selenoproteins.\n",
    "1. Subset the SwissProt dataset, with a subset the same size as the selenoprotein dataset. Ensure that the sampled proteins follow roughly the same length distribution as the full-length selenoproteins, and then truncate these sequences such that their lengths roughly match the lengths of the truncated selenoproteins. This will control for length, ensuring that if the model is able to distinguish the truncated non-selenoproteins from the truncated selenoproteins, it is relying on non-length based signals. *The logic I was using for selecting a subset the same size as the selenoprotein dataset is that I was thinking that I wanted the model to have equal exposure to both types... however, because I take measures to handle class imbalance, this shouldn't matter. I'll probably just take a subset of around 20,000 for the sake of picking a number.*\n",
    "2. Subset the SwissProt dataset randomly, ignoring the length of the sampled proteins (I'll check to make sure that the length distribution matches that of the entire dataset). Then, randomly truncate the proteins (possibly even truncate the same protein at multiple different locations). This will mimic arbitrary truncation events. \n",
    "3. Same options as above, but instead of sub-sampling SwissProt, I grab a bunch of new bacterial sequences from UniProt. I don't like this idea as much, as it means I am using sequences that are lower-quality. However, it would mean that I could increase the size of the dataset. Because I don't want to accidentally train the model to somehow pick up on little features of low-quality sequences, I think I will go with (1) or (2). \n",
    "\n",
    "Approaches (1) and (2) are kind of addressing different questions. (1) is asking if the model is able to distinguish between selenoproteins and non-selenoproteins which are truncated from non-length or composition based signals, i.e., is there something about truncated selenoprotein embeddings which looks different than the embeddings of normal proteins? (2) is asking if the model can simply distinguish between generic truncation events and truncated selenoproteins. \n",
    "\n",
    "Reasons to use approach (2)...\n",
    "- Ultimately, I don't really care if length or composition are factors in the models decision-making. If it works, it works!\n",
    "- I will test the ability of the model to make predictions based on length and composition as controls anyway, which will give a sense of just how important these factors are. \n",
    "- Because I am generating the third dataset by downsampling UniProt, I don't want to be picky about the sequences I am selecting. I am worried this would skew the distribution somehow in the full-length dataset, in a way which might be difficult to test.\n",
    "- I have a hunch that it is more likely that the false positives are generic truncations, not just truncations that look *very similar* to truncated selenoproteins (unless Prodigal is WAY worse than we think). So, it makes more sense to use generic truncations. \n",
    "\n",
    "However, I am worried that generating the training set in this way will make life too easy for the classifier. In other words, this might produce pretty big length and composition-based signals which allow it to distinguish between truncated selenoproteins and truncated non-selenoproteins, which are not the cause of the suspected false positives. In other words, the artificially-generated truncated sequences might not look like \"real\" truncated sequences, so the results wouldn't be interesting. **I think the only way to pick one is to take a closer look at what the GTDB predictions look like compared to the truncated selenoproteins in the training set.**\n"
   ]
  },
  {
   "cell_type": "code",
   "execution_count": 5,
   "metadata": {},
   "outputs": [
    {
     "name": "stderr",
     "output_type": "stream",
     "text": [
      "NcbiXmlFile.__init__: Parsing NCBI XML file, row 98542...: : 39552298it [04:20, 151663.30it/s]\n"
     ]
    }
   ],
   "source": [
    "# API URL for retrieving bacterial proteins which are non-TrEMBL reviewed, and have evidence at the transcript level. \n",
    "# See this link for more info on protein existence: https://www.uniprot.org/help/protein_existence\n",
    "# https://rest.uniprot.org/uniprotkb/stream?compressed=true&format=xml&query=%28%28taxonomy_id%3A2%29%29+AND+%28reviewed%3Afalse%29+AND+%28existence%3A2%29\n",
    "\n",
    "xml_file = NcbiXmlFile(os.path.join(DATA_DIR, 'uniprot_trembl.xml'))\n",
    "xml_file.to_df().to_csv(os.path.join(DATA_DIR, 'uniprot_trembl.csv'))"
   ]
  },
  {
   "cell_type": "markdown",
   "metadata": {},
   "source": [
    "### Additional considerations\n",
    "\n",
    "**How should I select full-length proteins to truncate?** \n",
    "\n",
    "I am thinking it would be beneficial to not remove sequences from the full-length SwissProt dataset, and instead using UniProt TrEMBL (non-reviewed) sequences which have pretty good evidence for existence (transcript-level). The thing I am worried about is I suspect that pretty much every sequence will have a homolog in the SwissProt database. However, this is probably also true for the truncated selenoproteins. Because I am truncating the TrEMBL sequences, I don't think I need to worry about it too much. \n",
    "\n",
    "Actually, I wonder if I should leave the full-length selenoproteins in the set of full-length sequences. The idea is that, in the case of Prodigal at least, there won't be any full-length selenoproteins. However, leaving them in probably wouldn't hurt, especially because there are cys-homologs anyway!\n",
    "\n",
    "**How should I go about truncating the full-length proteins?**\n",
    "\n",
    "First, I should run the binary classifier on the GTDB subset, and look at the length distributions of predicted truncated selenoproteins relative to predicted full-length proteins, and compare this to the length distributions in the training set.  \n",
    "\n"
   ]
  },
  {
   "cell_type": "markdown",
   "metadata": {},
   "source": []
  }
 ],
 "metadata": {
  "kernelspec": {
   "display_name": "selenobot",
   "language": "python",
   "name": "python3"
  },
  "language_info": {
   "codemirror_mode": {
    "name": "ipython",
    "version": 3
   },
   "file_extension": ".py",
   "mimetype": "text/x-python",
   "name": "python",
   "nbconvert_exporter": "python",
   "pygments_lexer": "ipython3",
   "version": "3.12.3"
  }
 },
 "nbformat": 4,
 "nbformat_minor": 2
}
