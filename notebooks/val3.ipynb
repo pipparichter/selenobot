{
 "cells": [
  {
   "cell_type": "code",
   "execution_count": 1,
   "metadata": {},
   "outputs": [],
   "source": [
    "import pandas as pd \n",
    "from selenobot.utils import DATA_DIR, SCRIPTS_DIR, dataframe_from_fasta\n",
    "from selenobot.sequences import *\n",
    "import os\n",
    "import numpy as np\n",
    "import subprocess\n",
    "import time\n",
    "from tqdm import tqdm \n",
    "import matplotlib.pyplot as plt\n",
    "import warnings \n",
    "import sklearn\n",
    "import pickle\n",
    "\n",
    "\n",
    "warnings.filterwarnings('ignore')\n",
    "%load_ext autoreload\n",
    "%autoreload 2\n",
    "\n",
    "# Set the main data directory to be the v3 validation directory. \n",
    "# TODO: Should I offload more of the helper functions to a separate file?\n",
    "# organism = 'Btheta'\n",
    "organism='acidovorax_3H11'\n",
    "VAL_DIR = os.path.join(DATA_DIR, 'val3') "
   ]
  },
  {
   "cell_type": "code",
   "execution_count": 2,
   "metadata": {},
   "outputs": [
    {
     "name": "stdout",
     "output_type": "stream",
     "text": [
      "Number of predicted selenoproteins: 55.0\n",
      "Average length of predicted selenoproteins: 75.43636363636364\n",
      "Average length of predicted non-selenoproteins: 318.8684049704624\n"
     ]
    }
   ],
   "source": [
    "predictions_df = pd.read_csv(os.path.join(VAL_DIR, organism, 'predictions.csv')) # , dtype={'id':str}) # Load selenoprotein predictions.\n",
    "genome_df = dataframe_from_fasta(os.path.join(VAL_DIR, organism, f'genome.fna'), parser=None) \n",
    "metadata_df = pd.read_csv(os.path.join(VAL_DIR, organism, 'metadata.csv')) # , dtype={'id':str, 'scaffold_id':str}) \n",
    "\n",
    "print('Number of predicted selenoproteins:', np.sum(predictions_df.prediction.values))\n",
    "print('Average length of predicted selenoproteins:', predictions_df[predictions_df.prediction == 1].seq.apply(len).mean())\n",
    "print('Average length of predicted non-selenoproteins:', predictions_df[predictions_df.prediction == 0].seq.apply(len).mean()) "
   ]
  },
  {
   "cell_type": "markdown",
   "metadata": {},
   "source": [
    "## Extending predicted selenoproteins"
   ]
  },
  {
   "cell_type": "code",
   "execution_count": 3,
   "metadata": {},
   "outputs": [
    {
     "name": "stderr",
     "output_type": "stream",
     "text": [
      "load_cseqs: 100%|██████████| 55/55 [00:00<00:00, 157.68it/s]\n"
     ]
    }
   ],
   "source": [
    "sec_ids = predictions_df[predictions_df.prediction == 1]['id'].values # Get the IDs of the predicted selenoproteins. \n",
    "sec_cseqs = load_cseqs(metadata_df, genome_df=genome_df, use_ids=sec_ids)"
   ]
  },
  {
   "cell_type": "code",
   "execution_count": null,
   "metadata": {},
   "outputs": [],
   "source": [
    "# How many of the non-extended "
   ]
  },
  {
   "cell_type": "code",
   "execution_count": 74,
   "metadata": {},
   "outputs": [
    {
     "name": "stderr",
     "output_type": "stream",
     "text": [
      "[autoreload of selenobot.sequences failed: Traceback (most recent call last):\n",
      "  File \"/home/prichter/miniconda3/envs/selenobot/lib/python3.9/site-packages/IPython/extensions/autoreload.py\", line 276, in check\n",
      "    superreload(m, reload, self.old_objects)\n",
      "  File \"/home/prichter/miniconda3/envs/selenobot/lib/python3.9/site-packages/IPython/extensions/autoreload.py\", line 500, in superreload\n",
      "    update_generic(old_obj, new_obj)\n",
      "  File \"/home/prichter/miniconda3/envs/selenobot/lib/python3.9/site-packages/IPython/extensions/autoreload.py\", line 397, in update_generic\n",
      "    update(a, b)\n",
      "  File \"/home/prichter/miniconda3/envs/selenobot/lib/python3.9/site-packages/IPython/extensions/autoreload.py\", line 349, in update_class\n",
      "    if update_generic(old_obj, new_obj):\n",
      "  File \"/home/prichter/miniconda3/envs/selenobot/lib/python3.9/site-packages/IPython/extensions/autoreload.py\", line 397, in update_generic\n",
      "    update(a, b)\n",
      "  File \"/home/prichter/miniconda3/envs/selenobot/lib/python3.9/site-packages/IPython/extensions/autoreload.py\", line 309, in update_function\n",
      "    setattr(old, name, getattr(new, name))\n",
      "ValueError: __init__() requires a code object with 0 free vars, not 1\n",
      "]\n"
     ]
    }
   ],
   "source": [
    "# https://bmcgenomics.biomedcentral.com/articles/10.1186/1471-2164-9-335\n"
   ]
  },
  {
   "cell_type": "markdown",
   "metadata": {},
   "source": [
    "## Analyzing fitness data\n",
    "\n",
    "There are several requirements that a hit must meet in order to be useful.\n",
    "1. The sequence must be \"extendable,\" i.e. the hit must not run off the end of the contig.\n",
    "2. There must have been a transposon insertion in the extended region of the gene. \n",
    "3. The gene must create some kind of noticable phenotype when mutated.\n",
    "4. \n",
    "I am thinking about adding an additional requirement, which is that the extended region does not overlap with another gene.\n",
    "\n",
    "I need to think a little more about if I should adjust the \"significant phenotype\" standards. In the original paper, they use a minimum t value of 4 and fitness of 0.5, but when I apply this filtering to the selenoprotein hits, I only have a single result. I might try ignoring or loosening the significance constraint when looking at the predicted selenoprotein genes.\n",
    "\n",
    "### Positive controls\n",
    "\n",
    "Split the (non-extended) selenoprotein hits in two, and compute cofitness scores for the front half of the gene relative to back half of the gene. \n",
    "\n",
    "### Negative controls\n",
    "\n",
    "For negative controls, extend non-selenoprotein hits to the next stop codon and look at the cofitness score for the extended region versus the main protein. "
   ]
  },
  {
   "cell_type": "code",
   "execution_count": 48,
   "metadata": {},
   "outputs": [],
   "source": [
    "fitness_df = pd.read_csv(os.path.join(VAL_DIR, organism, 'fitness.csv')) # , dtype={'id':str, 'scaffold_id':str})\n",
    "t_values_df = pd.read_csv(os.path.join(VAL_DIR, organism, 't_values.csv')) # , dtype={'id':str})\n",
    "\n",
    "# # Because of the NaN values, need to manually convert the IDs to strings.\n",
    "# fitness_df['id'] = fitness_df['id'].apply(lambda id_ : None if pd.isnull(id_) else str(id_).split('.')[0])"
   ]
  },
  {
   "cell_type": "code",
   "execution_count": 57,
   "metadata": {},
   "outputs": [
    {
     "name": "stderr",
     "output_type": "stream",
     "text": [
      "Filtering ContextSequences... 1 in final list.:   0%|          | 12/4384 [00:08<41:08,  1.77it/s] "
     ]
    },
    {
     "name": "stdout",
     "output_type": "stream",
     "text": [
      "0\n"
     ]
    },
    {
     "name": "stderr",
     "output_type": "stream",
     "text": [
      "Filtering ContextSequences... 2 in final list.:   0%|          | 14/4384 [00:09<40:18,  1.81it/s]"
     ]
    },
    {
     "name": "stdout",
     "output_type": "stream",
     "text": [
      "0\n"
     ]
    },
    {
     "name": "stderr",
     "output_type": "stream",
     "text": [
      "Filtering ContextSequences... 3 in final list.:   0%|          | 15/4384 [00:09<38:03,  1.91it/s]"
     ]
    },
    {
     "name": "stdout",
     "output_type": "stream",
     "text": [
      "0\n"
     ]
    },
    {
     "name": "stderr",
     "output_type": "stream",
     "text": [
      "Filtering ContextSequences... 4 in final list.:   0%|          | 16/4384 [00:10<37:00,  1.97it/s]"
     ]
    },
    {
     "name": "stdout",
     "output_type": "stream",
     "text": [
      "0\n"
     ]
    },
    {
     "name": "stderr",
     "output_type": "stream",
     "text": [
      "Filtering ContextSequences... 5 in final list.:   0%|          | 17/4384 [00:10<37:58,  1.92it/s]"
     ]
    },
    {
     "name": "stdout",
     "output_type": "stream",
     "text": [
      "0\n"
     ]
    },
    {
     "name": "stderr",
     "output_type": "stream",
     "text": [
      "Filtering ContextSequences... 6 in final list.:   1%|          | 46/4384 [00:22<28:59,  2.49it/s]"
     ]
    },
    {
     "name": "stdout",
     "output_type": "stream",
     "text": [
      "0\n"
     ]
    },
    {
     "name": "stderr",
     "output_type": "stream",
     "text": [
      "Filtering ContextSequences... 7 in final list.:   1%|          | 49/4384 [00:23<29:10,  2.48it/s]"
     ]
    },
    {
     "name": "stdout",
     "output_type": "stream",
     "text": [
      "0\n"
     ]
    },
    {
     "name": "stderr",
     "output_type": "stream",
     "text": [
      "Filtering ContextSequences... 7 in final list.:   1%|▏         | 56/4384 [00:27<35:08,  2.05it/s]\n"
     ]
    },
    {
     "ename": "KeyboardInterrupt",
     "evalue": "",
     "output_type": "error",
     "traceback": [
      "\u001b[0;31m---------------------------------------------------------------------------\u001b[0m",
      "\u001b[0;31mKeyboardInterrupt\u001b[0m                         Traceback (most recent call last)",
      "Cell \u001b[0;32mIn[57], line 13\u001b[0m\n\u001b[1;32m     10\u001b[0m \u001b[38;5;28;01mif\u001b[39;00m \u001b[38;5;129;01mnot\u001b[39;00m fbseq\u001b[38;5;241m.\u001b[39mextendable():\n\u001b[1;32m     11\u001b[0m     \u001b[38;5;28;01mcontinue\u001b[39;00m\n\u001b[0;32m---> 13\u001b[0m fbseq_extension \u001b[38;5;241m=\u001b[39m \u001b[43mfbseq\u001b[49m\u001b[38;5;241;43m.\u001b[39;49m\u001b[43mextend\u001b[49m\u001b[43m(\u001b[49m\u001b[43m)\u001b[49m\u001b[38;5;241;43m.\u001b[39;49m\u001b[43mextension\u001b[49m\u001b[43m(\u001b[49m\u001b[43m)\u001b[49m \n\u001b[1;32m     15\u001b[0m \u001b[38;5;28;01mif\u001b[39;00m fbseq\u001b[38;5;241m.\u001b[39mt_values \u001b[38;5;129;01mis\u001b[39;00m \u001b[38;5;28;01mNone\u001b[39;00m:\n\u001b[1;32m     16\u001b[0m     \u001b[38;5;28;01mcontinue\u001b[39;00m\n",
      "File \u001b[0;32m~/Documents/selenobot/selenobot/sequences.py:375\u001b[0m, in \u001b[0;36mFitnessBrowserSequence.extension\u001b[0;34m(self)\u001b[0m\n\u001b[1;32m    372\u001b[0m \u001b[38;5;250m\u001b[39m\u001b[38;5;124;03m'''Return only the extended region of an extended FitnessBrowserSequence, i.e. the region downstream of the original\u001b[39;00m\n\u001b[1;32m    373\u001b[0m \u001b[38;5;124;03mstop codon.'''\u001b[39;00m \n\u001b[1;32m    374\u001b[0m \u001b[38;5;28;01massert\u001b[39;00m \u001b[38;5;28mself\u001b[39m\u001b[38;5;241m.\u001b[39m_fitness_df \u001b[38;5;129;01mis\u001b[39;00m \u001b[38;5;129;01mnot\u001b[39;00m \u001b[38;5;28;01mNone\u001b[39;00m, \u001b[38;5;124m'\u001b[39m\u001b[38;5;124mFitnessBrowserSequence.extension: FitnessBrowserSequence has been initialized in low memory mode. To extend the sequence, make sure low_memory=False.\u001b[39m\u001b[38;5;124m'\u001b[39m\n\u001b[0;32m--> 375\u001b[0m ext_only_fbseq \u001b[38;5;241m=\u001b[39m \u001b[43mContextSequence\u001b[49m\u001b[38;5;241;43m.\u001b[39;49m\u001b[43mextension\u001b[49m\u001b[43m(\u001b[49m\u001b[38;5;28;43mself\u001b[39;49m\u001b[43m)\u001b[49m \u001b[38;5;66;03m# Get the extended region. copy.deepcopy is already called here. \u001b[39;00m\n\u001b[1;32m    376\u001b[0m ext_only_fbseq\u001b[38;5;241m.\u001b[39mload_fitness(\u001b[38;5;28mself\u001b[39m\u001b[38;5;241m.\u001b[39m_fitness_df) \u001b[38;5;66;03m# Re-load the fitness data for the adjusted region. \u001b[39;00m\n\u001b[1;32m    377\u001b[0m \u001b[38;5;28;01mreturn\u001b[39;00m ext_only_fbseq\n",
      "File \u001b[0;32m~/Documents/selenobot/selenobot/sequences.py:212\u001b[0m, in \u001b[0;36mContextSequence.extension\u001b[0;34m(self)\u001b[0m\n\u001b[1;32m    209\u001b[0m \u001b[38;5;28;01mif\u001b[39;00m \u001b[38;5;129;01mnot\u001b[39;00m \u001b[38;5;28mself\u001b[39m\u001b[38;5;241m.\u001b[39mextended:\n\u001b[1;32m    210\u001b[0m     \u001b[38;5;28;01mreturn\u001b[39;00m \u001b[38;5;28;01mNone\u001b[39;00m\n\u001b[0;32m--> 212\u001b[0m ext_only_cseq \u001b[38;5;241m=\u001b[39m \u001b[43mcopy\u001b[49m\u001b[38;5;241;43m.\u001b[39;49m\u001b[43mdeepcopy\u001b[49m\u001b[43m(\u001b[49m\u001b[38;5;28;43mself\u001b[39;49m\u001b[43m)\u001b[49m \u001b[38;5;66;03m# ContextSequence to store the extension region only.\u001b[39;00m\n\u001b[1;32m    214\u001b[0m \u001b[38;5;66;03m# The pre-extension stop and start locations are stored in the start_ and stop_ attributes. \u001b[39;00m\n\u001b[1;32m    215\u001b[0m \u001b[38;5;66;03m# Depending on the direction of the extension (i.e. the strand), adjust the stop and start attributes.\u001b[39;00m\n\u001b[1;32m    216\u001b[0m \u001b[38;5;28;01mif\u001b[39;00m \u001b[38;5;28mself\u001b[39m\u001b[38;5;241m.\u001b[39mstrand \u001b[38;5;241m==\u001b[39m \u001b[38;5;124m'\u001b[39m\u001b[38;5;124m+\u001b[39m\u001b[38;5;124m'\u001b[39m:\n",
      "File \u001b[0;32m~/miniconda3/envs/selenobot/lib/python3.9/copy.py:172\u001b[0m, in \u001b[0;36mdeepcopy\u001b[0;34m(x, memo, _nil)\u001b[0m\n\u001b[1;32m    170\u001b[0m                 y \u001b[38;5;241m=\u001b[39m x\n\u001b[1;32m    171\u001b[0m             \u001b[38;5;28;01melse\u001b[39;00m:\n\u001b[0;32m--> 172\u001b[0m                 y \u001b[38;5;241m=\u001b[39m \u001b[43m_reconstruct\u001b[49m\u001b[43m(\u001b[49m\u001b[43mx\u001b[49m\u001b[43m,\u001b[49m\u001b[43m \u001b[49m\u001b[43mmemo\u001b[49m\u001b[43m,\u001b[49m\u001b[43m \u001b[49m\u001b[38;5;241;43m*\u001b[39;49m\u001b[43mrv\u001b[49m\u001b[43m)\u001b[49m\n\u001b[1;32m    174\u001b[0m \u001b[38;5;66;03m# If is its own copy, don't memoize.\u001b[39;00m\n\u001b[1;32m    175\u001b[0m \u001b[38;5;28;01mif\u001b[39;00m y \u001b[38;5;129;01mis\u001b[39;00m \u001b[38;5;129;01mnot\u001b[39;00m x:\n",
      "File \u001b[0;32m~/miniconda3/envs/selenobot/lib/python3.9/copy.py:270\u001b[0m, in \u001b[0;36m_reconstruct\u001b[0;34m(x, memo, func, args, state, listiter, dictiter, deepcopy)\u001b[0m\n\u001b[1;32m    268\u001b[0m \u001b[38;5;28;01mif\u001b[39;00m state \u001b[38;5;129;01mis\u001b[39;00m \u001b[38;5;129;01mnot\u001b[39;00m \u001b[38;5;28;01mNone\u001b[39;00m:\n\u001b[1;32m    269\u001b[0m     \u001b[38;5;28;01mif\u001b[39;00m deep:\n\u001b[0;32m--> 270\u001b[0m         state \u001b[38;5;241m=\u001b[39m \u001b[43mdeepcopy\u001b[49m\u001b[43m(\u001b[49m\u001b[43mstate\u001b[49m\u001b[43m,\u001b[49m\u001b[43m \u001b[49m\u001b[43mmemo\u001b[49m\u001b[43m)\u001b[49m\n\u001b[1;32m    271\u001b[0m     \u001b[38;5;28;01mif\u001b[39;00m \u001b[38;5;28mhasattr\u001b[39m(y, \u001b[38;5;124m'\u001b[39m\u001b[38;5;124m__setstate__\u001b[39m\u001b[38;5;124m'\u001b[39m):\n\u001b[1;32m    272\u001b[0m         y\u001b[38;5;241m.\u001b[39m__setstate__(state)\n",
      "File \u001b[0;32m~/miniconda3/envs/selenobot/lib/python3.9/copy.py:146\u001b[0m, in \u001b[0;36mdeepcopy\u001b[0;34m(x, memo, _nil)\u001b[0m\n\u001b[1;32m    144\u001b[0m copier \u001b[38;5;241m=\u001b[39m _deepcopy_dispatch\u001b[38;5;241m.\u001b[39mget(\u001b[38;5;28mcls\u001b[39m)\n\u001b[1;32m    145\u001b[0m \u001b[38;5;28;01mif\u001b[39;00m copier \u001b[38;5;129;01mis\u001b[39;00m \u001b[38;5;129;01mnot\u001b[39;00m \u001b[38;5;28;01mNone\u001b[39;00m:\n\u001b[0;32m--> 146\u001b[0m     y \u001b[38;5;241m=\u001b[39m \u001b[43mcopier\u001b[49m\u001b[43m(\u001b[49m\u001b[43mx\u001b[49m\u001b[43m,\u001b[49m\u001b[43m \u001b[49m\u001b[43mmemo\u001b[49m\u001b[43m)\u001b[49m\n\u001b[1;32m    147\u001b[0m \u001b[38;5;28;01melse\u001b[39;00m:\n\u001b[1;32m    148\u001b[0m     \u001b[38;5;28;01mif\u001b[39;00m \u001b[38;5;28missubclass\u001b[39m(\u001b[38;5;28mcls\u001b[39m, \u001b[38;5;28mtype\u001b[39m):\n",
      "File \u001b[0;32m~/miniconda3/envs/selenobot/lib/python3.9/copy.py:230\u001b[0m, in \u001b[0;36m_deepcopy_dict\u001b[0;34m(x, memo, deepcopy)\u001b[0m\n\u001b[1;32m    228\u001b[0m memo[\u001b[38;5;28mid\u001b[39m(x)] \u001b[38;5;241m=\u001b[39m y\n\u001b[1;32m    229\u001b[0m \u001b[38;5;28;01mfor\u001b[39;00m key, value \u001b[38;5;129;01min\u001b[39;00m x\u001b[38;5;241m.\u001b[39mitems():\n\u001b[0;32m--> 230\u001b[0m     y[deepcopy(key, memo)] \u001b[38;5;241m=\u001b[39m \u001b[43mdeepcopy\u001b[49m\u001b[43m(\u001b[49m\u001b[43mvalue\u001b[49m\u001b[43m,\u001b[49m\u001b[43m \u001b[49m\u001b[43mmemo\u001b[49m\u001b[43m)\u001b[49m\n\u001b[1;32m    231\u001b[0m \u001b[38;5;28;01mreturn\u001b[39;00m y\n",
      "File \u001b[0;32m~/miniconda3/envs/selenobot/lib/python3.9/copy.py:153\u001b[0m, in \u001b[0;36mdeepcopy\u001b[0;34m(x, memo, _nil)\u001b[0m\n\u001b[1;32m    151\u001b[0m copier \u001b[38;5;241m=\u001b[39m \u001b[38;5;28mgetattr\u001b[39m(x, \u001b[38;5;124m\"\u001b[39m\u001b[38;5;124m__deepcopy__\u001b[39m\u001b[38;5;124m\"\u001b[39m, \u001b[38;5;28;01mNone\u001b[39;00m)\n\u001b[1;32m    152\u001b[0m \u001b[38;5;28;01mif\u001b[39;00m copier \u001b[38;5;129;01mis\u001b[39;00m \u001b[38;5;129;01mnot\u001b[39;00m \u001b[38;5;28;01mNone\u001b[39;00m:\n\u001b[0;32m--> 153\u001b[0m     y \u001b[38;5;241m=\u001b[39m \u001b[43mcopier\u001b[49m\u001b[43m(\u001b[49m\u001b[43mmemo\u001b[49m\u001b[43m)\u001b[49m\n\u001b[1;32m    154\u001b[0m \u001b[38;5;28;01melse\u001b[39;00m:\n\u001b[1;32m    155\u001b[0m     reductor \u001b[38;5;241m=\u001b[39m dispatch_table\u001b[38;5;241m.\u001b[39mget(\u001b[38;5;28mcls\u001b[39m)\n",
      "File \u001b[0;32m~/miniconda3/envs/selenobot/lib/python3.9/site-packages/pandas/core/generic.py:6829\u001b[0m, in \u001b[0;36mNDFrame.__deepcopy__\u001b[0;34m(self, memo)\u001b[0m\n\u001b[1;32m   6821\u001b[0m \u001b[38;5;129m@final\u001b[39m\n\u001b[1;32m   6822\u001b[0m \u001b[38;5;28;01mdef\u001b[39;00m \u001b[38;5;21m__deepcopy__\u001b[39m(\u001b[38;5;28mself\u001b[39m, memo\u001b[38;5;241m=\u001b[39m\u001b[38;5;28;01mNone\u001b[39;00m) \u001b[38;5;241m-\u001b[39m\u001b[38;5;241m>\u001b[39m Self:\n\u001b[1;32m   6823\u001b[0m \u001b[38;5;250m    \u001b[39m\u001b[38;5;124;03m\"\"\"\u001b[39;00m\n\u001b[1;32m   6824\u001b[0m \u001b[38;5;124;03m    Parameters\u001b[39;00m\n\u001b[1;32m   6825\u001b[0m \u001b[38;5;124;03m    ----------\u001b[39;00m\n\u001b[1;32m   6826\u001b[0m \u001b[38;5;124;03m    memo, default None\u001b[39;00m\n\u001b[1;32m   6827\u001b[0m \u001b[38;5;124;03m        Standard signature. Unused\u001b[39;00m\n\u001b[1;32m   6828\u001b[0m \u001b[38;5;124;03m    \"\"\"\u001b[39;00m\n\u001b[0;32m-> 6829\u001b[0m     \u001b[38;5;28;01mreturn\u001b[39;00m \u001b[38;5;28;43mself\u001b[39;49m\u001b[38;5;241;43m.\u001b[39;49m\u001b[43mcopy\u001b[49m\u001b[43m(\u001b[49m\u001b[43mdeep\u001b[49m\u001b[38;5;241;43m=\u001b[39;49m\u001b[38;5;28;43;01mTrue\u001b[39;49;00m\u001b[43m)\u001b[49m\n",
      "File \u001b[0;32m~/miniconda3/envs/selenobot/lib/python3.9/site-packages/pandas/core/generic.py:6811\u001b[0m, in \u001b[0;36mNDFrame.copy\u001b[0;34m(self, deep)\u001b[0m\n\u001b[1;32m   6662\u001b[0m \u001b[38;5;129m@final\u001b[39m\n\u001b[1;32m   6663\u001b[0m \u001b[38;5;28;01mdef\u001b[39;00m \u001b[38;5;21mcopy\u001b[39m(\u001b[38;5;28mself\u001b[39m, deep: bool_t \u001b[38;5;241m|\u001b[39m \u001b[38;5;28;01mNone\u001b[39;00m \u001b[38;5;241m=\u001b[39m \u001b[38;5;28;01mTrue\u001b[39;00m) \u001b[38;5;241m-\u001b[39m\u001b[38;5;241m>\u001b[39m Self:\n\u001b[1;32m   6664\u001b[0m \u001b[38;5;250m    \u001b[39m\u001b[38;5;124;03m\"\"\"\u001b[39;00m\n\u001b[1;32m   6665\u001b[0m \u001b[38;5;124;03m    Make a copy of this object's indices and data.\u001b[39;00m\n\u001b[1;32m   6666\u001b[0m \n\u001b[0;32m   (...)\u001b[0m\n\u001b[1;32m   6809\u001b[0m \u001b[38;5;124;03m    dtype: int64\u001b[39;00m\n\u001b[1;32m   6810\u001b[0m \u001b[38;5;124;03m    \"\"\"\u001b[39;00m\n\u001b[0;32m-> 6811\u001b[0m     data \u001b[38;5;241m=\u001b[39m \u001b[38;5;28;43mself\u001b[39;49m\u001b[38;5;241;43m.\u001b[39;49m\u001b[43m_mgr\u001b[49m\u001b[38;5;241;43m.\u001b[39;49m\u001b[43mcopy\u001b[49m\u001b[43m(\u001b[49m\u001b[43mdeep\u001b[49m\u001b[38;5;241;43m=\u001b[39;49m\u001b[43mdeep\u001b[49m\u001b[43m)\u001b[49m\n\u001b[1;32m   6812\u001b[0m     \u001b[38;5;28mself\u001b[39m\u001b[38;5;241m.\u001b[39m_clear_item_cache()\n\u001b[1;32m   6813\u001b[0m     \u001b[38;5;28;01mreturn\u001b[39;00m \u001b[38;5;28mself\u001b[39m\u001b[38;5;241m.\u001b[39m_constructor_from_mgr(data, axes\u001b[38;5;241m=\u001b[39mdata\u001b[38;5;241m.\u001b[39maxes)\u001b[38;5;241m.\u001b[39m__finalize__(\n\u001b[1;32m   6814\u001b[0m         \u001b[38;5;28mself\u001b[39m, method\u001b[38;5;241m=\u001b[39m\u001b[38;5;124m\"\u001b[39m\u001b[38;5;124mcopy\u001b[39m\u001b[38;5;124m\"\u001b[39m\n\u001b[1;32m   6815\u001b[0m     )\n",
      "File \u001b[0;32m~/miniconda3/envs/selenobot/lib/python3.9/site-packages/pandas/core/internals/managers.py:593\u001b[0m, in \u001b[0;36mBaseBlockManager.copy\u001b[0;34m(self, deep)\u001b[0m\n\u001b[1;32m    590\u001b[0m     \u001b[38;5;28;01melse\u001b[39;00m:\n\u001b[1;32m    591\u001b[0m         new_axes \u001b[38;5;241m=\u001b[39m \u001b[38;5;28mlist\u001b[39m(\u001b[38;5;28mself\u001b[39m\u001b[38;5;241m.\u001b[39maxes)\n\u001b[0;32m--> 593\u001b[0m res \u001b[38;5;241m=\u001b[39m \u001b[38;5;28;43mself\u001b[39;49m\u001b[38;5;241;43m.\u001b[39;49m\u001b[43mapply\u001b[49m\u001b[43m(\u001b[49m\u001b[38;5;124;43m\"\u001b[39;49m\u001b[38;5;124;43mcopy\u001b[39;49m\u001b[38;5;124;43m\"\u001b[39;49m\u001b[43m,\u001b[49m\u001b[43m \u001b[49m\u001b[43mdeep\u001b[49m\u001b[38;5;241;43m=\u001b[39;49m\u001b[43mdeep\u001b[49m\u001b[43m)\u001b[49m\n\u001b[1;32m    594\u001b[0m res\u001b[38;5;241m.\u001b[39maxes \u001b[38;5;241m=\u001b[39m new_axes\n\u001b[1;32m    596\u001b[0m \u001b[38;5;28;01mif\u001b[39;00m \u001b[38;5;28mself\u001b[39m\u001b[38;5;241m.\u001b[39mndim \u001b[38;5;241m>\u001b[39m \u001b[38;5;241m1\u001b[39m:\n\u001b[1;32m    597\u001b[0m     \u001b[38;5;66;03m# Avoid needing to re-compute these\u001b[39;00m\n",
      "File \u001b[0;32m~/miniconda3/envs/selenobot/lib/python3.9/site-packages/pandas/core/internals/managers.py:363\u001b[0m, in \u001b[0;36mBaseBlockManager.apply\u001b[0;34m(self, f, align_keys, **kwargs)\u001b[0m\n\u001b[1;32m    361\u001b[0m         applied \u001b[38;5;241m=\u001b[39m b\u001b[38;5;241m.\u001b[39mapply(f, \u001b[38;5;241m*\u001b[39m\u001b[38;5;241m*\u001b[39mkwargs)\n\u001b[1;32m    362\u001b[0m     \u001b[38;5;28;01melse\u001b[39;00m:\n\u001b[0;32m--> 363\u001b[0m         applied \u001b[38;5;241m=\u001b[39m \u001b[38;5;28;43mgetattr\u001b[39;49m\u001b[43m(\u001b[49m\u001b[43mb\u001b[49m\u001b[43m,\u001b[49m\u001b[43m \u001b[49m\u001b[43mf\u001b[49m\u001b[43m)\u001b[49m\u001b[43m(\u001b[49m\u001b[38;5;241;43m*\u001b[39;49m\u001b[38;5;241;43m*\u001b[39;49m\u001b[43mkwargs\u001b[49m\u001b[43m)\u001b[49m\n\u001b[1;32m    364\u001b[0m     result_blocks \u001b[38;5;241m=\u001b[39m extend_blocks(applied, result_blocks)\n\u001b[1;32m    366\u001b[0m out \u001b[38;5;241m=\u001b[39m \u001b[38;5;28mtype\u001b[39m(\u001b[38;5;28mself\u001b[39m)\u001b[38;5;241m.\u001b[39mfrom_blocks(result_blocks, \u001b[38;5;28mself\u001b[39m\u001b[38;5;241m.\u001b[39maxes)\n",
      "File \u001b[0;32m~/miniconda3/envs/selenobot/lib/python3.9/site-packages/pandas/core/internals/blocks.py:796\u001b[0m, in \u001b[0;36mBlock.copy\u001b[0;34m(self, deep)\u001b[0m\n\u001b[1;32m    794\u001b[0m refs: BlockValuesRefs \u001b[38;5;241m|\u001b[39m \u001b[38;5;28;01mNone\u001b[39;00m\n\u001b[1;32m    795\u001b[0m \u001b[38;5;28;01mif\u001b[39;00m deep:\n\u001b[0;32m--> 796\u001b[0m     values \u001b[38;5;241m=\u001b[39m \u001b[43mvalues\u001b[49m\u001b[38;5;241;43m.\u001b[39;49m\u001b[43mcopy\u001b[49m\u001b[43m(\u001b[49m\u001b[43m)\u001b[49m\n\u001b[1;32m    797\u001b[0m     refs \u001b[38;5;241m=\u001b[39m \u001b[38;5;28;01mNone\u001b[39;00m\n\u001b[1;32m    798\u001b[0m \u001b[38;5;28;01melse\u001b[39;00m:\n",
      "\u001b[0;31mKeyboardInterrupt\u001b[0m: "
     ]
    }
   ],
   "source": [
    "# NOTE: I wonder if I should apply any other filters, like maybe number of hits in the extended region. \n",
    "\n",
    "negative_control_ids, negative_control_cofitness, negative_control_linregs = [], [], []\n",
    "\n",
    "# Iterate over all sequences which are not predicted selenoproteins for the negative control. \n",
    "pbar = tqdm([id_ for id_ in fitness_df['id'].dropna().unique() if not (id_ in sec_ids)], desc='Filtering ContextSequences...')\n",
    "for id_ in pbar:\n",
    "    fbseq = FitnessBrowserSequence(id_, metadata_df=metadata_df, fitness_df=fitness_df, genome_df=genome_df, t_values_df=t_values_df, low_memory=False)\n",
    "\n",
    "    if not fbseq.extendable():\n",
    "        continue\n",
    "\n",
    "    fbseq_extension = fbseq.extend().extension() \n",
    "    \n",
    "    if fbseq.t_values is None:\n",
    "        continue\n",
    "\n",
    "    has_significant_phenotype = fbseq.significance() > 0\n",
    "    has_hits_in_extended_region = fbseq_ext_only.hits() > 0\n",
    "    has_hits_in_main_region = fbseq.hits() > 0\n",
    "    does_not_overlap = fbseq_extension.overlap() == 0\n",
    "    \n",
    "\n",
    "    if all([has_significant_phenotype, has_hits_in_extended_region, has_hits_in_main_region, does_not_overlap]):\n",
    "        negative_control_ids.append(id_)\n",
    "        cofitness, linreg = fbseq.cofitness(fbseq_ext_only)\n",
    "        negative_control_linregs.append(linreg)\n",
    "        negative_control_cofitness.append(cofitness)\n",
    "\n",
    "    pbar.set_description(f'Filtering ContextSequences... {len(negative_control_ids)} in final list.')\n",
    "\n",
    "print('Saving negative_control_ids to', os.path.join(VAL_DIR, organism, 'negative_control_ids.csv'))\n",
    "np.savetxt(os.path.join(VAL_DIR, organism, 'negative_control_ids.csv'), negative_control_ids, delimiter=',', fmt='%s')\n",
    "\n",
    "print('Saving negative_control_linregs to', os.path.join(VAL_DIR, organism, 'negative_control_linregs.pkl'))\n",
    "with open(os.path.join(VAL_DIR, organism, 'negative_control_linregs.pkl'), 'wb') as f:\n",
    "    pickle.dump(negative_control_linregs, f)\n",
    "\n",
    "print('Saving negative_control_cofitness to', os.path.join(VAL_DIR, organism, 'negative_control_cofitness.csv'))\n",
    "np.savetxt(os.path.join(VAL_DIR, organism, 'negative_control_cofitness.csv'), negative_control_cofitness, delimiter=',')"
   ]
  },
  {
   "cell_type": "code",
   "execution_count": 54,
   "metadata": {},
   "outputs": [
    {
     "name": "stderr",
     "output_type": "stream",
     "text": [
      "Filtering ContextSequences... 6 in final list.: 100%|██████████| 16/16 [00:08<00:00,  1.87it/s]"
     ]
    },
    {
     "name": "stdout",
     "output_type": "stream",
     "text": [
      "Saving sec_ids to /home/prichter/Documents/selenobot/selenobot/../data/val3/Btheta/sec_ids.csv\n",
      "Saving sec_linregs to /home/prichter/Documents/selenobot/selenobot/../data/val3/Btheta/sec_linregs.pkl\n",
      "Saving sec_cofitness to /home/prichter/Documents/selenobot/selenobot/../data/val3/Btheta/sec_cofitness.csv\n"
     ]
    },
    {
     "name": "stderr",
     "output_type": "stream",
     "text": [
      "\n"
     ]
    }
   ],
   "source": [
    "sec_ids, sec_linregs, sec_cofitness = [], [], []\n",
    "\n",
    "# Iterate over all predicted selenoproteins.\n",
    "pbar = tqdm(predictions_df[predictions_df.prediction == 1]['id'].values, desc='Filtering ContextSequences...')\n",
    "for id_ in pbar:\n",
    "    cseq = ContextSequence(id_, metadata_df=metadata_df, genome_df=genome_df)\n",
    "\n",
    "    if not cseq.extendable():\n",
    "        continue\n",
    "    \n",
    "    cseq_ext_only = cseq.extend().extension()\n",
    "\n",
    "    fbseq = FitnessBrowserSequence.from_cseq(cseq, fitness_df=fitness_df, t_values_df=t_values_df, low_memory=True)\n",
    "    fbseq_ext_only = FitnessBrowserSequence.from_cseq(cseq_ext_only, fitness_df=fitness_df, t_values_df=t_values_df, low_memory=True)\n",
    "    \n",
    "    if fbseq.t_values is None:\n",
    "        continue\n",
    "\n",
    "    # has_significant_phenotype = fbseq.significance() > 0\n",
    "    has_hits_in_extended_region = fbseq_ext_only.hits() > 0\n",
    "    has_hits_in_main_region = fbseq.hits() > 0\n",
    "\n",
    "    if has_hits_in_extended_region and has_hits_in_main_region:\n",
    "        sec_ids.append(id_)\n",
    "        cofitness, linreg = fbseq.cofitness(fbseq_ext_only)\n",
    "        sec_linregs.append(linreg)\n",
    "        sec_cofitness.append(cofitness)\n",
    "\n",
    "    pbar.set_description(f'Filtering ContextSequences... {len(sec_ids)} in final list.')\n",
    "\n",
    "print('Saving sec_ids to', os.path.join(VAL_DIR, organism, 'sec_ids.csv'))\n",
    "np.savetxt(os.path.join(VAL_DIR, organism, 'sec_ids.csv'), sec_ids, delimiter=',', fmt='%s')\n",
    "sec_ids = np.loadtxt(os.path.join(VAL_DIR, organism, 'sec_ids.csv'), dtype=str)\n",
    "\n",
    "print('Saving sec_linregs to', os.path.join(VAL_DIR, organism, 'sec_linregs.pkl'))\n",
    "with open(os.path.join(VAL_DIR, organism, 'sec_linregs.pkl'), 'wb') as f:\n",
    "    pickle.dump(sec_linregs, f)\n",
    "\n",
    "print('Saving sec_cofitness to', os.path.join(VAL_DIR, organism, 'sec_cofitness.csv'))\n",
    "np.savetxt(os.path.join(VAL_DIR, organism, 'sec_cofitness.csv'), sec_cofitness, delimiter=',')\n",
    "sec_cofitness = np.loadtxt(os.path.join(VAL_DIR, organism, 'sec_cofitness.csv'), dtype=float)"
   ]
  },
  {
   "cell_type": "code",
   "execution_count": 55,
   "metadata": {},
   "outputs": [
    {
     "name": "stdout",
     "output_type": "stream",
     "text": [
      "Mean negative control cofitness: 0.23727610671400204\n",
      "Mean predicted selenoprotein cofitness: 0.2192953935021326\n"
     ]
    }
   ],
   "source": [
    "print('Mean negative control cofitness:', np.mean(negative_control_cofitness))\n",
    "print('Mean predicted selenoprotein cofitness:', np.mean(sec_cofitness))"
   ]
  },
  {
   "cell_type": "code",
   "execution_count": 56,
   "metadata": {},
   "outputs": [
    {
     "data": {
      "image/png": "[encoded data removed]",
      "text/plain": [
       "<Figure size 640x480 with 1 Axes>"
      ]
     },
     "metadata": {},
     "output_type": "display_data"
    }
   ],
   "source": [
    "fig, ax = plt.subplots()\n",
    "vals, _, _ = ax.hist((negative_control_cofitness, sec_cofitness), density=True, color=['gray', 'blue'], alpha=0.5)\n",
    "ax.legend(['negative control', 'predicted selenoproteins'])\n",
    "ax.set_xlabel('cofitness')\n",
    "plt.show()"
   ]
  },
  {
   "cell_type": "code",
   "execution_count": 40,
   "metadata": {},
   "outputs": [],
   "source": [
    "negative_control_cofitness = np.loadtxt(os.path.join(VAL_DIR, organism, 'negative_control_cofitness.csv'), dtype=float)\n",
    "# negative_control_ids = np.loadtxt(os.path.join(VAL_DIR, organism, 'negative_control_ids.csv'), dtype=str)\n",
    "with open(os.path.join(VAL_DIR, organism, 'negative_control_linregs.pkl'), 'rb') as f:\n",
    "    negative_control_linregs = pickle.load(f)\n",
    "\n",
    "# positive_control_cofitness = np.loadtxt(os.path.join(VAL_DIR, organism, 'positive_control_cofitness.csv'), dtype=float)\n",
    "# positive_control_ids = np.loadtxt(os.path.join(VAL_DIR, organism, 'positive_control_ids.csv'), dtype=str)\n",
    "# with open(os.path.join(VAL_DIR, organism, 'positive_control_linregs.pkl'), 'rb') as f:\n",
    "#     positive_control_linregs = pickle.load(f)\n",
    "\n",
    "sec_cofitness = np.loadtxt(os.path.join(VAL_DIR, organism, 'sec_cofitness.csv'), dtype=float)\n",
    "sec_ids = np.loadtxt(os.path.join(VAL_DIR, organism, 'sec_ids.csv'), dtype=str)\n",
    "# sec_ids = np.array([int(id_) for id_ in sec_ids]) # Only for the organisms for which the IDs are integers. \n",
    "with open(os.path.join(VAL_DIR, organism, 'sec_linregs.pkl'), 'rb') as f:\n",
    "    sec_linregs = pickle.load(f)"
   ]
  },
  {
   "cell_type": "code",
   "execution_count": 59,
   "metadata": {},
   "outputs": [
    {
     "name": "stderr",
     "output_type": "stream",
     "text": [
      "load_fbseqs: 100%|██████████| 17/17 [00:08<00:00,  2.01it/s]\n"
     ]
    }
   ],
   "source": [
    "sec_fbseqs = load_fbseqs(metadata_df, fitness_df, t_values_df=t_values_df, genome_df=genome_df, use_ids=sec_ids)\n",
    "sec_fbseqs_extended = [fbseq.extend() for fbseq in sec_fbseqs if fbseq.extendable()]"
   ]
  },
  {
   "cell_type": "code",
   "execution_count": 70,
   "metadata": {},
   "outputs": [
    {
     "name": "stdout",
     "output_type": "stream",
     "text": [
      "Ac3H11_4581\n",
      "Overlap in extended sequence: 291\n",
      "Extension length: 444\n",
      "Overlap with Ac3H11_4580 hypothetical protein of length 291\n",
      "\n",
      "Ac3H11_4637\n",
      "Overlap in extended sequence: 0\n",
      "Extension length: 240\n",
      "\n",
      "Ac3H11_1967\n",
      "Overlap in extended sequence: 0\n",
      "Extension length: 1098\n",
      "\n",
      "Ac3H11_2080\n",
      "Overlap in extended sequence: 0\n",
      "Extension length: 81\n",
      "\n",
      "Ac3H11_2730\n",
      "Overlap in extended sequence: 0\n",
      "Extension length: 156\n",
      "\n",
      "Ac3H11_2874\n",
      "Overlap in extended sequence: 0\n",
      "Extension length: 162\n",
      "\n",
      "Ac3H11_1463\n",
      "Overlap in extended sequence: 0\n",
      "Extension length: 48\n",
      "\n",
      "Ac3H11_4237\n",
      "Overlap in extended sequence: 0\n",
      "Extension length: 162\n",
      "\n",
      "Ac3H11_4306\n",
      "Overlap in extended sequence: 41\n",
      "Extension length: 117\n",
      "Overlap with Ac3H11_4307 Major membrane protein I of length 933\n",
      "\n",
      "Ac3H11_3088\n",
      "Overlap in extended sequence: 0\n",
      "Extension length: 132\n",
      "\n",
      "Ac3H11_4888\n",
      "Overlap in extended sequence: 0\n",
      "Extension length: 39\n",
      "\n",
      "Ac3H11_4927\n",
      "Overlap in extended sequence: 960\n",
      "Extension length: 990\n",
      "Overlap with Ac3H11_4928 LysR family transcriptional regulator STM3121 of length 960\n",
      "\n",
      "Ac3H11_4957\n",
      "Overlap in extended sequence: 0\n",
      "Extension length: 69\n",
      "\n",
      "Ac3H11_3538\n",
      "Overlap in extended sequence: 0\n",
      "Extension length: 105\n",
      "\n",
      "Ac3H11_3718\n",
      "Overlap in extended sequence: 530\n",
      "Extension length: 576\n",
      "Overlap with Ac3H11_3717 Haloacid dehalogenase, type II (EC 3.8.1.2) of length 729\n",
      "\n",
      "Ac3H11_3311\n",
      "Overlap in extended sequence: 0\n",
      "Extension length: 714\n",
      "\n",
      "Ac3H11_3786\n",
      "Overlap in extended sequence: 4\n",
      "Extension length: 45\n",
      "Overlap with Ac3H11_3785 Nucleoside-diphosphate-sugar epimerases of length 984\n",
      "\n"
     ]
    }
   ],
   "source": [
    "for fbseq, fbseq_extended in zip(sec_fbseqs, sec_fbseqs_extended):\n",
    "    print(fbseq.id_)\n",
    "    # print(f'Overlap in non-extended sequence:', fbseq.overlap()) # Confirmed that these were all zero. \n",
    "    print(f'Overlap in extended sequence:', fbseq_extended.overlap())\n",
    "    print(f'Extension length:', len(fbseq_extended) - len(fbseq))\n",
    "    if fbseq_extended.overlap() > 0:\n",
    "        print(f'Overlap with {fbseq.next().id_} {fbseq.next().desc} of length {len(fbseq.next())}')\n",
    "    print()"
   ]
  },
  {
   "cell_type": "code",
   "execution_count": 42,
   "metadata": {},
   "outputs": [
    {
     "name": "stdout",
     "output_type": "stream",
     "text": [
      "Ac3H11_1463 0.19395658830946594\n",
      "Ac3H11_1967 -0.17400389551529713\n",
      "Ac3H11_2080 -0.04044371818345927\n",
      "Ac3H11_2730 -0.1348735945928379\n",
      "Ac3H11_2874 -0.038446868358168546\n",
      "Ac3H11_3088 -0.056309440884745376\n",
      "Ac3H11_3311 -0.022354904700408657\n",
      "Ac3H11_3538 0.1839784021850656\n",
      "Ac3H11_3718 -0.0035930292446034458\n",
      "Ac3H11_3786 -0.09247398808560173\n",
      "Ac3H11_4237 0.1056121641221724\n",
      "Ac3H11_4306 0.1286271362772494\n",
      "Ac3H11_4581 0.25289994713904124\n",
      "Ac3H11_4637 0.16522297194280058\n",
      "Ac3H11_4888 -0.109376461123247\n",
      "Ac3H11_4927 0.1010919458377296\n",
      "Ac3H11_4957 0.4750884675697945\n"
     ]
    }
   ],
   "source": [
    "for id_, linreg in zip(sec_ids, sec_linregs):\n",
    "    print(id_, linreg.slope)"
   ]
  },
  {
   "cell_type": "code",
   "execution_count": 80,
   "metadata": {},
   "outputs": [
    {
     "data": {
      "image/png": "[encoded data removed]",
      "text/plain": [
       "<Figure size 640x480 with 1 Axes>"
      ]
     },
     "metadata": {},
     "output_type": "display_data"
    }
   ],
   "source": [
    "def plot_cofitness(id_:str):\n",
    "\n",
    "    fig, ax = plt.subplots()\n",
    "\n",
    "    x_vals = np.linspace(-4, 4, 50)\n",
    "\n",
    "    for i, linreg in enumerate(negative_control_linregs):\n",
    "        # fbseq = FitnessBrowserSequence.from_cseq(negative_control_cseqs[i], fitness_df, t_values_df=t_values_df)\n",
    "        # fbseq_ext_only = FitnessBrowserSequence.from_cseq(negative_control_cseqs_ext_only[i], fitness_df, t_values_df=t_values_df)\n",
    "\n",
    "        # ax.scatter(fbseq.mean(), fbseq_ext_only.mean(), color='gray', alpha=0.2, s=2)\n",
    "        ax.plot(x_vals, x_vals * linreg.slope + linreg.intercept, color='gray', alpha=0.2, lw=0.7, zorder=1)\n",
    "\n",
    "    # i = np.where(positive_control_ids == id_)[0].item()\n",
    "    # positive_control_linreg = positive_control_linregs[i]\n",
    "    # positive_control_cseq_left, positive_control_cseq_right = positive_control_cseqs_split[i]\n",
    "    # positive_control_fbseq_left = FitnessBrowserSequence.from_cseq(positive_control_cseq_left, fitness_df, t_values_df=t_values_df) \n",
    "    # positive_control_fbseq_right = FitnessBrowserSequence.from_cseq(positive_control_cseq_right, fitness_df, t_values_df=t_values_df) \n",
    "    # ax.scatter(positive_control_fbseq_left.mean(), positive_control_fbseq_right.mean(), color='black', alpha=0.5)\n",
    "    # ax.plot(x_vals, x_vals * linreg.slope + linreg.intercept, color='black')\n",
    "    i = np.where(sec_ids == id_)[0].item()\n",
    "    sec_linreg = sec_linregs[i]\n",
    "    sec_fbseq = FitnessBrowserSequence.from_cseq(sec_cseqs[i], fitness_df, t_values_df=t_values_df)\n",
    "    sec_fbseq_ext_only = FitnessBrowserSequence.from_cseq(sec_cseqs_ext_only[i], fitness_df, t_values_df=t_values_df)\n",
    "    ax.scatter(sec_fbseq.mean(), sec_fbseq_ext_only.mean(), color='blue', alpha=0.5, zorder=3)\n",
    "    ax.plot(x_vals, x_vals * sec_linreg.slope + sec_linreg.intercept, color='blue', zorder=2)\n",
    "\n",
    "    ax.set_xlabel('in-gene fitness')\n",
    "    ax.set_ylabel('extension region fitness')\n",
    "    ax.set_title(f'cofitness for gene {id_}')\n",
    "\n",
    "\n",
    "plot_cofitness(354220)\n",
    "\n",
    "# There do seem to be some outliers in the slopes. I wonder if we should be using \"distance from a slope of 1\" as\n",
    "# the metric, as a one-to-one correspondence should probably be the target. Also, there do seem to be \n",
    "# outliers in the negative control cofitness values -- perhaps the extension region is overlapping another gene?\n",
    "# Maybe I should remove these cases as well, and make sure the flagged selenoproteins are also not overlapping."
   ]
  },
  {
   "cell_type": "code",
   "execution_count": 27,
   "metadata": {},
   "outputs": [],
   "source": [
    "def get_p_value_cofitness(id_):\n",
    "    '''Compute the significance of the cofitness value considering the distribution of negative control \n",
    "    cofitness values. These are correlation coefficients, so no need to use a pivotal test statistic.''' \n",
    "    negative_control_cofitness = np.loadtxt(os.path.join(VAL_DIR, organism, 'negative_control_cofitness.csv'), dtype=float)\n",
    "    sec_cofitness = np.loadtxt(os.path.join(VAL_DIR, organism, 'sec_cofitness.csv'), dtype=float)\n",
    "    sec_ids = np.loadtxt(os.path.join(VAL_DIR, organism, 'sec_ids.csv'), dtype=str)\n",
    "    sec_ids = np.array([int(id_) for id_ in sec_ids]) # Only for the organisms for which the IDs are integers. \n",
    "\n",
    "    cofitness = sec_cofitness[sec_ids == id_] # Get the cofitness score for the specified locus. \n",
    "\n",
    "    p = np.sum(negative_control_cofitness > cofitness) # Get the number of cofitness values more extreme than that of the predicted selenoprotein. \n",
    "    p = p / (len(negative_control_cofitness))\n",
    "    return p\n",
    "\n",
    "\n",
    "def get_p_value_slope(id_):\n",
    "    '''Compute the significance of the slope considering the distribution of negative control \n",
    "    slopes (from fitting linear regression models).''' \n",
    "    with open(os.path.join(VAL_DIR, organism, 'negative_control_linregs.pkl'), 'rb') as f:\n",
    "        negative_control_linregs = pickle.load(f)\n",
    "    negative_control_slopes = np.array([linreg.slope for linreg in negative_control_linregs])\n",
    "    with open(os.path.join(VAL_DIR, organism, 'sec_linregs.pkl'), 'rb') as f:\n",
    "        sec_linregs = pickle.load(f)\n",
    "    sec_slopes = np.array([linreg.slope for linreg in sec_linregs])\n",
    "\n",
    "    sec_ids = np.loadtxt(os.path.join(VAL_DIR, organism, 'sec_ids.csv'), dtype=str)\n",
    "    sec_ids = np.array([int(id_) for id_ in sec_ids]) # Only for the organisms for which the IDs are integers. \n",
    "\n",
    "    slope = sec_slopes[sec_ids == id_]\n",
    "    p = np.sum(negative_control_slopes > slope)\n",
    "    p = p / len(negative_control_slopes)\n",
    "\n",
    "    return p"
   ]
  },
  {
   "cell_type": "code",
   "execution_count": 51,
   "metadata": {},
   "outputs": [
    {
     "data": {
      "text/html": [
       "<div>\n",
       "<style scoped>\n",
       "    .dataframe tbody tr th:only-of-type {\n",
       "        vertical-align: middle;\n",
       "    }\n",
       "\n",
       "    .dataframe tbody tr th {\n",
       "        vertical-align: top;\n",
       "    }\n",
       "\n",
       "    .dataframe thead th {\n",
       "        text-align: right;\n",
       "    }\n",
       "</style>\n",
       "<table border=\"1\" class=\"dataframe\">\n",
       "  <thead>\n",
       "    <tr style=\"text-align: right;\">\n",
       "      <th></th>\n",
       "      <th>set1IT049</th>\n",
       "      <th>set1IT050</th>\n",
       "      <th>set1IT051</th>\n",
       "      <th>set1IT052</th>\n",
       "      <th>set1IT053</th>\n",
       "      <th>set1IT055</th>\n",
       "      <th>set1IT056</th>\n",
       "      <th>set1IT057</th>\n",
       "      <th>set1IT058</th>\n",
       "      <th>set1IT059</th>\n",
       "      <th>...</th>\n",
       "      <th>set4IT075</th>\n",
       "      <th>set4IT077</th>\n",
       "      <th>set4IT078</th>\n",
       "      <th>set4IT080</th>\n",
       "      <th>set4IT081</th>\n",
       "      <th>set4IT083</th>\n",
       "      <th>set4IT084</th>\n",
       "      <th>set4IT086</th>\n",
       "      <th>set4IT090</th>\n",
       "      <th>set4IT092</th>\n",
       "    </tr>\n",
       "    <tr>\n",
       "      <th>id</th>\n",
       "      <th></th>\n",
       "      <th></th>\n",
       "      <th></th>\n",
       "      <th></th>\n",
       "      <th></th>\n",
       "      <th></th>\n",
       "      <th></th>\n",
       "      <th></th>\n",
       "      <th></th>\n",
       "      <th></th>\n",
       "      <th></th>\n",
       "      <th></th>\n",
       "      <th></th>\n",
       "      <th></th>\n",
       "      <th></th>\n",
       "      <th></th>\n",
       "      <th></th>\n",
       "      <th></th>\n",
       "      <th></th>\n",
       "      <th></th>\n",
       "      <th></th>\n",
       "    </tr>\n",
       "  </thead>\n",
       "  <tbody>\n",
       "    <tr>\n",
       "      <th>Ac3H11_2730</th>\n",
       "      <td>1.0</td>\n",
       "      <td>0.2</td>\n",
       "      <td>0.2</td>\n",
       "      <td>0.1</td>\n",
       "      <td>-0.7</td>\n",
       "      <td>-1.5</td>\n",
       "      <td>-0.2</td>\n",
       "      <td>-0.5</td>\n",
       "      <td>-0.7</td>\n",
       "      <td>-2.7</td>\n",
       "      <td>...</td>\n",
       "      <td>0.2</td>\n",
       "      <td>-1.1</td>\n",
       "      <td>-2.4</td>\n",
       "      <td>1.1</td>\n",
       "      <td>-1.4</td>\n",
       "      <td>0.4</td>\n",
       "      <td>-0.3</td>\n",
       "      <td>-1.0</td>\n",
       "      <td>0.1</td>\n",
       "      <td>-1.3</td>\n",
       "    </tr>\n",
       "    <tr>\n",
       "      <th>Ac3H11_2730</th>\n",
       "      <td>-1.5</td>\n",
       "      <td>1.2</td>\n",
       "      <td>1.9</td>\n",
       "      <td>0.0</td>\n",
       "      <td>-0.6</td>\n",
       "      <td>0.3</td>\n",
       "      <td>-0.4</td>\n",
       "      <td>0.1</td>\n",
       "      <td>-0.1</td>\n",
       "      <td>0.9</td>\n",
       "      <td>...</td>\n",
       "      <td>0.1</td>\n",
       "      <td>0.2</td>\n",
       "      <td>-2.3</td>\n",
       "      <td>-0.3</td>\n",
       "      <td>1.0</td>\n",
       "      <td>1.2</td>\n",
       "      <td>0.1</td>\n",
       "      <td>0.8</td>\n",
       "      <td>0.4</td>\n",
       "      <td>-1.3</td>\n",
       "    </tr>\n",
       "    <tr>\n",
       "      <th>Ac3H11_2730</th>\n",
       "      <td>0.9</td>\n",
       "      <td>0.2</td>\n",
       "      <td>0.8</td>\n",
       "      <td>-0.4</td>\n",
       "      <td>-0.1</td>\n",
       "      <td>-1.0</td>\n",
       "      <td>0.2</td>\n",
       "      <td>0.4</td>\n",
       "      <td>-0.3</td>\n",
       "      <td>-1.4</td>\n",
       "      <td>...</td>\n",
       "      <td>0.0</td>\n",
       "      <td>-0.4</td>\n",
       "      <td>-0.1</td>\n",
       "      <td>0.8</td>\n",
       "      <td>-0.0</td>\n",
       "      <td>0.6</td>\n",
       "      <td>0.5</td>\n",
       "      <td>-1.4</td>\n",
       "      <td>-0.8</td>\n",
       "      <td>0.5</td>\n",
       "    </tr>\n",
       "  </tbody>\n",
       "</table>\n",
       "<p>3 rows × 140 columns</p>\n",
       "</div>"
      ],
      "text/plain": [
       "             set1IT049  set1IT050  set1IT051  set1IT052  set1IT053  set1IT055  \\\n",
       "id                                                                              \n",
       "Ac3H11_2730        1.0        0.2        0.2        0.1       -0.7       -1.5   \n",
       "Ac3H11_2730       -1.5        1.2        1.9        0.0       -0.6        0.3   \n",
       "Ac3H11_2730        0.9        0.2        0.8       -0.4       -0.1       -1.0   \n",
       "\n",
       "             set1IT056  set1IT057  set1IT058  set1IT059  ...  set4IT075  \\\n",
       "id                                                       ...              \n",
       "Ac3H11_2730       -0.2       -0.5       -0.7       -2.7  ...        0.2   \n",
       "Ac3H11_2730       -0.4        0.1       -0.1        0.9  ...        0.1   \n",
       "Ac3H11_2730        0.2        0.4       -0.3       -1.4  ...        0.0   \n",
       "\n",
       "             set4IT077  set4IT078  set4IT080  set4IT081  set4IT083  set4IT084  \\\n",
       "id                                                                              \n",
       "Ac3H11_2730       -1.1       -2.4        1.1       -1.4        0.4       -0.3   \n",
       "Ac3H11_2730        0.2       -2.3       -0.3        1.0        1.2        0.1   \n",
       "Ac3H11_2730       -0.4       -0.1        0.8       -0.0        0.6        0.5   \n",
       "\n",
       "             set4IT086  set4IT090  set4IT092  \n",
       "id                                            \n",
       "Ac3H11_2730       -1.0        0.1       -1.3  \n",
       "Ac3H11_2730        0.8        0.4       -1.3  \n",
       "Ac3H11_2730       -1.4       -0.8        0.5  \n",
       "\n",
       "[3 rows x 140 columns]"
      ]
     },
     "execution_count": 51,
     "metadata": {},
     "output_type": "execute_result"
    }
   ],
   "source": [
    "FitnessBrowserSequence.from_cseq(sec_cseqs[4], fitness_df).fitness"
   ]
  },
  {
   "cell_type": "code",
   "execution_count": 49,
   "metadata": {},
   "outputs": [
    {
     "data": {
      "text/plain": [
       "False"
      ]
     },
     "execution_count": 49,
     "metadata": {},
     "output_type": "execute_result"
    }
   ],
   "source": [
    "sec_ids[0] == 349816"
   ]
  },
  {
   "cell_type": "code",
   "execution_count": 2,
   "metadata": {},
   "outputs": [],
   "source": [
    "# TODO: Try splitting up in-gene observations and seeing if there is any correlation with those.\n",
    "# TODO: In an attempt to reduce noise, try filtering using t-values. \n",
    "# TODO: Some kind of interference score to quantify how much of the downstream region is occupied by another gene.\n",
    "# TODO: Compare to in-gene fitness values.\n",
    "# TODO: Color-code experiment observations by category. \n",
    "# TODO: Maybe consider using the number of transposon mutations in the downstream region as a way to indicate if a region is useful?\n",
    "# TODO: Maybe compare stop codon usage among hits to stop codon usage across the genome?"
   ]
  },
  {
   "cell_type": "code",
   "execution_count": 3,
   "metadata": {},
   "outputs": [],
   "source": [
    "\n",
    "# positive_control_ids, positive_control_cofitness, positive_control_linregs = [], [], []\n",
    "\n",
    "# # Iterate over all predicted selenoproteins.\n",
    "# pbar = tqdm(predictions_df[predictions_df.prediction == 1]['id'].values, desc='Filtering ContextSequences...')\n",
    "# for id_ in pbar:\n",
    "#     cseq = ContextSequence(id_, metadata_df=metadata_df, genome_df=genome_df)\n",
    "#     left_cseq, right_cseq = cseq.split() # Split the gene in two. \n",
    "#     # Convert to FitnessBrowserSequence objects to compute cofitness. \n",
    "#     left_fbseq = FitnessBrowserSequence.from_cseq(left_cseq, fitness_df, t_values_df=t_values_df)\n",
    "#     right_fbseq = FitnessBrowserSequence.from_cseq(right_cseq, fitness_df, t_values_df=t_values_df)\n",
    "\n",
    "#     if (left_fbseq.t_values is not None) and (right_fbseq.t_values is not None):\n",
    "#         # has_significant_phenotype = fbseq.significance() > 0\n",
    "#         # print('has_significant_phenotype:', has_significant_phenotype)\n",
    "#         has_hits_in_both_regions = (right_fbseq.hits() > 0) and (left_fbseq.hits() > 0)\n",
    "\n",
    "#         if has_hits_in_both_regions:\n",
    "#             positive_control_ids.append(id_) \n",
    "#             cofitness, linreg = left_fbseq.cofitness(right_fbseq)\n",
    "#             positive_control_cofitness.append(cofitness)\n",
    "#             positive_control_linregs.append(linreg)\n",
    "\n",
    "#     pbar.set_description(f'Filtering ContextSequences... {len(positive_control_ids)} in final list.')\n",
    "\n",
    "\n",
    "# print('Saving positive_control_ids to', os.path.join(VAL_DIR, organism, 'positive_control_ids.csv'))\n",
    "# np.savetxt(os.path.join(VAL_DIR, organism, 'positive_control_ids.csv'), positive_control_ids, delimiter=',', fmt='%s')\n",
    "# sec_ids = np.loadtxt(os.path.join(VAL_DIR, organism, 'positive_control_ids.csv'), dtype=str)\n",
    "\n",
    "# print('Saving positive_control_linregs to', os.path.join(VAL_DIR, organism, 'positive_control_linregs.pkl'))\n",
    "# with open(os.path.join(VAL_DIR, organism, 'positive_control_linregs.pkl'), 'wb') as f:\n",
    "#     pickle.dump(positive_control_linregs, f)\n",
    "\n",
    "# print('Saving positive_control_cofitness to', os.path.join(VAL_DIR, organism, 'positive_control_cofitness.csv'))\n",
    "# np.savetxt(os.path.join(VAL_DIR, organism, 'positive_control_cofitness.csv'), positive_control_cofitness, delimiter=',')\n",
    "# sec_cofitness = np.loadtxt(os.path.join(VAL_DIR, organism, 'positive_control_cofitness.csv'), dtype=float)"
   ]
  },
  {
   "cell_type": "code",
   "execution_count": null,
   "metadata": {},
   "outputs": [],
   "source": []
  },
  {
   "cell_type": "code",
   "execution_count": null,
   "metadata": {},
   "outputs": [],
   "source": []
  },
  {
   "cell_type": "code",
   "execution_count": null,
   "metadata": {},
   "outputs": [],
   "source": []
  }
 ],
 "metadata": {
  "kernelspec": {
   "display_name": "selenobot",
   "language": "python",
   "name": "python3"
  },
  "language_info": {
   "codemirror_mode": {
    "name": "ipython",
    "version": 3
   },
   "file_extension": ".py",
   "mimetype": "text/x-python",
   "name": "python",
   "nbconvert_exporter": "python",
   "pygments_lexer": "ipython3",
   "version": "3.9.18"
  }
 },
 "nbformat": 4,
 "nbformat_minor": 2
}
