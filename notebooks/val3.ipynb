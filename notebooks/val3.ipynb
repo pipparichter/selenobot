{
 "cells": [
  {
   "cell_type": "code",
   "execution_count": 50,
   "metadata": {},
   "outputs": [
    {
     "name": "stdout",
     "output_type": "stream",
     "text": [
      "The autoreload extension is already loaded. To reload it, use:\n",
      "  %reload_ext autoreload\n"
     ]
    }
   ],
   "source": [
    "import pandas as pd \n",
    "from selenobot.utils import DATA_DIR, SCRIPTS_DIR, dataframe_from_fasta\n",
    "from selenobot.sequences import *\n",
    "import os\n",
    "import numpy as np\n",
    "import subprocess\n",
    "import time\n",
    "from tqdm import tqdm \n",
    "import matplotlib.pyplot as plt\n",
    "import warnings \n",
    "import sklearn\n",
    "import pickle\n",
    "\n",
    "\n",
    "warnings.filterwarnings('ignore')\n",
    "%load_ext autoreload\n",
    "%autoreload 2\n",
    "\n",
    "# Set the main data directory to be the v3 validation directory. \n",
    "# TODO: Should I offload more of the helper functions to a separate file?\n",
    "organism = 'Btheta'\n",
    "# organism = 'acidovorax_3H11'\n",
    "VAL_DIR = os.path.join(DATA_DIR, 'val3') "
   ]
  },
  {
   "cell_type": "code",
   "execution_count": 51,
   "metadata": {},
   "outputs": [
    {
     "name": "stdout",
     "output_type": "stream",
     "text": [
      "Number of predicted selenoproteins: 16.0\n",
      "Average length of predicted selenoproteins: 262.875\n",
      "Average length of predicted non-selenoproteins: 389.43833333333333\n"
     ]
    }
   ],
   "source": [
    "predictions_df = pd.read_csv(os.path.join(VAL_DIR, organism, 'predictions.csv')) # , dtype={'id':str}) # Load selenoprotein predictions.\n",
    "genome_df = dataframe_from_fasta(os.path.join(VAL_DIR, organism, f'genome.fna'), parser=None) \n",
    "metadata_df = pd.read_csv(os.path.join(VAL_DIR, organism, 'metadata.csv')) # , dtype={'id':str, 'scaffold_id':str}) \n",
    "\n",
    "print('Number of predicted selenoproteins:', np.sum(predictions_df.prediction.values))\n",
    "print('Average length of predicted selenoproteins:', predictions_df[predictions_df.prediction == 1].seq.apply(len).mean())\n",
    "print('Average length of predicted non-selenoproteins:', predictions_df[predictions_df.prediction == 0].seq.apply(len).mean()) "
   ]
  },
  {
   "cell_type": "markdown",
   "metadata": {},
   "source": [
    "## Extending predicted selenoproteins"
   ]
  },
  {
   "cell_type": "code",
   "execution_count": 52,
   "metadata": {},
   "outputs": [
    {
     "name": "stderr",
     "output_type": "stream",
     "text": [
      "load_cseqs: 100%|██████████| 16/16 [00:00<00:00, 179.00it/s]\n"
     ]
    }
   ],
   "source": [
    "sec_ids = predictions_df[predictions_df.prediction == 1]['id'].values # Get the IDs of the predicted selenoproteins. \n",
    "sec_cseqs = load_cseqs(metadata_df, genome_df=genome_df, use_ids=sec_ids)\n",
    "# sec_cseqs = load_cseqs(metadata_df, genome_df=genome_df, use_ids=['Ac3H11_329'])\n",
    "sec_cseqs_extended = [cseq.extend() for cseq in sec_cseqs]"
   ]
  },
  {
   "cell_type": "code",
   "execution_count": 53,
   "metadata": {},
   "outputs": [
    {
     "name": "stdout",
     "output_type": "stream",
     "text": [
      "Removing 6 predicted selenoproteins from the hits.\n"
     ]
    }
   ],
   "source": [
    "# How many of the non-extended proteins already have overlaps?\n",
    "overlaps_df = []\n",
    "for cseq in sec_cseqs_extended:\n",
    "    if len(cseq.overlaps) > 0:\n",
    "        for seq in cseq.overlaps:\n",
    "            row = dict()\n",
    "            row['id'] = cseq.id_\n",
    "            row['overlaps_with'] = seq.id_\n",
    "            row['overlap_num'] = len(cseq.overlaps)\n",
    "            row['overlap_size'] = cseq.overlap(seq)\n",
    "            row['downstream'] = cseq.is_downstream(seq)\n",
    "            row['ext_length'] = cseq.ext_length\n",
    "            overlaps_df.append(row)\n",
    "\n",
    "overlaps_df = pd.DataFrame(overlaps_df) \n",
    "overlaps_df = overlaps_df[overlaps_df.overlap_size > 60]\n",
    "sec_ids_to_remove = overlaps_df['id'].values \n",
    "\n",
    "print(f'Removing {len(sec_ids_to_remove)} predicted selenoproteins from the hits.')\n",
    "sec_ids_filtered = [id_ for id_ in sec_ids if id_ not in sec_ids_to_remove]\n",
    "\n",
    "# What if the downstream overlap is a misannotation? It seems like a bad idea to throw out everything with a downstream overlap, \n",
    "# just in case it is, in fact, a misannotated selenoprotein. \n"
   ]
  },
  {
   "cell_type": "code",
   "execution_count": 54,
   "metadata": {},
   "outputs": [],
   "source": [
    "# How many overlaps if we extend the proteins?\n",
    "# It seems not great to include proteins with downstream overlaps in the negative control (as long as we are careful about which\n",
    "# predicted selenoproteins we analyze). I think that related genes tend to have similar functions, so it is possible that comparing\n",
    "# the in-protein region with the extended region in some controls is just comparing cofitness between two genes that have a \n",
    "# related function. What we really want is to compare the in-gene region with a *non-coding* extended region. "
   ]
  },
  {
   "cell_type": "code",
   "execution_count": 55,
   "metadata": {},
   "outputs": [],
   "source": [
    "# https://bmcgenomics.biomedcentral.com/articles/10.1186/1471-2164-9-335\n"
   ]
  },
  {
   "cell_type": "markdown",
   "metadata": {},
   "source": [
    "## Analyzing fitness data\n",
    "\n",
    "There are several requirements that a hit must meet in order to be useful.\n",
    "1. The sequence must be \"extendable,\" i.e. the hit must not run off the end of the contig.\n",
    "2. There must have been a transposon insertion in the extended region of the gene. \n",
    "3. The gene must create some kind of noticable phenotype when mutated.\n",
    "4. \n",
    "I am thinking about adding an additional requirement, which is that the extended region does not overlap with another gene.\n",
    "\n",
    "I need to think a little more about if I should adjust the \"significant phenotype\" standards. In the original paper, they use a minimum t value of 4 and fitness of 0.5, but when I apply this filtering to the selenoprotein hits, I only have a single result. I might try ignoring or loosening the significance constraint when looking at the predicted selenoprotein genes.\n",
    "\n",
    "### Positive controls\n",
    "\n",
    "Split the (non-extended) selenoprotein hits in two, and compute cofitness scores for the front half of the gene relative to back half of the gene. \n",
    "\n",
    "### Negative controls\n",
    "\n",
    "For negative controls, extend non-selenoprotein hits to the next stop codon and look at the cofitness score for the extended region versus the main protein. "
   ]
  },
  {
   "cell_type": "code",
   "execution_count": 56,
   "metadata": {},
   "outputs": [],
   "source": [
    "fitness_df = pd.read_csv(os.path.join(VAL_DIR, organism, 'fitness.csv')) # , dtype={'id':str, 'scaffold_id':str})\n",
    "t_values_df = pd.read_csv(os.path.join(VAL_DIR, organism, 't_values.csv')) # , dtype={'id':str})\n",
    "\n",
    "# # Because of the NaN values, need to manually convert the IDs to strings.\n",
    "# fitness_df['id'] = fitness_df['id'].apply(lambda id_ : None if pd.isnull(id_) else str(id_).split('.')[0])"
   ]
  },
  {
   "cell_type": "code",
   "execution_count": 59,
   "metadata": {},
   "outputs": [
    {
     "name": "stderr",
     "output_type": "stream",
     "text": [
      "Filtering ContextSequences...:   0%|          | 0/4416 [00:00<?, ?it/s]"
     ]
    },
    {
     "name": "stderr",
     "output_type": "stream",
     "text": [
      "Filtering ContextSequences... 19 in final list.: 100%|██████████| 4416/4416 [1:34:14<00:00,  1.28s/it]"
     ]
    },
    {
     "name": "stdout",
     "output_type": "stream",
     "text": [
      "Saving negative_control_ids to /home/prichter/Documents/selenobot/selenobot/../data/val3/Btheta/negative_control_ids.csv\n",
      "Saving negative_control_linregs to /home/prichter/Documents/selenobot/selenobot/../data/val3/Btheta/negative_control_linregs.pkl\n",
      "Saving negative_control_cofitness to /home/prichter/Documents/selenobot/selenobot/../data/val3/Btheta/negative_control_cofitness.csv\n"
     ]
    },
    {
     "name": "stderr",
     "output_type": "stream",
     "text": [
      "\n"
     ]
    }
   ],
   "source": [
    "# NOTE: I wonder if I should apply any other filters, like maybe number of hits in the extended region. \n",
    "\n",
    "negative_control_ids, negative_control_cofitness, negative_control_linregs = [], [], []\n",
    "\n",
    "# Iterate over all sequences which are not predicted selenoproteins for the negative control. \n",
    "pbar = tqdm([id_ for id_ in fitness_df['id'].dropna().unique() if not (id_ in sec_ids)], desc='Filtering ContextSequences...')\n",
    "for id_ in pbar:\n",
    "    fbseq = FitnessBrowserSequence(id_, metadata_df=metadata_df, fitness_df=fitness_df, genome_df=genome_df, t_values_df=t_values_df, low_memory=False)\n",
    "\n",
    "    if (not fbseq.extendable()) or (fbseq.t_values is None):\n",
    "        continue\n",
    "\n",
    "    fbseq_extended = fbseq.extend()\n",
    "    fbseq_extension = fbseq_extended.extension() \n",
    "\n",
    "    has_significant_phenotype = fbseq.significant()\n",
    "    has_hits_in_extended_region = fbseq_extension.hits() > 5\n",
    "    has_hits_in_main_region = fbseq.hits() > 0\n",
    "    does_not_overlap = all([(fbseq_extended.is_upstream(seq) is True) or (fbseq_extended.overlap(seq) < 60) for seq in fbseq_extended.overlaps])\n",
    "    \n",
    "\n",
    "    if all([has_significant_phenotype, has_hits_in_extended_region, has_hits_in_main_region, does_not_overlap]):\n",
    "        negative_control_ids.append(id_)\n",
    "        cofitness, linreg = fbseq.cofitness(fbseq_extension)\n",
    "        negative_control_linregs.append(linreg)\n",
    "        negative_control_cofitness.append(cofitness)\n",
    "\n",
    "    pbar.set_description(f'Filtering ContextSequences... {len(negative_control_ids)} in final list.')\n",
    "\n",
    "print('Saving negative_control_ids to', os.path.join(VAL_DIR, organism, 'negative_control_ids.csv'))\n",
    "np.savetxt(os.path.join(VAL_DIR, organism, 'negative_control_ids.csv'), negative_control_ids, delimiter=',', fmt='%s')\n",
    "\n",
    "print('Saving negative_control_linregs to', os.path.join(VAL_DIR, organism, 'negative_control_linregs.pkl'))\n",
    "with open(os.path.join(VAL_DIR, organism, 'negative_control_linregs.pkl'), 'wb') as f:\n",
    "    pickle.dump(negative_control_linregs, f)\n",
    "\n",
    "print('Saving negative_control_cofitness to', os.path.join(VAL_DIR, organism, 'negative_control_cofitness.csv'))\n",
    "np.savetxt(os.path.join(VAL_DIR, organism, 'negative_control_cofitness.csv'), negative_control_cofitness, delimiter=',')"
   ]
  },
  {
   "cell_type": "code",
   "execution_count": null,
   "metadata": {},
   "outputs": [
    {
     "name": "stderr",
     "output_type": "stream",
     "text": [
      "Filtering ContextSequences... 4 in final list.: 100%|██████████| 31/31 [00:04<00:00,  7.67it/s]"
     ]
    },
    {
     "name": "stdout",
     "output_type": "stream",
     "text": [
      "Saving sec_ids to /home/prichter/Documents/selenobot/selenobot/../data/val3/acidovorax_3H11/sec_ids.csv\n",
      "Saving sec_linregs to /home/prichter/Documents/selenobot/selenobot/../data/val3/acidovorax_3H11/sec_linregs.pkl\n",
      "Saving sec_cofitness to /home/prichter/Documents/selenobot/selenobot/../data/val3/acidovorax_3H11/sec_cofitness.csv\n"
     ]
    },
    {
     "name": "stderr",
     "output_type": "stream",
     "text": [
      "\n"
     ]
    }
   ],
   "source": [
    "sec_ids, sec_linregs, sec_cofitness = [], [], []\n",
    "\n",
    "# Iterate over all predicted selenoproteins.\n",
    "pbar = tqdm(sec_ids_filtered, desc='Filtering ContextSequences...')\n",
    "for id_ in pbar:\n",
    "    fbseq = FitnessBrowserSequence(id_, metadata_df=metadata_df, fitness_df=fitness_df, genome_df=genome_df, t_values_df=t_values_df, low_memory=False)\n",
    "\n",
    "    if (not fbseq.extendable()) or (fbseq.t_values is None):\n",
    "        continue\n",
    "\n",
    "    fbseq_extended = fbseq.extend()\n",
    "    fbseq_extension = fbseq_extended.extension() \n",
    "\n",
    "    has_significant_phenotype = fbseq.significant()\n",
    "    has_hits_in_extended_region = fbseq_extension.hits() > 5\n",
    "    has_hits_in_main_region = fbseq.hits() > 0\n",
    "\n",
    "    if has_hits_in_extended_region and has_hits_in_main_region:\n",
    "        sec_ids.append(id_)\n",
    "        cofitness, linreg = fbseq.cofitness(fbseq_extension)\n",
    "        sec_linregs.append(linreg)\n",
    "        sec_cofitness.append(cofitness)\n",
    "\n",
    "    pbar.set_description(f'Filtering ContextSequences... {len(sec_ids)} in final list.')\n",
    "\n",
    "print('Saving sec_ids to', os.path.join(VAL_DIR, organism, 'sec_ids.csv'))\n",
    "np.savetxt(os.path.join(VAL_DIR, organism, 'sec_ids.csv'), sec_ids, delimiter=',', fmt='%s')\n",
    "sec_ids = np.loadtxt(os.path.join(VAL_DIR, organism, 'sec_ids.csv'), dtype=str)\n",
    "\n",
    "print('Saving sec_linregs to', os.path.join(VAL_DIR, organism, 'sec_linregs.pkl'))\n",
    "with open(os.path.join(VAL_DIR, organism, 'sec_linregs.pkl'), 'wb') as f:\n",
    "    pickle.dump(sec_linregs, f)\n",
    "\n",
    "print('Saving sec_cofitness to', os.path.join(VAL_DIR, organism, 'sec_cofitness.csv'))\n",
    "np.savetxt(os.path.join(VAL_DIR, organism, 'sec_cofitness.csv'), sec_cofitness, delimiter=',')\n",
    "sec_cofitness = np.loadtxt(os.path.join(VAL_DIR, organism, 'sec_cofitness.csv'), dtype=float)"
   ]
  },
  {
   "cell_type": "code",
   "execution_count": null,
   "metadata": {},
   "outputs": [
    {
     "name": "stdout",
     "output_type": "stream",
     "text": [
      "Mean negative control cofitness: 0.22501869814364475\n",
      "Mean predicted selenoprotein cofitness: 0.17708479494331528\n"
     ]
    }
   ],
   "source": [
    "print('Mean negative control cofitness:', np.mean(negative_control_cofitness))\n",
    "print('Mean predicted selenoprotein cofitness:', np.mean(sec_cofitness))"
   ]
  },
  {
   "cell_type": "code",
   "execution_count": 60,
   "metadata": {},
   "outputs": [
    {
     "data": {
      "image/png": "[encoded data removed]",
      "text/plain": [
       "<Figure size 640x480 with 1 Axes>"
      ]
     },
     "metadata": {},
     "output_type": "display_data"
    }
   ],
   "source": [
    "fig, ax = plt.subplots()\n",
    "vals, _, _ = ax.hist((negative_control_cofitness, sec_cofitness), density=True, color=['gray', 'blue'], alpha=0.5)\n",
    "ax.legend(['negative control', 'predicted selenoproteins'])\n",
    "ax.set_xlabel('cofitness')\n",
    "plt.show()"
   ]
  },
  {
   "cell_type": "code",
   "execution_count": null,
   "metadata": {},
   "outputs": [],
   "source": [
    "negative_control_cofitness = np.loadtxt(os.path.join(VAL_DIR, organism, 'negative_control_cofitness.csv'), dtype=float)\n",
    "# negative_control_ids = np.loadtxt(os.path.join(VAL_DIR, organism, 'negative_control_ids.csv'), dtype=str)\n",
    "with open(os.path.join(VAL_DIR, organism, 'negative_control_linregs.pkl'), 'rb') as f:\n",
    "    negative_control_linregs = pickle.load(f)\n",
    "\n",
    "# positive_control_cofitness = np.loadtxt(os.path.join(VAL_DIR, organism, 'positive_control_cofitness.csv'), dtype=float)\n",
    "# positive_control_ids = np.loadtxt(os.path.join(VAL_DIR, organism, 'positive_control_ids.csv'), dtype=str)\n",
    "# with open(os.path.join(VAL_DIR, organism, 'positive_control_linregs.pkl'), 'rb') as f:\n",
    "#     positive_control_linregs = pickle.load(f)\n",
    "\n",
    "sec_cofitness = np.loadtxt(os.path.join(VAL_DIR, organism, 'sec_cofitness.csv'), dtype=float)\n",
    "sec_ids = np.loadtxt(os.path.join(VAL_DIR, organism, 'sec_ids.csv'), dtype=str)\n",
    "# sec_ids = np.array([int(id_) for id_ in sec_ids]) # Only for the organisms for which the IDs are integers. \n",
    "with open(os.path.join(VAL_DIR, organism, 'sec_linregs.pkl'), 'rb') as f:\n",
    "    sec_linregs = pickle.load(f)"
   ]
  },
  {
   "cell_type": "code",
   "execution_count": null,
   "metadata": {},
   "outputs": [
    {
     "name": "stderr",
     "output_type": "stream",
     "text": [
      "load_fbseqs: 100%|██████████| 4/4 [00:00<00:00, 17.61it/s]\n"
     ]
    }
   ],
   "source": [
    "sec_fbseqs = load_fbseqs(metadata_df, fitness_df, t_values_df=t_values_df, genome_df=genome_df, use_ids=sec_ids)\n",
    "sec_fbseqs_extended = [fbseq.extend() for fbseq in sec_fbseqs]\n",
    "sec_fbseqs_extension = [fbseq.extension() for fbseq in sec_fbseqs_extended]"
   ]
  },
  {
   "cell_type": "code",
   "execution_count": null,
   "metadata": {},
   "outputs": [],
   "source": [
    "# for fbseq, fbseq_extended in zip(sec_fbseqs, sec_fbseqs_extended):\n",
    "#     print(fbseq.id_)\n",
    "#     # print(f'Overlap in non-extended sequence:', fbseq.overlap()) # Confirmed that these were all zero. \n",
    "#     print(f'Overlap in extended sequence:', fbseq_extended.overlap())\n",
    "#     print(f'Extension length:', len(fbseq_extended) - len(fbseq))\n",
    "#     if fbseq_extended.overlap() > 0:\n",
    "#         print(f'Overlap with {fbseq.next().id_} {fbseq.next().desc} of length {len(fbseq.next())}')\n",
    "#     print()"
   ]
  },
  {
   "cell_type": "code",
   "execution_count": null,
   "metadata": {},
   "outputs": [
    {
     "name": "stdout",
     "output_type": "stream",
     "text": [
      "Ac3H11_45 0.4376463549879728\n",
      "Ac3H11_2713 0.06619719234485837\n",
      "Ac3H11_3311 0.05465702995489077\n",
      "Ac3H11_3538 0.14983860248553924\n"
     ]
    }
   ],
   "source": [
    "for id_, cofitness in zip(sec_ids, sec_cofitness):\n",
    "    print(id_, cofitness)"
   ]
  },
  {
   "cell_type": "code",
   "execution_count": null,
   "metadata": {},
   "outputs": [
    {
     "data": {
      "image/png": "[encoded data removed]",
      "text/plain": [
       "<Figure size 640x480 with 1 Axes>"
      ]
     },
     "metadata": {},
     "output_type": "display_data"
    }
   ],
   "source": [
    "def plot_cofitness(id_:str):\n",
    "\n",
    "    fig, ax = plt.subplots()\n",
    "\n",
    "    x_vals = np.linspace(-4, 4, 50)\n",
    "\n",
    "    for i, linreg in enumerate(negative_control_linregs):\n",
    "        # fbseq = FitnessBrowserSequence.from_cseq(negative_control_cseqs[i], fitness_df, t_values_df=t_values_df)\n",
    "        # fbseq_extension = FitnessBrowserSequence.from_cseq(negative_control_cseqs_extension[i], fitness_df, t_values_df=t_values_df)\n",
    "\n",
    "        # ax.scatter(fbseq.mean(), fbseq_extension.mean(), color='gray', alpha=0.2, s=2)\n",
    "        ax.plot(x_vals, x_vals * linreg.slope + linreg.intercept, color='gray', alpha=0.2, lw=0.7, zorder=1)\n",
    "\n",
    "    # i = np.where(positive_control_ids == id_)[0].item()\n",
    "    # positive_control_linreg = positive_control_linregs[i]\n",
    "    # positive_control_cseq_left, positive_control_cseq_right = positive_control_cseqs_split[i]\n",
    "    # positive_control_fbseq_left = FitnessBrowserSequence.from_cseq(positive_control_cseq_left, fitness_df, t_values_df=t_values_df) \n",
    "    # positive_control_fbseq_right = FitnessBrowserSequence.from_cseq(positive_control_cseq_right, fitness_df, t_values_df=t_values_df) \n",
    "    # ax.scatter(positive_control_fbseq_left.mean(), positive_control_fbseq_right.mean(), color='black', alpha=0.5)\n",
    "    # ax.plot(x_vals, x_vals * linreg.slope + linreg.intercept, color='black')\n",
    "    i = np.where(sec_ids == id_)[0].item()\n",
    "    sec_linreg = sec_linregs[i]\n",
    "    sec_fbseq = sec_fbseqs[i]\n",
    "    sec_fbseq_extension = sec_fbseqs_extension[i]\n",
    "    ax.scatter(sec_fbseq.mean(), sec_fbseq_extension.mean(), color='blue', alpha=0.5, zorder=3)\n",
    "    ax.plot(x_vals, x_vals * sec_linreg.slope + sec_linreg.intercept, color='blue', zorder=2)\n",
    "\n",
    "    ax.set_xlabel('in-gene fitness')\n",
    "    ax.set_ylabel('extension region fitness')\n",
    "    ax.set_title(f'cofitness for gene {id_}')\n",
    "\n",
    "\n",
    "plot_cofitness('Ac3H11_45')\n",
    "\n",
    "# There do seem to be some outliers in the slopes. I wonder if we should be using \"distance from a slope of 1\" as\n",
    "# the metric, as a one-to-one correspondence should probably be the target. Also, there do seem to be \n",
    "# outliers in the negative control cofitness values -- perhaps the extension region is overlapping another gene?\n",
    "# Maybe I should remove these cases as well, and make sure the flagged selenoproteins are also not overlapping."
   ]
  },
  {
   "cell_type": "code",
   "execution_count": null,
   "metadata": {},
   "outputs": [],
   "source": [
    "def get_p_value(id_):\n",
    "    '''Compute the significance of the cofitness value considering the distribution of negative control \n",
    "    cofitness values. These are correlation coefficients, so no need to use a pivotal test statistic.''' \n",
    "    negative_control_cofitness = np.loadtxt(os.path.join(VAL_DIR, organism, 'negative_control_cofitness.csv'), dtype=float)\n",
    "    sec_cofitness = np.loadtxt(os.path.join(VAL_DIR, organism, 'sec_cofitness.csv'), dtype=float)\n",
    "    sec_ids = np.loadtxt(os.path.join(VAL_DIR, organism, 'sec_ids.csv'), dtype=str)\n",
    "    #sec_ids = np.array([int(id_) for id_ in sec_ids]) # Only for the organisms for which the IDs are integers. \n",
    "\n",
    "    cofitness = sec_cofitness[sec_ids == id_] # Get the cofitness score for the specified locus. \n",
    "\n",
    "    p = np.sum(negative_control_cofitness > cofitness) # Get the number of cofitness values more extreme than that of the predicted selenoprotein. \n",
    "    p = p / (len(negative_control_cofitness))\n",
    "    return p"
   ]
  },
  {
   "cell_type": "code",
   "execution_count": null,
   "metadata": {},
   "outputs": [
    {
     "name": "stdout",
     "output_type": "stream",
     "text": [
      "Initial overlaps: 1\n",
      "Size of extension: 111\n",
      "Overlaps after extension: 1\n",
      "Overlaps with: Ac3H11_44\n",
      "Size of overlap: 30\n"
     ]
    }
   ],
   "source": [
    "# Looking in to some of the outliers in the negative control sequences... Ac3H11_1734\n",
    "\n",
    "fbseq = FitnessBrowserSequence('Ac3H11_45', metadata_df, fitness_df, genome_df=genome_df, t_values_df=t_values_df, low_memory=False)\n",
    "print('Initial overlaps:', len(fbseq.overlaps)) # No overlaps initially.\n",
    "fbseq_extended = fbseq.extend()\n",
    "print('Size of extension:', fbseq_extended.ext_length)\n",
    "print('Overlaps after extension:', len(fbseq_extended.overlaps)) # No overlaps initially.\n",
    "print('Overlaps with:', fbseq_extended.overlaps[0].id_)\n",
    "print('Size of overlap:', fbseq_extended.overlap(fbseq_extended.overlaps[0]))"
   ]
  },
  {
   "cell_type": "code",
   "execution_count": null,
   "metadata": {},
   "outputs": [
    {
     "data": {
      "text/plain": [
       "0.18571428571428572"
      ]
     },
     "execution_count": 25,
     "metadata": {},
     "output_type": "execute_result"
    }
   ],
   "source": [
    "get_p_value('Ac3H11_45')"
   ]
  },
  {
   "cell_type": "code",
   "execution_count": null,
   "metadata": {},
   "outputs": [
    {
     "data": {
      "text/plain": [
       "(0.8062105961437273,\n",
       " LinregressResult(slope=0.8381500412401482, intercept=0.1252242369835121, rvalue=0.8062105961437273, pvalue=2.9234837557689997e-33, stderr=0.05235798590994237, intercept_stderr=0.036586148038377585))"
      ]
     },
     "execution_count": 81,
     "metadata": {},
     "output_type": "execute_result"
    }
   ],
   "source": [
    "fbseq_45 = FitnessBrowserSequence('Ac3H11_45', metadata_df, fitness_df, genome_df=genome_df, t_values_df=t_values_df, low_memory=False)\n",
    "fbseq_44 = FitnessBrowserSequence('Ac3H11_44', metadata_df, fitness_df, genome_df=genome_df, t_values_df=t_values_df, low_memory=False)\n",
    "\n",
    "fbseq_45.cofitness(fbseq_44)"
   ]
  },
  {
   "cell_type": "code",
   "execution_count": null,
   "metadata": {},
   "outputs": [],
   "source": [
    "# TODO: Try splitting up in-gene observations and seeing if there is any correlation with those.\n",
    "# TODO: In an attempt to reduce noise, try filtering using t-values. \n",
    "# TODO: Some kind of interference score to quantify how much of the downstream region is occupied by another gene.\n",
    "# TODO: Compare to in-gene fitness values.\n",
    "# TODO: Color-code experiment observations by category. \n",
    "# TODO: Maybe consider using the number of transposon mutations in the downstream region as a way to indicate if a region is useful?\n",
    "# TODO: Maybe compare stop codon usage among hits to stop codon usage across the genome?"
   ]
  },
  {
   "cell_type": "code",
   "execution_count": null,
   "metadata": {},
   "outputs": [],
   "source": [
    "\n",
    "# positive_control_ids, positive_control_cofitness, positive_control_linregs = [], [], []\n",
    "\n",
    "# # Iterate over all predicted selenoproteins.\n",
    "# pbar = tqdm(predictions_df[predictions_df.prediction == 1]['id'].values, desc='Filtering ContextSequences...')\n",
    "# for id_ in pbar:\n",
    "#     cseq = ContextSequence(id_, metadata_df=metadata_df, genome_df=genome_df)\n",
    "#     left_cseq, right_cseq = cseq.split() # Split the gene in two. \n",
    "#     # Convert to FitnessBrowserSequence objects to compute cofitness. \n",
    "#     left_fbseq = FitnessBrowserSequence.from_cseq(left_cseq, fitness_df, t_values_df=t_values_df)\n",
    "#     right_fbseq = FitnessBrowserSequence.from_cseq(right_cseq, fitness_df, t_values_df=t_values_df)\n",
    "\n",
    "#     if (left_fbseq.t_values is not None) and (right_fbseq.t_values is not None):\n",
    "#         # has_significant_phenotype = fbseq.significance() > 0\n",
    "#         # print('has_significant_phenotype:', has_significant_phenotype)\n",
    "#         has_hits_in_both_regions = (right_fbseq.hits() > 0) and (left_fbseq.hits() > 0)\n",
    "\n",
    "#         if has_hits_in_both_regions:\n",
    "#             positive_control_ids.append(id_) \n",
    "#             cofitness, linreg = left_fbseq.cofitness(right_fbseq)\n",
    "#             positive_control_cofitness.append(cofitness)\n",
    "#             positive_control_linregs.append(linreg)\n",
    "\n",
    "#     pbar.set_description(f'Filtering ContextSequences... {len(positive_control_ids)} in final list.')\n",
    "\n",
    "\n",
    "# print('Saving positive_control_ids to', os.path.join(VAL_DIR, organism, 'positive_control_ids.csv'))\n",
    "# np.savetxt(os.path.join(VAL_DIR, organism, 'positive_control_ids.csv'), positive_control_ids, delimiter=',', fmt='%s')\n",
    "# sec_ids = np.loadtxt(os.path.join(VAL_DIR, organism, 'positive_control_ids.csv'), dtype=str)\n",
    "\n",
    "# print('Saving positive_control_linregs to', os.path.join(VAL_DIR, organism, 'positive_control_linregs.pkl'))\n",
    "# with open(os.path.join(VAL_DIR, organism, 'positive_control_linregs.pkl'), 'wb') as f:\n",
    "#     pickle.dump(positive_control_linregs, f)\n",
    "\n",
    "# print('Saving positive_control_cofitness to', os.path.join(VAL_DIR, organism, 'positive_control_cofitness.csv'))\n",
    "# np.savetxt(os.path.join(VAL_DIR, organism, 'positive_control_cofitness.csv'), positive_control_cofitness, delimiter=',')\n",
    "# sec_cofitness = np.loadtxt(os.path.join(VAL_DIR, organism, 'positive_control_cofitness.csv'), dtype=float)"
   ]
  },
  {
   "cell_type": "code",
   "execution_count": null,
   "metadata": {},
   "outputs": [],
   "source": []
  },
  {
   "cell_type": "code",
   "execution_count": null,
   "metadata": {},
   "outputs": [],
   "source": []
  },
  {
   "cell_type": "code",
   "execution_count": null,
   "metadata": {},
   "outputs": [],
   "source": []
  }
 ],
 "metadata": {
  "kernelspec": {
   "display_name": "selenobot",
   "language": "python",
   "name": "python3"
  },
  "language_info": {
   "codemirror_mode": {
    "name": "ipython",
    "version": 3
   },
   "file_extension": ".py",
   "mimetype": "text/x-python",
   "name": "python",
   "nbconvert_exporter": "python",
   "pygments_lexer": "ipython3",
   "version": "3.9.18"
  }
 },
 "nbformat": 4,
 "nbformat_minor": 2
}
